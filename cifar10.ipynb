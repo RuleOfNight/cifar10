{
  "nbformat": 4,
  "nbformat_minor": 0,
  "metadata": {
    "colab": {
      "provenance": [],
      "gpuType": "T4",
      "include_colab_link": true
    },
    "kernelspec": {
      "name": "python3",
      "display_name": "Python 3"
    },
    "language_info": {
      "name": "python"
    },
    "widgets": {
      "application/vnd.jupyter.widget-state+json": {
        "8eb410857c424837a9d3224c7f0b17c3": {
          "model_module": "@jupyter-widgets/controls",
          "model_name": "HBoxModel",
          "model_module_version": "1.5.0",
          "state": {
            "_dom_classes": [],
            "_model_module": "@jupyter-widgets/controls",
            "_model_module_version": "1.5.0",
            "_model_name": "HBoxModel",
            "_view_count": null,
            "_view_module": "@jupyter-widgets/controls",
            "_view_module_version": "1.5.0",
            "_view_name": "HBoxView",
            "box_style": "",
            "children": [
              "IPY_MODEL_f38d6ef5c6b340939fcba1ac641dc1f0",
              "IPY_MODEL_e638d383a2f7436dadd994718e2d26d7",
              "IPY_MODEL_715b0cfc5bf4462eb7cc1b3b5f5bc654"
            ],
            "layout": "IPY_MODEL_b4e14470859f4cd09c6d9271bb1a27bf"
          }
        },
        "f38d6ef5c6b340939fcba1ac641dc1f0": {
          "model_module": "@jupyter-widgets/controls",
          "model_name": "HTMLModel",
          "model_module_version": "1.5.0",
          "state": {
            "_dom_classes": [],
            "_model_module": "@jupyter-widgets/controls",
            "_model_module_version": "1.5.0",
            "_model_name": "HTMLModel",
            "_view_count": null,
            "_view_module": "@jupyter-widgets/controls",
            "_view_module_version": "1.5.0",
            "_view_name": "HTMLView",
            "description": "",
            "description_tooltip": null,
            "layout": "IPY_MODEL_5df3d0be7b834196aad0c12738133c62",
            "placeholder": "​",
            "style": "IPY_MODEL_f0a4c78172f047269890fa8c617b4a8c",
            "value": "  0%"
          }
        },
        "e638d383a2f7436dadd994718e2d26d7": {
          "model_module": "@jupyter-widgets/controls",
          "model_name": "FloatProgressModel",
          "model_module_version": "1.5.0",
          "state": {
            "_dom_classes": [],
            "_model_module": "@jupyter-widgets/controls",
            "_model_module_version": "1.5.0",
            "_model_name": "FloatProgressModel",
            "_view_count": null,
            "_view_module": "@jupyter-widgets/controls",
            "_view_module_version": "1.5.0",
            "_view_name": "ProgressView",
            "bar_style": "danger",
            "description": "",
            "description_tooltip": null,
            "layout": "IPY_MODEL_c4f0a3e826ad49e182e0fa3e6030199e",
            "max": 3125,
            "min": 0,
            "orientation": "horizontal",
            "style": "IPY_MODEL_bd5f1d38218f445cb88bab59244dccd2",
            "value": 0
          }
        },
        "715b0cfc5bf4462eb7cc1b3b5f5bc654": {
          "model_module": "@jupyter-widgets/controls",
          "model_name": "HTMLModel",
          "model_module_version": "1.5.0",
          "state": {
            "_dom_classes": [],
            "_model_module": "@jupyter-widgets/controls",
            "_model_module_version": "1.5.0",
            "_model_name": "HTMLModel",
            "_view_count": null,
            "_view_module": "@jupyter-widgets/controls",
            "_view_module_version": "1.5.0",
            "_view_name": "HTMLView",
            "description": "",
            "description_tooltip": null,
            "layout": "IPY_MODEL_368924be36824caeaaa7e24ef4d542e2",
            "placeholder": "​",
            "style": "IPY_MODEL_071c5374ea5847949f6955f266008d5c",
            "value": " 0/3125 [00:00&lt;?, ?it/s]"
          }
        },
        "b4e14470859f4cd09c6d9271bb1a27bf": {
          "model_module": "@jupyter-widgets/base",
          "model_name": "LayoutModel",
          "model_module_version": "1.2.0",
          "state": {
            "_model_module": "@jupyter-widgets/base",
            "_model_module_version": "1.2.0",
            "_model_name": "LayoutModel",
            "_view_count": null,
            "_view_module": "@jupyter-widgets/base",
            "_view_module_version": "1.2.0",
            "_view_name": "LayoutView",
            "align_content": null,
            "align_items": null,
            "align_self": null,
            "border": null,
            "bottom": null,
            "display": null,
            "flex": null,
            "flex_flow": null,
            "grid_area": null,
            "grid_auto_columns": null,
            "grid_auto_flow": null,
            "grid_auto_rows": null,
            "grid_column": null,
            "grid_gap": null,
            "grid_row": null,
            "grid_template_areas": null,
            "grid_template_columns": null,
            "grid_template_rows": null,
            "height": null,
            "justify_content": null,
            "justify_items": null,
            "left": null,
            "margin": null,
            "max_height": null,
            "max_width": null,
            "min_height": null,
            "min_width": null,
            "object_fit": null,
            "object_position": null,
            "order": null,
            "overflow": null,
            "overflow_x": null,
            "overflow_y": null,
            "padding": null,
            "right": null,
            "top": null,
            "visibility": null,
            "width": null
          }
        },
        "5df3d0be7b834196aad0c12738133c62": {
          "model_module": "@jupyter-widgets/base",
          "model_name": "LayoutModel",
          "model_module_version": "1.2.0",
          "state": {
            "_model_module": "@jupyter-widgets/base",
            "_model_module_version": "1.2.0",
            "_model_name": "LayoutModel",
            "_view_count": null,
            "_view_module": "@jupyter-widgets/base",
            "_view_module_version": "1.2.0",
            "_view_name": "LayoutView",
            "align_content": null,
            "align_items": null,
            "align_self": null,
            "border": null,
            "bottom": null,
            "display": null,
            "flex": null,
            "flex_flow": null,
            "grid_area": null,
            "grid_auto_columns": null,
            "grid_auto_flow": null,
            "grid_auto_rows": null,
            "grid_column": null,
            "grid_gap": null,
            "grid_row": null,
            "grid_template_areas": null,
            "grid_template_columns": null,
            "grid_template_rows": null,
            "height": null,
            "justify_content": null,
            "justify_items": null,
            "left": null,
            "margin": null,
            "max_height": null,
            "max_width": null,
            "min_height": null,
            "min_width": null,
            "object_fit": null,
            "object_position": null,
            "order": null,
            "overflow": null,
            "overflow_x": null,
            "overflow_y": null,
            "padding": null,
            "right": null,
            "top": null,
            "visibility": null,
            "width": null
          }
        },
        "f0a4c78172f047269890fa8c617b4a8c": {
          "model_module": "@jupyter-widgets/controls",
          "model_name": "DescriptionStyleModel",
          "model_module_version": "1.5.0",
          "state": {
            "_model_module": "@jupyter-widgets/controls",
            "_model_module_version": "1.5.0",
            "_model_name": "DescriptionStyleModel",
            "_view_count": null,
            "_view_module": "@jupyter-widgets/base",
            "_view_module_version": "1.2.0",
            "_view_name": "StyleView",
            "description_width": ""
          }
        },
        "c4f0a3e826ad49e182e0fa3e6030199e": {
          "model_module": "@jupyter-widgets/base",
          "model_name": "LayoutModel",
          "model_module_version": "1.2.0",
          "state": {
            "_model_module": "@jupyter-widgets/base",
            "_model_module_version": "1.2.0",
            "_model_name": "LayoutModel",
            "_view_count": null,
            "_view_module": "@jupyter-widgets/base",
            "_view_module_version": "1.2.0",
            "_view_name": "LayoutView",
            "align_content": null,
            "align_items": null,
            "align_self": null,
            "border": null,
            "bottom": null,
            "display": null,
            "flex": null,
            "flex_flow": null,
            "grid_area": null,
            "grid_auto_columns": null,
            "grid_auto_flow": null,
            "grid_auto_rows": null,
            "grid_column": null,
            "grid_gap": null,
            "grid_row": null,
            "grid_template_areas": null,
            "grid_template_columns": null,
            "grid_template_rows": null,
            "height": null,
            "justify_content": null,
            "justify_items": null,
            "left": null,
            "margin": null,
            "max_height": null,
            "max_width": null,
            "min_height": null,
            "min_width": null,
            "object_fit": null,
            "object_position": null,
            "order": null,
            "overflow": null,
            "overflow_x": null,
            "overflow_y": null,
            "padding": null,
            "right": null,
            "top": null,
            "visibility": null,
            "width": null
          }
        },
        "bd5f1d38218f445cb88bab59244dccd2": {
          "model_module": "@jupyter-widgets/controls",
          "model_name": "ProgressStyleModel",
          "model_module_version": "1.5.0",
          "state": {
            "_model_module": "@jupyter-widgets/controls",
            "_model_module_version": "1.5.0",
            "_model_name": "ProgressStyleModel",
            "_view_count": null,
            "_view_module": "@jupyter-widgets/base",
            "_view_module_version": "1.2.0",
            "_view_name": "StyleView",
            "bar_color": null,
            "description_width": ""
          }
        },
        "368924be36824caeaaa7e24ef4d542e2": {
          "model_module": "@jupyter-widgets/base",
          "model_name": "LayoutModel",
          "model_module_version": "1.2.0",
          "state": {
            "_model_module": "@jupyter-widgets/base",
            "_model_module_version": "1.2.0",
            "_model_name": "LayoutModel",
            "_view_count": null,
            "_view_module": "@jupyter-widgets/base",
            "_view_module_version": "1.2.0",
            "_view_name": "LayoutView",
            "align_content": null,
            "align_items": null,
            "align_self": null,
            "border": null,
            "bottom": null,
            "display": null,
            "flex": null,
            "flex_flow": null,
            "grid_area": null,
            "grid_auto_columns": null,
            "grid_auto_flow": null,
            "grid_auto_rows": null,
            "grid_column": null,
            "grid_gap": null,
            "grid_row": null,
            "grid_template_areas": null,
            "grid_template_columns": null,
            "grid_template_rows": null,
            "height": null,
            "justify_content": null,
            "justify_items": null,
            "left": null,
            "margin": null,
            "max_height": null,
            "max_width": null,
            "min_height": null,
            "min_width": null,
            "object_fit": null,
            "object_position": null,
            "order": null,
            "overflow": null,
            "overflow_x": null,
            "overflow_y": null,
            "padding": null,
            "right": null,
            "top": null,
            "visibility": null,
            "width": null
          }
        },
        "071c5374ea5847949f6955f266008d5c": {
          "model_module": "@jupyter-widgets/controls",
          "model_name": "DescriptionStyleModel",
          "model_module_version": "1.5.0",
          "state": {
            "_model_module": "@jupyter-widgets/controls",
            "_model_module_version": "1.5.0",
            "_model_name": "DescriptionStyleModel",
            "_view_count": null,
            "_view_module": "@jupyter-widgets/base",
            "_view_module_version": "1.2.0",
            "_view_name": "StyleView",
            "description_width": ""
          }
        },
        "eb1f47aced3e4053bf05eaae61e877eb": {
          "model_module": "@jupyter-widgets/controls",
          "model_name": "HBoxModel",
          "model_module_version": "1.5.0",
          "state": {
            "_dom_classes": [],
            "_model_module": "@jupyter-widgets/controls",
            "_model_module_version": "1.5.0",
            "_model_name": "HBoxModel",
            "_view_count": null,
            "_view_module": "@jupyter-widgets/controls",
            "_view_module_version": "1.5.0",
            "_view_name": "HBoxView",
            "box_style": "",
            "children": [
              "IPY_MODEL_0abed2e7dd5a48f596b96314b7dbf431",
              "IPY_MODEL_78a55484ae9f471482293c29258fd9aa",
              "IPY_MODEL_385bcc0bc1e64aa4a89a1f7c881dca67"
            ],
            "layout": "IPY_MODEL_9744c028828840049418477a02193d3c"
          }
        },
        "0abed2e7dd5a48f596b96314b7dbf431": {
          "model_module": "@jupyter-widgets/controls",
          "model_name": "HTMLModel",
          "model_module_version": "1.5.0",
          "state": {
            "_dom_classes": [],
            "_model_module": "@jupyter-widgets/controls",
            "_model_module_version": "1.5.0",
            "_model_name": "HTMLModel",
            "_view_count": null,
            "_view_module": "@jupyter-widgets/controls",
            "_view_module_version": "1.5.0",
            "_view_name": "HTMLView",
            "description": "",
            "description_tooltip": null,
            "layout": "IPY_MODEL_595514346fb144099b4088b5a8ac2585",
            "placeholder": "​",
            "style": "IPY_MODEL_b95593d0f73d4274bcee3f87d3eb2d0e",
            "value": "100%"
          }
        },
        "78a55484ae9f471482293c29258fd9aa": {
          "model_module": "@jupyter-widgets/controls",
          "model_name": "FloatProgressModel",
          "model_module_version": "1.5.0",
          "state": {
            "_dom_classes": [],
            "_model_module": "@jupyter-widgets/controls",
            "_model_module_version": "1.5.0",
            "_model_name": "FloatProgressModel",
            "_view_count": null,
            "_view_module": "@jupyter-widgets/controls",
            "_view_module_version": "1.5.0",
            "_view_name": "ProgressView",
            "bar_style": "success",
            "description": "",
            "description_tooltip": null,
            "layout": "IPY_MODEL_24ade73f978f49be8ccce47bc85d40d1",
            "max": 3,
            "min": 0,
            "orientation": "horizontal",
            "style": "IPY_MODEL_9e89a2a5a827439292c128ebf82b62f2",
            "value": 3
          }
        },
        "385bcc0bc1e64aa4a89a1f7c881dca67": {
          "model_module": "@jupyter-widgets/controls",
          "model_name": "HTMLModel",
          "model_module_version": "1.5.0",
          "state": {
            "_dom_classes": [],
            "_model_module": "@jupyter-widgets/controls",
            "_model_module_version": "1.5.0",
            "_model_name": "HTMLModel",
            "_view_count": null,
            "_view_module": "@jupyter-widgets/controls",
            "_view_module_version": "1.5.0",
            "_view_name": "HTMLView",
            "description": "",
            "description_tooltip": null,
            "layout": "IPY_MODEL_868321c3f9cf4c8aa1e4f5ad06a69831",
            "placeholder": "​",
            "style": "IPY_MODEL_8148a84bc29c4060bc78e062cde68a58",
            "value": " 3/3 [02:34&lt;00:00, 51.51s/it]"
          }
        },
        "9744c028828840049418477a02193d3c": {
          "model_module": "@jupyter-widgets/base",
          "model_name": "LayoutModel",
          "model_module_version": "1.2.0",
          "state": {
            "_model_module": "@jupyter-widgets/base",
            "_model_module_version": "1.2.0",
            "_model_name": "LayoutModel",
            "_view_count": null,
            "_view_module": "@jupyter-widgets/base",
            "_view_module_version": "1.2.0",
            "_view_name": "LayoutView",
            "align_content": null,
            "align_items": null,
            "align_self": null,
            "border": null,
            "bottom": null,
            "display": null,
            "flex": null,
            "flex_flow": null,
            "grid_area": null,
            "grid_auto_columns": null,
            "grid_auto_flow": null,
            "grid_auto_rows": null,
            "grid_column": null,
            "grid_gap": null,
            "grid_row": null,
            "grid_template_areas": null,
            "grid_template_columns": null,
            "grid_template_rows": null,
            "height": null,
            "justify_content": null,
            "justify_items": null,
            "left": null,
            "margin": null,
            "max_height": null,
            "max_width": null,
            "min_height": null,
            "min_width": null,
            "object_fit": null,
            "object_position": null,
            "order": null,
            "overflow": null,
            "overflow_x": null,
            "overflow_y": null,
            "padding": null,
            "right": null,
            "top": null,
            "visibility": null,
            "width": null
          }
        },
        "595514346fb144099b4088b5a8ac2585": {
          "model_module": "@jupyter-widgets/base",
          "model_name": "LayoutModel",
          "model_module_version": "1.2.0",
          "state": {
            "_model_module": "@jupyter-widgets/base",
            "_model_module_version": "1.2.0",
            "_model_name": "LayoutModel",
            "_view_count": null,
            "_view_module": "@jupyter-widgets/base",
            "_view_module_version": "1.2.0",
            "_view_name": "LayoutView",
            "align_content": null,
            "align_items": null,
            "align_self": null,
            "border": null,
            "bottom": null,
            "display": null,
            "flex": null,
            "flex_flow": null,
            "grid_area": null,
            "grid_auto_columns": null,
            "grid_auto_flow": null,
            "grid_auto_rows": null,
            "grid_column": null,
            "grid_gap": null,
            "grid_row": null,
            "grid_template_areas": null,
            "grid_template_columns": null,
            "grid_template_rows": null,
            "height": null,
            "justify_content": null,
            "justify_items": null,
            "left": null,
            "margin": null,
            "max_height": null,
            "max_width": null,
            "min_height": null,
            "min_width": null,
            "object_fit": null,
            "object_position": null,
            "order": null,
            "overflow": null,
            "overflow_x": null,
            "overflow_y": null,
            "padding": null,
            "right": null,
            "top": null,
            "visibility": null,
            "width": null
          }
        },
        "b95593d0f73d4274bcee3f87d3eb2d0e": {
          "model_module": "@jupyter-widgets/controls",
          "model_name": "DescriptionStyleModel",
          "model_module_version": "1.5.0",
          "state": {
            "_model_module": "@jupyter-widgets/controls",
            "_model_module_version": "1.5.0",
            "_model_name": "DescriptionStyleModel",
            "_view_count": null,
            "_view_module": "@jupyter-widgets/base",
            "_view_module_version": "1.2.0",
            "_view_name": "StyleView",
            "description_width": ""
          }
        },
        "24ade73f978f49be8ccce47bc85d40d1": {
          "model_module": "@jupyter-widgets/base",
          "model_name": "LayoutModel",
          "model_module_version": "1.2.0",
          "state": {
            "_model_module": "@jupyter-widgets/base",
            "_model_module_version": "1.2.0",
            "_model_name": "LayoutModel",
            "_view_count": null,
            "_view_module": "@jupyter-widgets/base",
            "_view_module_version": "1.2.0",
            "_view_name": "LayoutView",
            "align_content": null,
            "align_items": null,
            "align_self": null,
            "border": null,
            "bottom": null,
            "display": null,
            "flex": null,
            "flex_flow": null,
            "grid_area": null,
            "grid_auto_columns": null,
            "grid_auto_flow": null,
            "grid_auto_rows": null,
            "grid_column": null,
            "grid_gap": null,
            "grid_row": null,
            "grid_template_areas": null,
            "grid_template_columns": null,
            "grid_template_rows": null,
            "height": null,
            "justify_content": null,
            "justify_items": null,
            "left": null,
            "margin": null,
            "max_height": null,
            "max_width": null,
            "min_height": null,
            "min_width": null,
            "object_fit": null,
            "object_position": null,
            "order": null,
            "overflow": null,
            "overflow_x": null,
            "overflow_y": null,
            "padding": null,
            "right": null,
            "top": null,
            "visibility": null,
            "width": null
          }
        },
        "9e89a2a5a827439292c128ebf82b62f2": {
          "model_module": "@jupyter-widgets/controls",
          "model_name": "ProgressStyleModel",
          "model_module_version": "1.5.0",
          "state": {
            "_model_module": "@jupyter-widgets/controls",
            "_model_module_version": "1.5.0",
            "_model_name": "ProgressStyleModel",
            "_view_count": null,
            "_view_module": "@jupyter-widgets/base",
            "_view_module_version": "1.2.0",
            "_view_name": "StyleView",
            "bar_color": null,
            "description_width": ""
          }
        },
        "868321c3f9cf4c8aa1e4f5ad06a69831": {
          "model_module": "@jupyter-widgets/base",
          "model_name": "LayoutModel",
          "model_module_version": "1.2.0",
          "state": {
            "_model_module": "@jupyter-widgets/base",
            "_model_module_version": "1.2.0",
            "_model_name": "LayoutModel",
            "_view_count": null,
            "_view_module": "@jupyter-widgets/base",
            "_view_module_version": "1.2.0",
            "_view_name": "LayoutView",
            "align_content": null,
            "align_items": null,
            "align_self": null,
            "border": null,
            "bottom": null,
            "display": null,
            "flex": null,
            "flex_flow": null,
            "grid_area": null,
            "grid_auto_columns": null,
            "grid_auto_flow": null,
            "grid_auto_rows": null,
            "grid_column": null,
            "grid_gap": null,
            "grid_row": null,
            "grid_template_areas": null,
            "grid_template_columns": null,
            "grid_template_rows": null,
            "height": null,
            "justify_content": null,
            "justify_items": null,
            "left": null,
            "margin": null,
            "max_height": null,
            "max_width": null,
            "min_height": null,
            "min_width": null,
            "object_fit": null,
            "object_position": null,
            "order": null,
            "overflow": null,
            "overflow_x": null,
            "overflow_y": null,
            "padding": null,
            "right": null,
            "top": null,
            "visibility": null,
            "width": null
          }
        },
        "8148a84bc29c4060bc78e062cde68a58": {
          "model_module": "@jupyter-widgets/controls",
          "model_name": "DescriptionStyleModel",
          "model_module_version": "1.5.0",
          "state": {
            "_model_module": "@jupyter-widgets/controls",
            "_model_module_version": "1.5.0",
            "_model_name": "DescriptionStyleModel",
            "_view_count": null,
            "_view_module": "@jupyter-widgets/base",
            "_view_module_version": "1.2.0",
            "_view_name": "StyleView",
            "description_width": ""
          }
        },
        "0479e13f770d4505bdd481cceb784d53": {
          "model_module": "@jupyter-widgets/controls",
          "model_name": "HBoxModel",
          "model_module_version": "1.5.0",
          "state": {
            "_dom_classes": [],
            "_model_module": "@jupyter-widgets/controls",
            "_model_module_version": "1.5.0",
            "_model_name": "HBoxModel",
            "_view_count": null,
            "_view_module": "@jupyter-widgets/controls",
            "_view_module_version": "1.5.0",
            "_view_name": "HBoxView",
            "box_style": "",
            "children": [
              "IPY_MODEL_1e08ff85ce9c44788304e5c94e0b08f6",
              "IPY_MODEL_4c62542646fd4bf88d24d71b838bab5f",
              "IPY_MODEL_22972acf2be7452282e53794145e2eeb"
            ],
            "layout": "IPY_MODEL_8113001478814344b15fbfc897177b8c"
          }
        },
        "1e08ff85ce9c44788304e5c94e0b08f6": {
          "model_module": "@jupyter-widgets/controls",
          "model_name": "HTMLModel",
          "model_module_version": "1.5.0",
          "state": {
            "_dom_classes": [],
            "_model_module": "@jupyter-widgets/controls",
            "_model_module_version": "1.5.0",
            "_model_name": "HTMLModel",
            "_view_count": null,
            "_view_module": "@jupyter-widgets/controls",
            "_view_module_version": "1.5.0",
            "_view_name": "HTMLView",
            "description": "",
            "description_tooltip": null,
            "layout": "IPY_MODEL_510ab2cf3919471fb5f9068ebf1ae3fb",
            "placeholder": "​",
            "style": "IPY_MODEL_914d98b71c9b4cfe8557ea7db979c86c",
            "value": "Making predictions: 100%"
          }
        },
        "4c62542646fd4bf88d24d71b838bab5f": {
          "model_module": "@jupyter-widgets/controls",
          "model_name": "FloatProgressModel",
          "model_module_version": "1.5.0",
          "state": {
            "_dom_classes": [],
            "_model_module": "@jupyter-widgets/controls",
            "_model_module_version": "1.5.0",
            "_model_name": "FloatProgressModel",
            "_view_count": null,
            "_view_module": "@jupyter-widgets/controls",
            "_view_module_version": "1.5.0",
            "_view_name": "ProgressView",
            "bar_style": "success",
            "description": "",
            "description_tooltip": null,
            "layout": "IPY_MODEL_0452c70485eb4fb380860d95f4384918",
            "max": 625,
            "min": 0,
            "orientation": "horizontal",
            "style": "IPY_MODEL_dfa46b5e0c5f474abe1921d20860fd47",
            "value": 625
          }
        },
        "22972acf2be7452282e53794145e2eeb": {
          "model_module": "@jupyter-widgets/controls",
          "model_name": "HTMLModel",
          "model_module_version": "1.5.0",
          "state": {
            "_dom_classes": [],
            "_model_module": "@jupyter-widgets/controls",
            "_model_module_version": "1.5.0",
            "_model_name": "HTMLModel",
            "_view_count": null,
            "_view_module": "@jupyter-widgets/controls",
            "_view_module_version": "1.5.0",
            "_view_name": "HTMLView",
            "description": "",
            "description_tooltip": null,
            "layout": "IPY_MODEL_6923fd7470554024a5adc91676c6aa13",
            "placeholder": "​",
            "style": "IPY_MODEL_d33268e2a4e340ad86c08dd16bb4e0c3",
            "value": " 625/625 [00:06&lt;00:00, 78.45it/s]"
          }
        },
        "8113001478814344b15fbfc897177b8c": {
          "model_module": "@jupyter-widgets/base",
          "model_name": "LayoutModel",
          "model_module_version": "1.2.0",
          "state": {
            "_model_module": "@jupyter-widgets/base",
            "_model_module_version": "1.2.0",
            "_model_name": "LayoutModel",
            "_view_count": null,
            "_view_module": "@jupyter-widgets/base",
            "_view_module_version": "1.2.0",
            "_view_name": "LayoutView",
            "align_content": null,
            "align_items": null,
            "align_self": null,
            "border": null,
            "bottom": null,
            "display": null,
            "flex": null,
            "flex_flow": null,
            "grid_area": null,
            "grid_auto_columns": null,
            "grid_auto_flow": null,
            "grid_auto_rows": null,
            "grid_column": null,
            "grid_gap": null,
            "grid_row": null,
            "grid_template_areas": null,
            "grid_template_columns": null,
            "grid_template_rows": null,
            "height": null,
            "justify_content": null,
            "justify_items": null,
            "left": null,
            "margin": null,
            "max_height": null,
            "max_width": null,
            "min_height": null,
            "min_width": null,
            "object_fit": null,
            "object_position": null,
            "order": null,
            "overflow": null,
            "overflow_x": null,
            "overflow_y": null,
            "padding": null,
            "right": null,
            "top": null,
            "visibility": null,
            "width": null
          }
        },
        "510ab2cf3919471fb5f9068ebf1ae3fb": {
          "model_module": "@jupyter-widgets/base",
          "model_name": "LayoutModel",
          "model_module_version": "1.2.0",
          "state": {
            "_model_module": "@jupyter-widgets/base",
            "_model_module_version": "1.2.0",
            "_model_name": "LayoutModel",
            "_view_count": null,
            "_view_module": "@jupyter-widgets/base",
            "_view_module_version": "1.2.0",
            "_view_name": "LayoutView",
            "align_content": null,
            "align_items": null,
            "align_self": null,
            "border": null,
            "bottom": null,
            "display": null,
            "flex": null,
            "flex_flow": null,
            "grid_area": null,
            "grid_auto_columns": null,
            "grid_auto_flow": null,
            "grid_auto_rows": null,
            "grid_column": null,
            "grid_gap": null,
            "grid_row": null,
            "grid_template_areas": null,
            "grid_template_columns": null,
            "grid_template_rows": null,
            "height": null,
            "justify_content": null,
            "justify_items": null,
            "left": null,
            "margin": null,
            "max_height": null,
            "max_width": null,
            "min_height": null,
            "min_width": null,
            "object_fit": null,
            "object_position": null,
            "order": null,
            "overflow": null,
            "overflow_x": null,
            "overflow_y": null,
            "padding": null,
            "right": null,
            "top": null,
            "visibility": null,
            "width": null
          }
        },
        "914d98b71c9b4cfe8557ea7db979c86c": {
          "model_module": "@jupyter-widgets/controls",
          "model_name": "DescriptionStyleModel",
          "model_module_version": "1.5.0",
          "state": {
            "_model_module": "@jupyter-widgets/controls",
            "_model_module_version": "1.5.0",
            "_model_name": "DescriptionStyleModel",
            "_view_count": null,
            "_view_module": "@jupyter-widgets/base",
            "_view_module_version": "1.2.0",
            "_view_name": "StyleView",
            "description_width": ""
          }
        },
        "0452c70485eb4fb380860d95f4384918": {
          "model_module": "@jupyter-widgets/base",
          "model_name": "LayoutModel",
          "model_module_version": "1.2.0",
          "state": {
            "_model_module": "@jupyter-widgets/base",
            "_model_module_version": "1.2.0",
            "_model_name": "LayoutModel",
            "_view_count": null,
            "_view_module": "@jupyter-widgets/base",
            "_view_module_version": "1.2.0",
            "_view_name": "LayoutView",
            "align_content": null,
            "align_items": null,
            "align_self": null,
            "border": null,
            "bottom": null,
            "display": null,
            "flex": null,
            "flex_flow": null,
            "grid_area": null,
            "grid_auto_columns": null,
            "grid_auto_flow": null,
            "grid_auto_rows": null,
            "grid_column": null,
            "grid_gap": null,
            "grid_row": null,
            "grid_template_areas": null,
            "grid_template_columns": null,
            "grid_template_rows": null,
            "height": null,
            "justify_content": null,
            "justify_items": null,
            "left": null,
            "margin": null,
            "max_height": null,
            "max_width": null,
            "min_height": null,
            "min_width": null,
            "object_fit": null,
            "object_position": null,
            "order": null,
            "overflow": null,
            "overflow_x": null,
            "overflow_y": null,
            "padding": null,
            "right": null,
            "top": null,
            "visibility": null,
            "width": null
          }
        },
        "dfa46b5e0c5f474abe1921d20860fd47": {
          "model_module": "@jupyter-widgets/controls",
          "model_name": "ProgressStyleModel",
          "model_module_version": "1.5.0",
          "state": {
            "_model_module": "@jupyter-widgets/controls",
            "_model_module_version": "1.5.0",
            "_model_name": "ProgressStyleModel",
            "_view_count": null,
            "_view_module": "@jupyter-widgets/base",
            "_view_module_version": "1.2.0",
            "_view_name": "StyleView",
            "bar_color": null,
            "description_width": ""
          }
        },
        "6923fd7470554024a5adc91676c6aa13": {
          "model_module": "@jupyter-widgets/base",
          "model_name": "LayoutModel",
          "model_module_version": "1.2.0",
          "state": {
            "_model_module": "@jupyter-widgets/base",
            "_model_module_version": "1.2.0",
            "_model_name": "LayoutModel",
            "_view_count": null,
            "_view_module": "@jupyter-widgets/base",
            "_view_module_version": "1.2.0",
            "_view_name": "LayoutView",
            "align_content": null,
            "align_items": null,
            "align_self": null,
            "border": null,
            "bottom": null,
            "display": null,
            "flex": null,
            "flex_flow": null,
            "grid_area": null,
            "grid_auto_columns": null,
            "grid_auto_flow": null,
            "grid_auto_rows": null,
            "grid_column": null,
            "grid_gap": null,
            "grid_row": null,
            "grid_template_areas": null,
            "grid_template_columns": null,
            "grid_template_rows": null,
            "height": null,
            "justify_content": null,
            "justify_items": null,
            "left": null,
            "margin": null,
            "max_height": null,
            "max_width": null,
            "min_height": null,
            "min_width": null,
            "object_fit": null,
            "object_position": null,
            "order": null,
            "overflow": null,
            "overflow_x": null,
            "overflow_y": null,
            "padding": null,
            "right": null,
            "top": null,
            "visibility": null,
            "width": null
          }
        },
        "d33268e2a4e340ad86c08dd16bb4e0c3": {
          "model_module": "@jupyter-widgets/controls",
          "model_name": "DescriptionStyleModel",
          "model_module_version": "1.5.0",
          "state": {
            "_model_module": "@jupyter-widgets/controls",
            "_model_module_version": "1.5.0",
            "_model_name": "DescriptionStyleModel",
            "_view_count": null,
            "_view_module": "@jupyter-widgets/base",
            "_view_module_version": "1.2.0",
            "_view_name": "StyleView",
            "description_width": ""
          }
        },
        "0e73163e5bc74fe1bd2b3ba6f51590d3": {
          "model_module": "@jupyter-widgets/controls",
          "model_name": "HBoxModel",
          "model_module_version": "1.5.0",
          "state": {
            "_dom_classes": [],
            "_model_module": "@jupyter-widgets/controls",
            "_model_module_version": "1.5.0",
            "_model_name": "HBoxModel",
            "_view_count": null,
            "_view_module": "@jupyter-widgets/controls",
            "_view_module_version": "1.5.0",
            "_view_name": "HBoxView",
            "box_style": "",
            "children": [
              "IPY_MODEL_13feade8f94149cf86178c79338481e2",
              "IPY_MODEL_15648caef48f49b499ba80dbcea59292",
              "IPY_MODEL_254080563750433a8b5e181894e968ee"
            ],
            "layout": "IPY_MODEL_093f982d06ec44589774e9a1825498f1"
          }
        },
        "13feade8f94149cf86178c79338481e2": {
          "model_module": "@jupyter-widgets/controls",
          "model_name": "HTMLModel",
          "model_module_version": "1.5.0",
          "state": {
            "_dom_classes": [],
            "_model_module": "@jupyter-widgets/controls",
            "_model_module_version": "1.5.0",
            "_model_name": "HTMLModel",
            "_view_count": null,
            "_view_module": "@jupyter-widgets/controls",
            "_view_module_version": "1.5.0",
            "_view_name": "HTMLView",
            "description": "",
            "description_tooltip": null,
            "layout": "IPY_MODEL_15c9b7af9fd646219d9a8862326ac141",
            "placeholder": "​",
            "style": "IPY_MODEL_2eef4f1fe50d4eaab22be5949d32fd9c",
            "value": "100%"
          }
        },
        "15648caef48f49b499ba80dbcea59292": {
          "model_module": "@jupyter-widgets/controls",
          "model_name": "FloatProgressModel",
          "model_module_version": "1.5.0",
          "state": {
            "_dom_classes": [],
            "_model_module": "@jupyter-widgets/controls",
            "_model_module_version": "1.5.0",
            "_model_name": "FloatProgressModel",
            "_view_count": null,
            "_view_module": "@jupyter-widgets/controls",
            "_view_module_version": "1.5.0",
            "_view_name": "ProgressView",
            "bar_style": "success",
            "description": "",
            "description_tooltip": null,
            "layout": "IPY_MODEL_b6eb00f8b74043e1a885d529d489fa16",
            "max": 3,
            "min": 0,
            "orientation": "horizontal",
            "style": "IPY_MODEL_1eb8bbe5af334b64a7fcd9c6b6e6d829",
            "value": 3
          }
        },
        "254080563750433a8b5e181894e968ee": {
          "model_module": "@jupyter-widgets/controls",
          "model_name": "HTMLModel",
          "model_module_version": "1.5.0",
          "state": {
            "_dom_classes": [],
            "_model_module": "@jupyter-widgets/controls",
            "_model_module_version": "1.5.0",
            "_model_name": "HTMLModel",
            "_view_count": null,
            "_view_module": "@jupyter-widgets/controls",
            "_view_module_version": "1.5.0",
            "_view_name": "HTMLView",
            "description": "",
            "description_tooltip": null,
            "layout": "IPY_MODEL_3b2a66be1e65460bbccfcb3f59feffb0",
            "placeholder": "​",
            "style": "IPY_MODEL_c2eb750131a14d5099b7d0cc395634cd",
            "value": " 3/3 [02:24&lt;00:00, 48.01s/it]"
          }
        },
        "093f982d06ec44589774e9a1825498f1": {
          "model_module": "@jupyter-widgets/base",
          "model_name": "LayoutModel",
          "model_module_version": "1.2.0",
          "state": {
            "_model_module": "@jupyter-widgets/base",
            "_model_module_version": "1.2.0",
            "_model_name": "LayoutModel",
            "_view_count": null,
            "_view_module": "@jupyter-widgets/base",
            "_view_module_version": "1.2.0",
            "_view_name": "LayoutView",
            "align_content": null,
            "align_items": null,
            "align_self": null,
            "border": null,
            "bottom": null,
            "display": null,
            "flex": null,
            "flex_flow": null,
            "grid_area": null,
            "grid_auto_columns": null,
            "grid_auto_flow": null,
            "grid_auto_rows": null,
            "grid_column": null,
            "grid_gap": null,
            "grid_row": null,
            "grid_template_areas": null,
            "grid_template_columns": null,
            "grid_template_rows": null,
            "height": null,
            "justify_content": null,
            "justify_items": null,
            "left": null,
            "margin": null,
            "max_height": null,
            "max_width": null,
            "min_height": null,
            "min_width": null,
            "object_fit": null,
            "object_position": null,
            "order": null,
            "overflow": null,
            "overflow_x": null,
            "overflow_y": null,
            "padding": null,
            "right": null,
            "top": null,
            "visibility": null,
            "width": null
          }
        },
        "15c9b7af9fd646219d9a8862326ac141": {
          "model_module": "@jupyter-widgets/base",
          "model_name": "LayoutModel",
          "model_module_version": "1.2.0",
          "state": {
            "_model_module": "@jupyter-widgets/base",
            "_model_module_version": "1.2.0",
            "_model_name": "LayoutModel",
            "_view_count": null,
            "_view_module": "@jupyter-widgets/base",
            "_view_module_version": "1.2.0",
            "_view_name": "LayoutView",
            "align_content": null,
            "align_items": null,
            "align_self": null,
            "border": null,
            "bottom": null,
            "display": null,
            "flex": null,
            "flex_flow": null,
            "grid_area": null,
            "grid_auto_columns": null,
            "grid_auto_flow": null,
            "grid_auto_rows": null,
            "grid_column": null,
            "grid_gap": null,
            "grid_row": null,
            "grid_template_areas": null,
            "grid_template_columns": null,
            "grid_template_rows": null,
            "height": null,
            "justify_content": null,
            "justify_items": null,
            "left": null,
            "margin": null,
            "max_height": null,
            "max_width": null,
            "min_height": null,
            "min_width": null,
            "object_fit": null,
            "object_position": null,
            "order": null,
            "overflow": null,
            "overflow_x": null,
            "overflow_y": null,
            "padding": null,
            "right": null,
            "top": null,
            "visibility": null,
            "width": null
          }
        },
        "2eef4f1fe50d4eaab22be5949d32fd9c": {
          "model_module": "@jupyter-widgets/controls",
          "model_name": "DescriptionStyleModel",
          "model_module_version": "1.5.0",
          "state": {
            "_model_module": "@jupyter-widgets/controls",
            "_model_module_version": "1.5.0",
            "_model_name": "DescriptionStyleModel",
            "_view_count": null,
            "_view_module": "@jupyter-widgets/base",
            "_view_module_version": "1.2.0",
            "_view_name": "StyleView",
            "description_width": ""
          }
        },
        "b6eb00f8b74043e1a885d529d489fa16": {
          "model_module": "@jupyter-widgets/base",
          "model_name": "LayoutModel",
          "model_module_version": "1.2.0",
          "state": {
            "_model_module": "@jupyter-widgets/base",
            "_model_module_version": "1.2.0",
            "_model_name": "LayoutModel",
            "_view_count": null,
            "_view_module": "@jupyter-widgets/base",
            "_view_module_version": "1.2.0",
            "_view_name": "LayoutView",
            "align_content": null,
            "align_items": null,
            "align_self": null,
            "border": null,
            "bottom": null,
            "display": null,
            "flex": null,
            "flex_flow": null,
            "grid_area": null,
            "grid_auto_columns": null,
            "grid_auto_flow": null,
            "grid_auto_rows": null,
            "grid_column": null,
            "grid_gap": null,
            "grid_row": null,
            "grid_template_areas": null,
            "grid_template_columns": null,
            "grid_template_rows": null,
            "height": null,
            "justify_content": null,
            "justify_items": null,
            "left": null,
            "margin": null,
            "max_height": null,
            "max_width": null,
            "min_height": null,
            "min_width": null,
            "object_fit": null,
            "object_position": null,
            "order": null,
            "overflow": null,
            "overflow_x": null,
            "overflow_y": null,
            "padding": null,
            "right": null,
            "top": null,
            "visibility": null,
            "width": null
          }
        },
        "1eb8bbe5af334b64a7fcd9c6b6e6d829": {
          "model_module": "@jupyter-widgets/controls",
          "model_name": "ProgressStyleModel",
          "model_module_version": "1.5.0",
          "state": {
            "_model_module": "@jupyter-widgets/controls",
            "_model_module_version": "1.5.0",
            "_model_name": "ProgressStyleModel",
            "_view_count": null,
            "_view_module": "@jupyter-widgets/base",
            "_view_module_version": "1.2.0",
            "_view_name": "StyleView",
            "bar_color": null,
            "description_width": ""
          }
        },
        "3b2a66be1e65460bbccfcb3f59feffb0": {
          "model_module": "@jupyter-widgets/base",
          "model_name": "LayoutModel",
          "model_module_version": "1.2.0",
          "state": {
            "_model_module": "@jupyter-widgets/base",
            "_model_module_version": "1.2.0",
            "_model_name": "LayoutModel",
            "_view_count": null,
            "_view_module": "@jupyter-widgets/base",
            "_view_module_version": "1.2.0",
            "_view_name": "LayoutView",
            "align_content": null,
            "align_items": null,
            "align_self": null,
            "border": null,
            "bottom": null,
            "display": null,
            "flex": null,
            "flex_flow": null,
            "grid_area": null,
            "grid_auto_columns": null,
            "grid_auto_flow": null,
            "grid_auto_rows": null,
            "grid_column": null,
            "grid_gap": null,
            "grid_row": null,
            "grid_template_areas": null,
            "grid_template_columns": null,
            "grid_template_rows": null,
            "height": null,
            "justify_content": null,
            "justify_items": null,
            "left": null,
            "margin": null,
            "max_height": null,
            "max_width": null,
            "min_height": null,
            "min_width": null,
            "object_fit": null,
            "object_position": null,
            "order": null,
            "overflow": null,
            "overflow_x": null,
            "overflow_y": null,
            "padding": null,
            "right": null,
            "top": null,
            "visibility": null,
            "width": null
          }
        },
        "c2eb750131a14d5099b7d0cc395634cd": {
          "model_module": "@jupyter-widgets/controls",
          "model_name": "DescriptionStyleModel",
          "model_module_version": "1.5.0",
          "state": {
            "_model_module": "@jupyter-widgets/controls",
            "_model_module_version": "1.5.0",
            "_model_name": "DescriptionStyleModel",
            "_view_count": null,
            "_view_module": "@jupyter-widgets/base",
            "_view_module_version": "1.2.0",
            "_view_name": "StyleView",
            "description_width": ""
          }
        }
      }
    },
    "accelerator": "GPU"
  },
  "cells": [
    {
      "cell_type": "markdown",
      "metadata": {
        "id": "view-in-github",
        "colab_type": "text"
      },
      "source": [
        "<a href=\"https://colab.research.google.com/github/RuleOfNight/cifar10/blob/main/cifar10.ipynb\" target=\"_parent\"><img src=\"https://colab.research.google.com/assets/colab-badge.svg\" alt=\"Open In Colab\"/></a>"
      ]
    },
    {
      "cell_type": "code",
      "execution_count": null,
      "metadata": {
        "id": "QY0WzPDCuI7E"
      },
      "outputs": [],
      "source": [
        "import torch\n",
        "from torch import nn\n",
        "\n",
        "import torchvision\n",
        "from torchvision import datasets, transforms\n",
        "from torchvision.transforms import ToTensor\n",
        "from torch.utils.data import DataLoader\n",
        "\n",
        "import matplotlib.pyplot as plt"
      ]
    },
    {
      "cell_type": "markdown",
      "source": [
        "# Lấy data và dataloader"
      ],
      "metadata": {
        "id": "UJvSSk19O8ZR"
      }
    },
    {
      "cell_type": "code",
      "source": [
        "!git clone https://github.com/cyizhuo/CIFAR-10-dataset.git"
      ],
      "metadata": {
        "colab": {
          "base_uri": "https://localhost:8080/"
        },
        "id": "UbvSWHGNx7cz",
        "outputId": "36351cf0-1267-4fee-921b-99c060285677"
      },
      "execution_count": null,
      "outputs": [
        {
          "output_type": "stream",
          "name": "stdout",
          "text": [
            "fatal: destination path 'CIFAR-10-dataset' already exists and is not an empty directory.\n"
          ]
        }
      ]
    },
    {
      "cell_type": "code",
      "source": [
        "import os\n",
        "print(os.path.isdir('/content/CIFAR-10-dataset/train'))"
      ],
      "metadata": {
        "colab": {
          "base_uri": "https://localhost:8080/"
        },
        "id": "SVjzDFo2yXxv",
        "outputId": "c1f388f8-310b-4db2-e847-74f1e3b78eb0"
      },
      "execution_count": null,
      "outputs": [
        {
          "output_type": "stream",
          "name": "stdout",
          "text": [
            "True\n"
          ]
        }
      ]
    },
    {
      "cell_type": "code",
      "source": [
        "transform = transforms.Compose([\n",
        "    transforms.Resize((32, 32)),\n",
        "    transforms.ToTensor(),\n",
        "])\n",
        "\n",
        "train_data = datasets.ImageFolder(root='/content/CIFAR-10-dataset/train', transform=transform)\n",
        "train_dataloader = DataLoader(train_data, batch_size=16, shuffle=True)\n",
        "\n",
        "test_data = datasets.ImageFolder(root='/content/CIFAR-10-dataset/test', transform=transform)\n",
        "test_dataloader = DataLoader(test_data, batch_size=16, shuffle=True)"
      ],
      "metadata": {
        "id": "vRP6zTgax9Ov"
      },
      "execution_count": null,
      "outputs": []
    },
    {
      "cell_type": "code",
      "source": [
        "image, label = train_data[0]"
      ],
      "metadata": {
        "id": "GkgdCZod8TYJ"
      },
      "execution_count": null,
      "outputs": []
    },
    {
      "cell_type": "code",
      "source": [
        "print(image.shape)\n",
        "print(f\"color_channels = {image.shape[0]}, height = {image.shape[1]}, width = {image.shape[2]}\")"
      ],
      "metadata": {
        "colab": {
          "base_uri": "https://localhost:8080/"
        },
        "id": "qx4IyDnGySQ2",
        "outputId": "2bbb95b1-2ca8-4c64-a9ec-a15548bd51a8"
      },
      "execution_count": null,
      "outputs": [
        {
          "output_type": "stream",
          "name": "stdout",
          "text": [
            "torch.Size([3, 32, 32])\n",
            "color_channels = 3, height = 32, width = 32\n"
          ]
        }
      ]
    },
    {
      "cell_type": "code",
      "source": [
        "len(train_data), len(test_data), len(train_dataloader), len(test_dataloader)"
      ],
      "metadata": {
        "id": "R9r03q68zR9k",
        "colab": {
          "base_uri": "https://localhost:8080/"
        },
        "outputId": "7eaef759-d31a-4294-9f82-af5b1c37e1c1"
      },
      "execution_count": null,
      "outputs": [
        {
          "output_type": "execute_result",
          "data": {
            "text/plain": [
              "(50000, 10000, 3125, 625)"
            ]
          },
          "metadata": {},
          "execution_count": 49
        }
      ]
    },
    {
      "cell_type": "code",
      "source": [
        "class_names = train_data.classes\n",
        "class_names"
      ],
      "metadata": {
        "colab": {
          "base_uri": "https://localhost:8080/"
        },
        "id": "4f747JUe8G8i",
        "outputId": "9ab063e1-dcc9-4eac-9ce4-e6f0cc6b8d96"
      },
      "execution_count": null,
      "outputs": [
        {
          "output_type": "execute_result",
          "data": {
            "text/plain": [
              "['airplane',\n",
              " 'automobile',\n",
              " 'bird',\n",
              " 'cat',\n",
              " 'deer',\n",
              " 'dog',\n",
              " 'frog',\n",
              " 'horse',\n",
              " 'ship',\n",
              " 'truck']"
            ]
          },
          "metadata": {},
          "execution_count": 50
        }
      ]
    },
    {
      "cell_type": "code",
      "source": [
        "torch.manual_seed(42)\n",
        "# Lấy batch từ loader\n",
        "images, labels = next(iter(train_dataloader))\n",
        "\n",
        "\n",
        "num_images = 9\n",
        "images = images[:num_images]\n",
        "labels = labels[:num_images]\n",
        "\n",
        "\n",
        "fig, axes = plt.subplots(3, 3, figsize=(10, 10))\n",
        "\n",
        "axes = axes.flatten() # Chuyển ma trận axes thành mảng 1 chiều\n",
        "\n",
        "for i in range(num_images):\n",
        "    ax = axes[i]\n",
        "    # Lấy axes hiện tại để vẽ hình ảnh\n",
        "\n",
        "\n",
        "    image = images[i].numpy().transpose(1, 2, 0) # gpu -> cpu vì plt 0 hỗ trợ\n",
        "\n",
        "    ax.imshow(image)\n",
        "    ax.set_title(f\"Label: {train_data.classes[labels[i]]}\")\n",
        "    ax.axis(False)\n",
        "\n",
        "plt.tight_layout()\n",
        "plt.show()"
      ],
      "metadata": {
        "colab": {
          "base_uri": "https://localhost:8080/",
          "height": 695
        },
        "id": "VZRMYUa58fzU",
        "outputId": "cecb66ae-d2fe-4486-b438-f6f49e7f4a49"
      },
      "execution_count": null,
      "outputs": [
        {
          "output_type": "display_data",
          "data": {
            "text/plain": [
              "<Figure size 1000x1000 with 9 Axes>"
            ],
            "image/png": "[encoded data removed]"
          },
          "metadata": {}
        }
      ]
    },
    {
      "cell_type": "code",
      "source": [
        "print(f\"DataLoader: {train_dataloader}\")\n",
        "print(f\"Length of training dataloader: {len(train_dataloader)}\")\n",
        "print(f\"Length of test dataloader: {len(test_dataloader)}\")\n",
        "#"
      ],
      "metadata": {
        "id": "iZ9j9znF8qfV",
        "colab": {
          "base_uri": "https://localhost:8080/"
        },
        "outputId": "f29bdd9e-9b41-4391-ca06-c5f4c11b31a6"
      },
      "execution_count": null,
      "outputs": [
        {
          "output_type": "stream",
          "name": "stdout",
          "text": [
            "DataLoader: <torch.utils.data.dataloader.DataLoader object at 0x7eccfaa0c220>\n",
            "Length of training dataloader: 3125\n",
            "Length of test dataloader: 625\n"
          ]
        }
      ]
    },
    {
      "cell_type": "markdown",
      "source": [
        "# Tạo model resnet"
      ],
      "metadata": {
        "id": "5QtfmEIxPHno"
      }
    },
    {
      "cell_type": "markdown",
      "source": [
        "**Stateless Function**\n",
        "Không lưu trạng thái của mô hình như `inplace=True/False` giúp mô hình nhẹ và chạy nhanh hơn.\n",
        "<br>\n",
        "Tuy nhiên nó không hỗ trợ nếu muốn tái sử dụng trong nhiều phần của mô hình"
      ],
      "metadata": {
        "id": "BdVsvM9vdudD"
      }
    },
    {
      "cell_type": "code",
      "source": [
        "import torch.nn.functional as F\n",
        "device = torch.device(\"cuda\" if torch.cuda.is_available() else \"cpu\")"
      ],
      "metadata": {
        "id": "CqhijkzSdAze"
      },
      "execution_count": null,
      "outputs": []
    },
    {
      "cell_type": "markdown",
      "source": [
        "model resnet18 bình thường sử dụng lớp Convolution"
      ],
      "metadata": {
        "id": "zyp8t5O-PN6M"
      }
    },
    {
      "cell_type": "markdown",
      "source": [
        "```\n",
        "class ResidualBlock(nn.Module):\n",
        "    def __init__(self, in_channels, out_channels, stride=1, downsample=None):\n",
        "        super(ResidualBlock, self).__init__()\n",
        "        self.conv1 = nn.Conv2d(in_channels, out_channels, kernel_size=3, stride=stride, padding=1, bias=False)\n",
        "        self.bn1 = nn.BatchNorm2d(out_channels)\n",
        "        self.conv2 = nn.Conv2d(out_channels, out_channels, kernel_size=3, stride=1, padding=1, bias=False) # conv2 nhận kq từ conv1 nên stride=1, gồm 2 out\n",
        "        self.bn2 = nn.BatchNorm2d(out_channels)\n",
        "        self.downsample = downsample or(\n",
        "            nn.Sequential(\n",
        "                nn.Conv2d(in_channels, out_channels, kernel_size=1, stride=stride, bias=False),\n",
        "                nn.BatchNorm2d(out_channels),\n",
        "            )\n",
        "            if stride != 1 or in_channels != out_channels\n",
        "            else None\n",
        "        )\n",
        "\n",
        "    def forward(self, x):\n",
        "       # print(f\"Input: {x.shape}\")\n",
        "        identity = x\n",
        "        if self.downsample is not None:\n",
        "            identity = self.downsample(x)\n",
        "\n",
        "        out = self.conv1(x)\n",
        "        out = self.bn1(out)\n",
        "        out = F.relu(out)\n",
        "        out = self.conv2(out)\n",
        "        out = self.bn2(out)\n",
        "\n",
        "        out += identity\n",
        "        out = F.relu(out)\n",
        "        #print(f\"res output: {out.shape}\")\n",
        "\n",
        "        return out\n",
        "  ```"
      ],
      "metadata": {
        "id": "Y6Z4DCgoOS1X"
      }
    },
    {
      "cell_type": "markdown",
      "source": [
        "Model resnet18 sử dụng depthwise"
      ],
      "metadata": {
        "id": "Pf5TwDPZPWDs"
      }
    },
    {
      "cell_type": "code",
      "source": [
        "class DepthwiseSeparableConv(nn.Module):\n",
        "    def __init__(self, in_channels, out_channels, kernel_size=3, stride=1, padding=1):\n",
        "        super(DepthwiseSeparableConv, self).__init__()\n",
        "        self.depthwise = nn.Conv2d(in_channels, in_channels, kernel_size=kernel_size,\n",
        "                                   stride=stride, padding=padding, groups=in_channels, bias=False)\n",
        "        self.pointwise = nn.Conv2d(in_channels, out_channels, kernel_size=1, bias=False)\n",
        "\n",
        "    def forward(self, x):\n",
        "        x = self.depthwise(x)\n",
        "        x = self.pointwise(x)\n",
        "        return x\n",
        "\n",
        "class ResidualBlock(nn.Module):\n",
        "    def __init__(self, in_channels, out_channels, stride=1, downsample=None):\n",
        "        super(ResidualBlock, self).__init__()\n",
        "        self.conv1 = DepthwiseSeparableConv(in_channels, out_channels, kernel_size=3, stride=stride, padding=1)\n",
        "        self.bn1 = nn.BatchNorm2d(out_channels)\n",
        "        self.conv2 = DepthwiseSeparableConv(out_channels, out_channels, kernel_size=3, stride=1, padding=1) # conv2 nhận kq từ conv1 nên stride=1, gồm 2 out\n",
        "        self.bn2 = nn.BatchNorm2d(out_channels)\n",
        "        self.downsample = downsample or(\n",
        "            nn.Sequential(\n",
        "                nn.Conv2d(in_channels, out_channels, kernel_size=1, stride=stride, bias=False),\n",
        "                nn.BatchNorm2d(out_channels),\n",
        "            )\n",
        "            if stride != 1 or in_channels != out_channels\n",
        "            else None\n",
        "        )\n",
        "\n",
        "    def forward(self, x):\n",
        "       # print(f\"Input: {x.shape}\")\n",
        "        identity = x\n",
        "        if self.downsample is not None:\n",
        "            identity = self.downsample(x)\n",
        "\n",
        "        out = self.conv1(x)\n",
        "        out = self.bn1(out)\n",
        "        out = F.relu(out)\n",
        "        out = self.conv2(out)\n",
        "        out = self.bn2(out)\n",
        "\n",
        "        # out = F.dropout(out, p=0.3, training=self.training)\n",
        "\n",
        "        out += identity\n",
        "        out = F.relu(out)\n",
        "        #print(f\"res output: {out.shape}\")\n",
        "\n",
        "        return out\n"
      ],
      "metadata": {
        "id": "Mn7B84ioOPcW"
      },
      "execution_count": null,
      "outputs": []
    },
    {
      "source": [
        "class ResNet(nn.Module):\n",
        "    def __init__(self, block, layers, num_classes=10):\n",
        "        super(ResNet, self).__init__()\n",
        "        self.in_channels = 32\n",
        "        self.conv1 = nn.Conv2d(3, self.in_channels, kernel_size=3, stride=1, padding=1, bias=False)\n",
        "        self.bn1 = nn.BatchNorm2d(self.in_channels)\n",
        "        self.relu = nn.ReLU(inplace=True)\n",
        "        self.maxpool = nn.Identity()\n",
        "\n",
        "        self.layer1 = self._make_layer(block, 32, layers[0])\n",
        "        self.layer2 = self._make_layer(block, 64, layers[1], stride=2)\n",
        "        self.layer3 = self._make_layer(block, 128, layers[2], stride=2)\n",
        "        self.layer4 = self._make_layer(block, 256, layers[3], stride=2)\n",
        "\n",
        "        self.avgpool = nn.AdaptiveAvgPool2d((1, 1))\n",
        "        self.fc = nn.Sequential(\n",
        "            nn.Linear(256, 128),\n",
        "            nn.ReLU(inplace=True),\n",
        "            nn.Linear(128, num_classes)\n",
        "        )\n",
        "\n",
        "\n",
        "    def _make_layer(self, block, out_channels, blocks, stride=1):\n",
        "        downsample = None\n",
        "        if stride != 1 or self.in_channels != out_channels:\n",
        "            downsample = nn.Sequential(\n",
        "                nn.Conv2d(self.in_channels, out_channels, kernel_size=1, stride=stride, bias=False),\n",
        "                nn.BatchNorm2d(out_channels)\n",
        "            )\n",
        "        layers = []\n",
        "\n",
        "        layers.append(block(self.in_channels, out_channels, stride, downsample))\n",
        "        self.in_channels = out_channels\n",
        "        for _ in range(1, blocks):\n",
        "            layers.append(block(out_channels, out_channels))\n",
        "        return nn.Sequential(*layers)\n",
        "\n",
        "    def forward(self, x):\n",
        "        #print(f\"Input: {x.shape}\")\n",
        "        x = self.conv1(x)\n",
        "        x = self.bn1(x)\n",
        "        x = self.relu(x)\n",
        "        x = self.maxpool(x)\n",
        "        #print(f\"After first block: {x.shape}\")\n",
        "\n",
        "        x = self.layer1(x)\n",
        "        #print(f\"After layer1: {x.shape}\")\n",
        "        x = self.layer2(x)\n",
        "        #print(f\"After layer2: {x.shape}\")\n",
        "        x = self.layer3(x)\n",
        "        #print(f\"After layer3: {x.shape}\")\n",
        "        x = self.layer4(x)\n",
        "       # print(f\"After layer4: {x.shape}\")\n",
        "\n",
        "        x = self.avgpool(x)\n",
        "        #print(f\"After avgpool: {x.shape}\")\n",
        "        x = torch.flatten(x, 1)\n",
        "        x = self.fc(x)\n",
        "        #print(f\"Output: {x.shape}\")\n",
        "\n",
        "        return x\n",
        "\n",
        "\n"
      ],
      "cell_type": "code",
      "metadata": {
        "id": "k6__FyS0WY7L"
      },
      "execution_count": null,
      "outputs": []
    },
    {
      "cell_type": "code",
      "source": [
        "# ResNet-18\n",
        "#model = ResNet(ResidualBlock, [2, 2, 2, 2])\n",
        "model = ResNet(ResidualBlock, [1, 1, 1, 1])\n",
        "\n",
        "# ResNet-34\n",
        "#model = ResNet(ResidualBlock, [3, 4, 6, 3])\n",
        "model.to(device)"
      ],
      "metadata": {
        "colab": {
          "base_uri": "https://localhost:8080/"
        },
        "id": "TT9cqdDzQTq1",
        "outputId": "9369a89f-1393-4a78-a764-e6932a1547e5"
      },
      "execution_count": null,
      "outputs": [
        {
          "output_type": "execute_result",
          "data": {
            "text/plain": [
              "ResNet(\n",
              "  (conv1): Conv2d(3, 32, kernel_size=(3, 3), stride=(1, 1), padding=(1, 1), bias=False)\n",
              "  (bn1): BatchNorm2d(32, eps=1e-05, momentum=0.1, affine=True, track_running_stats=True)\n",
              "  (relu): ReLU(inplace=True)\n",
              "  (maxpool): Identity()\n",
              "  (layer1): Sequential(\n",
              "    (0): ResidualBlock(\n",
              "      (conv1): DepthwiseSeparableConv(\n",
              "        (depthwise): Conv2d(32, 32, kernel_size=(3, 3), stride=(1, 1), padding=(1, 1), groups=32, bias=False)\n",
              "        (pointwise): Conv2d(32, 32, kernel_size=(1, 1), stride=(1, 1), bias=False)\n",
              "      )\n",
              "      (bn1): BatchNorm2d(32, eps=1e-05, momentum=0.1, affine=True, track_running_stats=True)\n",
              "      (conv2): DepthwiseSeparableConv(\n",
              "        (depthwise): Conv2d(32, 32, kernel_size=(3, 3), stride=(1, 1), padding=(1, 1), groups=32, bias=False)\n",
              "        (pointwise): Conv2d(32, 32, kernel_size=(1, 1), stride=(1, 1), bias=False)\n",
              "      )\n",
              "      (bn2): BatchNorm2d(32, eps=1e-05, momentum=0.1, affine=True, track_running_stats=True)\n",
              "    )\n",
              "  )\n",
              "  (layer2): Sequential(\n",
              "    (0): ResidualBlock(\n",
              "      (conv1): DepthwiseSeparableConv(\n",
              "        (depthwise): Conv2d(32, 32, kernel_size=(3, 3), stride=(2, 2), padding=(1, 1), groups=32, bias=False)\n",
              "        (pointwise): Conv2d(32, 64, kernel_size=(1, 1), stride=(1, 1), bias=False)\n",
              "      )\n",
              "      (bn1): BatchNorm2d(64, eps=1e-05, momentum=0.1, affine=True, track_running_stats=True)\n",
              "      (conv2): DepthwiseSeparableConv(\n",
              "        (depthwise): Conv2d(64, 64, kernel_size=(3, 3), stride=(1, 1), padding=(1, 1), groups=64, bias=False)\n",
              "        (pointwise): Conv2d(64, 64, kernel_size=(1, 1), stride=(1, 1), bias=False)\n",
              "      )\n",
              "      (bn2): BatchNorm2d(64, eps=1e-05, momentum=0.1, affine=True, track_running_stats=True)\n",
              "      (downsample): Sequential(\n",
              "        (0): Conv2d(32, 64, kernel_size=(1, 1), stride=(2, 2), bias=False)\n",
              "        (1): BatchNorm2d(64, eps=1e-05, momentum=0.1, affine=True, track_running_stats=True)\n",
              "      )\n",
              "    )\n",
              "  )\n",
              "  (layer3): Sequential(\n",
              "    (0): ResidualBlock(\n",
              "      (conv1): DepthwiseSeparableConv(\n",
              "        (depthwise): Conv2d(64, 64, kernel_size=(3, 3), stride=(2, 2), padding=(1, 1), groups=64, bias=False)\n",
              "        (pointwise): Conv2d(64, 128, kernel_size=(1, 1), stride=(1, 1), bias=False)\n",
              "      )\n",
              "      (bn1): BatchNorm2d(128, eps=1e-05, momentum=0.1, affine=True, track_running_stats=True)\n",
              "      (conv2): DepthwiseSeparableConv(\n",
              "        (depthwise): Conv2d(128, 128, kernel_size=(3, 3), stride=(1, 1), padding=(1, 1), groups=128, bias=False)\n",
              "        (pointwise): Conv2d(128, 128, kernel_size=(1, 1), stride=(1, 1), bias=False)\n",
              "      )\n",
              "      (bn2): BatchNorm2d(128, eps=1e-05, momentum=0.1, affine=True, track_running_stats=True)\n",
              "      (downsample): Sequential(\n",
              "        (0): Conv2d(64, 128, kernel_size=(1, 1), stride=(2, 2), bias=False)\n",
              "        (1): BatchNorm2d(128, eps=1e-05, momentum=0.1, affine=True, track_running_stats=True)\n",
              "      )\n",
              "    )\n",
              "  )\n",
              "  (layer4): Sequential(\n",
              "    (0): ResidualBlock(\n",
              "      (conv1): DepthwiseSeparableConv(\n",
              "        (depthwise): Conv2d(128, 128, kernel_size=(3, 3), stride=(2, 2), padding=(1, 1), groups=128, bias=False)\n",
              "        (pointwise): Conv2d(128, 256, kernel_size=(1, 1), stride=(1, 1), bias=False)\n",
              "      )\n",
              "      (bn1): BatchNorm2d(256, eps=1e-05, momentum=0.1, affine=True, track_running_stats=True)\n",
              "      (conv2): DepthwiseSeparableConv(\n",
              "        (depthwise): Conv2d(256, 256, kernel_size=(3, 3), stride=(1, 1), padding=(1, 1), groups=256, bias=False)\n",
              "        (pointwise): Conv2d(256, 256, kernel_size=(1, 1), stride=(1, 1), bias=False)\n",
              "      )\n",
              "      (bn2): BatchNorm2d(256, eps=1e-05, momentum=0.1, affine=True, track_running_stats=True)\n",
              "      (downsample): Sequential(\n",
              "        (0): Conv2d(128, 256, kernel_size=(1, 1), stride=(2, 2), bias=False)\n",
              "        (1): BatchNorm2d(256, eps=1e-05, momentum=0.1, affine=True, track_running_stats=True)\n",
              "      )\n",
              "    )\n",
              "  )\n",
              "  (avgpool): AdaptiveAvgPool2d(output_size=(1, 1))\n",
              "  (fc): Sequential(\n",
              "    (0): Linear(in_features=256, out_features=128, bias=True)\n",
              "    (1): ReLU(inplace=True)\n",
              "    (2): Linear(in_features=128, out_features=10, bias=True)\n",
              "  )\n",
              ")"
            ]
          },
          "metadata": {},
          "execution_count": 102
        }
      ]
    },
    {
      "cell_type": "markdown",
      "source": [
        "# Optimizer, Loss"
      ],
      "metadata": {
        "id": "ld7PvThjPc7t"
      }
    },
    {
      "cell_type": "code",
      "source": [
        "optimizer = torch.optim.SGD(model.parameters(), lr=0.001, momentum=0.9)\n",
        "loss_fn = nn.CrossEntropyLoss()\n",
        "\n",
        "def accuracy_fn(y_true, y_pred):\n",
        "  correct = torch.eq(y_true, y_pred).sum().item()\n",
        "  acc = (correct / len(y_pred)) * 100\n",
        "  return acc"
      ],
      "metadata": {
        "id": "tZvTxAKnP_x6"
      },
      "execution_count": null,
      "outputs": []
    },
    {
      "cell_type": "code",
      "source": [
        "def count_parameters(model):\n",
        "    return sum(p.numel() for p in model.parameters() if p.requires_grad)\n",
        "\n",
        "print(f\"Số lượng tham số: {count_parameters(model)}\")"
      ],
      "metadata": {
        "colab": {
          "base_uri": "https://localhost:8080/"
        },
        "id": "mtC9FgXczQCR",
        "outputId": "85adde1c-c457-4f5b-a675-65292591b692"
      },
      "execution_count": null,
      "outputs": [
        {
          "output_type": "stream",
          "name": "stdout",
          "text": [
            "Số lượng tham số: 218634\n"
          ]
        }
      ]
    },
    {
      "cell_type": "markdown",
      "source": [
        "# Training"
      ],
      "metadata": {
        "id": "UVGXJaL2PiCS"
      }
    },
    {
      "cell_type": "code",
      "source": [
        "from timeit import default_timer as timer\n",
        "def print_train_time(start: float, end: float, device: torch.device = None):\n",
        "    \"\"\"Prints difference between start and end time.\n",
        "\n",
        "    Args:\n",
        "        start (float): Start time of computation (preferred in timeit format).\n",
        "        end (float): End time of computation.\n",
        "        device ([type], optional): Device that compute is running on. Defaults to None.\n",
        "\n",
        "    Returns:\n",
        "        float: time between start and end in seconds (higher is longer).\n",
        "    \"\"\"\n",
        "    total_time = end - start\n",
        "    print(f\"Train time on {device}: {total_time:.3f} seconds\")\n",
        "    return total_time"
      ],
      "metadata": {
        "id": "XXMJWHErWdNq"
      },
      "execution_count": null,
      "outputs": []
    },
    {
      "cell_type": "code",
      "source": [
        "from tqdm.auto import tqdm\n",
        "\n",
        "for batch, (X, y) in enumerate(tqdm(train_dataloader)):\n",
        "    print(X.shape, y.shape)\n",
        "    break\n"
      ],
      "metadata": {
        "colab": {
          "base_uri": "https://localhost:8080/",
          "height": 66,
          "referenced_widgets": [
            "8eb410857c424837a9d3224c7f0b17c3",
            "f38d6ef5c6b340939fcba1ac641dc1f0",
            "e638d383a2f7436dadd994718e2d26d7",
            "715b0cfc5bf4462eb7cc1b3b5f5bc654",
            "b4e14470859f4cd09c6d9271bb1a27bf",
            "5df3d0be7b834196aad0c12738133c62",
            "f0a4c78172f047269890fa8c617b4a8c",
            "c4f0a3e826ad49e182e0fa3e6030199e",
            "bd5f1d38218f445cb88bab59244dccd2",
            "368924be36824caeaaa7e24ef4d542e2",
            "071c5374ea5847949f6955f266008d5c"
          ]
        },
        "id": "Bg020x7mevhe",
        "outputId": "3b8d48f4-d2f4-4992-f282-ac21313dbdda"
      },
      "execution_count": null,
      "outputs": [
        {
          "output_type": "display_data",
          "data": {
            "text/plain": [
              "  0%|          | 0/3125 [00:00<?, ?it/s]"
            ],
            "application/vnd.jupyter.widget-view+json": {
              "version_major": 2,
              "version_minor": 0,
              "model_id": "8eb410857c424837a9d3224c7f0b17c3"
            }
          },
          "metadata": {}
        },
        {
          "output_type": "stream",
          "name": "stdout",
          "text": [
            "torch.Size([16, 3, 32, 32]) torch.Size([16])\n"
          ]
        }
      ]
    },
    {
      "cell_type": "code",
      "source": [
        "torch.manual_seed(42)\n",
        "train_time_start_on_cpu = timer()\n",
        "\n",
        "epoch = 50\n",
        "\n",
        "for epoch in tqdm(range(epoch)):\n",
        "    print(f\"Epoch: {epoch+1}\\n---------\")\n",
        "    train_loss = 0\n",
        "\n",
        "    for batch, (X, y) in enumerate(train_dataloader):\n",
        "        X, y = X.to(device), y.to(device)\n",
        "        model.train()\n",
        "\n",
        "        y_pred = model(X)\n",
        "\n",
        "        loss = loss_fn(y_pred,y)\n",
        "        train_loss += loss\n",
        "\n",
        "        optimizer.zero_grad()\n",
        "\n",
        "        loss.backward()\n",
        "\n",
        "        optimizer.step()\n",
        "\n",
        "        if batch % 400 == 0:\n",
        "            print(f\"Đã xử lí {batch * len(X)}/{len(train_dataloader.dataset)} samples\")\n",
        "\n",
        "    train_loss /= len(train_dataloader)\n",
        "\n",
        "    #Testing\n",
        "    test_loss, test_acc = 0, 0\n",
        "    model.eval()\n",
        "    with torch.inference_mode():\n",
        "        for X,y in test_dataloader:\n",
        "            X, y = X.to(device), y.to(device)\n",
        "            test_pred = model(X)\n",
        "\n",
        "            test_loss += loss_fn(test_pred, y)\n",
        "\n",
        "            test_acc += accuracy_fn(y_true=y, y_pred=test_pred.argmax(dim=1))\n",
        "\n",
        "\n",
        "        test_loss /= len(test_dataloader)\n",
        "        test_acc /= len(test_dataloader)\n",
        "\n",
        "    print(f\"Train loss: {train_loss:.5f} | Test loss: {test_loss:.5f}, Test acc: {test_acc:.2f}\")\n",
        "\n",
        "train_time_end_on_cpu = timer()\n",
        "total_train_time_model_0 = print_train_time(start=train_time_start_on_cpu,\n",
        "                                           end=train_time_end_on_cpu,\n",
        "                                           device=\"cpu\")\n"
      ],
      "metadata": {
        "id": "UYcW6C6uePab",
        "colab": {
          "base_uri": "https://localhost:8080/",
          "height": 639,
          "referenced_widgets": [
            "eb1f47aced3e4053bf05eaae61e877eb",
            "0abed2e7dd5a48f596b96314b7dbf431",
            "78a55484ae9f471482293c29258fd9aa",
            "385bcc0bc1e64aa4a89a1f7c881dca67",
            "9744c028828840049418477a02193d3c",
            "595514346fb144099b4088b5a8ac2585",
            "b95593d0f73d4274bcee3f87d3eb2d0e",
            "24ade73f978f49be8ccce47bc85d40d1",
            "9e89a2a5a827439292c128ebf82b62f2",
            "868321c3f9cf4c8aa1e4f5ad06a69831",
            "8148a84bc29c4060bc78e062cde68a58"
          ]
        },
        "outputId": "8564fa14-ff04-43ca-dffd-4e06a018b6d0"
      },
      "execution_count": null,
      "outputs": [
        {
          "output_type": "display_data",
          "data": {
            "text/plain": [
              "  0%|          | 0/3 [00:00<?, ?it/s]"
            ],
            "application/vnd.jupyter.widget-view+json": {
              "version_major": 2,
              "version_minor": 0,
              "model_id": "eb1f47aced3e4053bf05eaae61e877eb"
            }
          },
          "metadata": {}
        },
        {
          "output_type": "stream",
          "name": "stdout",
          "text": [
            "Epoch: 1\n",
            "---------\n",
            "Đã xử lí 0/50000 samples\n",
            "Đã xử lí 6400/50000 samples\n",
            "Đã xử lí 12800/50000 samples\n",
            "Đã xử lí 19200/50000 samples\n",
            "Đã xử lí 25600/50000 samples\n",
            "Đã xử lí 32000/50000 samples\n",
            "Đã xử lí 38400/50000 samples\n",
            "Đã xử lí 44800/50000 samples\n",
            "Train loss: 1.76134 | Test loss: 1.55384, Test acc: 43.36\n",
            "Epoch: 2\n",
            "---------\n",
            "Đã xử lí 0/50000 samples\n",
            "Đã xử lí 6400/50000 samples\n",
            "Đã xử lí 12800/50000 samples\n",
            "Đã xử lí 19200/50000 samples\n",
            "Đã xử lí 25600/50000 samples\n",
            "Đã xử lí 32000/50000 samples\n",
            "Đã xử lí 38400/50000 samples\n",
            "Đã xử lí 44800/50000 samples\n",
            "Train loss: 1.39090 | Test loss: 1.21816, Test acc: 55.12\n",
            "Epoch: 3\n",
            "---------\n",
            "Đã xử lí 0/50000 samples\n",
            "Đã xử lí 6400/50000 samples\n",
            "Đã xử lí 12800/50000 samples\n",
            "Đã xử lí 19200/50000 samples\n",
            "Đã xử lí 25600/50000 samples\n",
            "Đã xử lí 32000/50000 samples\n",
            "Đã xử lí 38400/50000 samples\n",
            "Đã xử lí 44800/50000 samples\n",
            "Train loss: 1.18363 | Test loss: 1.10900, Test acc: 59.05\n",
            "Train time on cpu: 154.501 seconds\n"
          ]
        }
      ]
    },
    {
      "cell_type": "code",
      "source": [
        "def train_step(model: torch.nn.Module,\n",
        "               data_loader: torch.utils.data.DataLoader,\n",
        "               loss_fn: torch.nn.Module,\n",
        "               optimizer: torch.optim.Optimizer,\n",
        "               accuracy_fn,\n",
        "               device: torch.device = device):\n",
        "    train_loss, train_acc = 0, 0\n",
        "    model.to(device)\n",
        "    for batch, (X, y) in enumerate(data_loader):\n",
        "\n",
        "        X, y = X.to(device), y.to(device)\n",
        "\n",
        "        y_pred = model(X)\n",
        "\n",
        "\n",
        "        loss = loss_fn(y_pred, y)\n",
        "        train_loss += loss\n",
        "        train_acc += accuracy_fn(y_true=y,y_pred=y_pred.argmax(dim=1))\n",
        "\n",
        "\n",
        "        optimizer.zero_grad()\n",
        "        loss.backward()\n",
        "        optimizer.step()\n",
        "\n",
        "    train_loss /= len(data_loader)\n",
        "    train_acc /= len(data_loader)\n",
        "    print(f\"Train loss: {train_loss:.5f} | Train accuracy: {train_acc:.2f}%\")"
      ],
      "metadata": {
        "id": "tVnQ9opGDfNw"
      },
      "execution_count": null,
      "outputs": []
    },
    {
      "cell_type": "code",
      "source": [
        "def test_step(data_loader: torch.utils.data.DataLoader,\n",
        "              model: torch.nn.Module,\n",
        "              loss_fn: torch.nn.Module,\n",
        "              accuracy_fn,\n",
        "              device: torch.device = device):\n",
        "    test_loss, test_acc = 0, 0\n",
        "    model.to(device)\n",
        "    model.eval()\n",
        "\n",
        "    with torch.inference_mode():\n",
        "        for X, y in data_loader:\n",
        "            # Send data to GPU\n",
        "            X, y = X.to(device), y.to(device)\n",
        "\n",
        "            # 1. Forward pass\n",
        "            test_pred = model(X)\n",
        "\n",
        "            # 2. Calculate loss and accuracy\n",
        "            test_loss += loss_fn(test_pred, y)\n",
        "            test_acc += accuracy_fn(y_true=y,y_pred=test_pred.argmax(dim=1)) # vector xác suất (logits) -> pred labels\n",
        "\n",
        "\n",
        "        test_loss /= len(data_loader)\n",
        "        test_acc /= len(data_loader)\n",
        "        print(f\"Test loss: {test_loss:.5f} | Test accuracy: {test_acc:.2f}%\\n\")"
      ],
      "metadata": {
        "id": "_lJozoE9Dlop"
      },
      "execution_count": null,
      "outputs": []
    },
    {
      "cell_type": "code",
      "source": [
        "torch.manual_seed(42)\n",
        "\n",
        "train_time_start_on_gpu = timer()\n",
        "\n",
        "epochs = 3\n",
        "for epoch in tqdm(range(epochs)):\n",
        "    print(f\"Epoch: {epoch+1}\\n---------\")\n",
        "    train_step(data_loader=train_dataloader,\n",
        "                model=model,\n",
        "                loss_fn=loss_fn,\n",
        "                optimizer=optimizer,\n",
        "                accuracy_fn=accuracy_fn)\n",
        "\n",
        "\n",
        "    test_step(data_loader=test_dataloader,\n",
        "              model=model,\n",
        "              loss_fn=loss_fn,\n",
        "              accuracy_fn=accuracy_fn)\n",
        "\n",
        "train_time_end_on_gpu = timer()\n",
        "total_train_time_model_1 = print_train_time(start=train_time_start_on_gpu,\n",
        "                                            end=train_time_end_on_gpu,\n",
        "                                            device=device)"
      ],
      "metadata": {
        "colab": {
          "base_uri": "https://localhost:8080/",
          "height": 327,
          "referenced_widgets": [
            "0e73163e5bc74fe1bd2b3ba6f51590d3",
            "13feade8f94149cf86178c79338481e2",
            "15648caef48f49b499ba80dbcea59292",
            "254080563750433a8b5e181894e968ee",
            "093f982d06ec44589774e9a1825498f1",
            "15c9b7af9fd646219d9a8862326ac141",
            "2eef4f1fe50d4eaab22be5949d32fd9c",
            "b6eb00f8b74043e1a885d529d489fa16",
            "1eb8bbe5af334b64a7fcd9c6b6e6d829",
            "3b2a66be1e65460bbccfcb3f59feffb0",
            "c2eb750131a14d5099b7d0cc395634cd"
          ]
        },
        "id": "2ES3DcOqDml1",
        "outputId": "29ddbe91-3d39-44ef-aa09-50fd552c20b3"
      },
      "execution_count": null,
      "outputs": [
        {
          "output_type": "display_data",
          "data": {
            "text/plain": [
              "  0%|          | 0/3 [00:00<?, ?it/s]"
            ],
            "application/vnd.jupyter.widget-view+json": {
              "version_major": 2,
              "version_minor": 0,
              "model_id": "0e73163e5bc74fe1bd2b3ba6f51590d3"
            }
          },
          "metadata": {}
        },
        {
          "output_type": "stream",
          "name": "stdout",
          "text": [
            "Epoch: 1\n",
            "---------\n",
            "Train loss: 1.10705 | Train accuracy: 60.01%\n",
            "Test loss: 1.00184 | Test accuracy: 64.29%\n",
            "\n",
            "Epoch: 2\n",
            "---------\n",
            "Train loss: 0.93979 | Train accuracy: 66.30%\n",
            "Test loss: 0.87149 | Test accuracy: 68.85%\n",
            "\n",
            "Epoch: 3\n",
            "---------\n",
            "Train loss: 0.84616 | Train accuracy: 69.68%\n",
            "Test loss: 0.92208 | Test accuracy: 66.66%\n",
            "\n",
            "Train time on cuda: 144.410 seconds\n"
          ]
        }
      ]
    },
    {
      "cell_type": "markdown",
      "source": [
        "# Confusion Matrix"
      ],
      "metadata": {
        "id": "RWffRqRsPneZ"
      }
    },
    {
      "cell_type": "code",
      "source": [
        "from tqdm.auto import tqdm\n",
        "\n",
        "y_preds = []\n",
        "model.eval()\n",
        "with torch.inference_mode():\n",
        "  for X, y in tqdm(test_dataloader, desc=\"Making predictions\"):\n",
        "\n",
        "    X, y = X.to(device), y.to(device)\n",
        "\n",
        "    y_logit = model(X)\n",
        "\n",
        "    y_pred = torch.softmax(y_logit, dim=1).argmax(dim=1)\n",
        "\n",
        "    y_preds.append(y_pred.cpu())"
      ],
      "metadata": {
        "id": "rtxyMmYr14P_",
        "colab": {
          "base_uri": "https://localhost:8080/",
          "height": 49,
          "referenced_widgets": [
            "0479e13f770d4505bdd481cceb784d53",
            "1e08ff85ce9c44788304e5c94e0b08f6",
            "4c62542646fd4bf88d24d71b838bab5f",
            "22972acf2be7452282e53794145e2eeb",
            "8113001478814344b15fbfc897177b8c",
            "510ab2cf3919471fb5f9068ebf1ae3fb",
            "914d98b71c9b4cfe8557ea7db979c86c",
            "0452c70485eb4fb380860d95f4384918",
            "dfa46b5e0c5f474abe1921d20860fd47",
            "6923fd7470554024a5adc91676c6aa13",
            "d33268e2a4e340ad86c08dd16bb4e0c3"
          ]
        },
        "outputId": "de2f54a6-f3fe-4fd9-a302-1b3d40d66792"
      },
      "execution_count": null,
      "outputs": [
        {
          "output_type": "display_data",
          "data": {
            "text/plain": [
              "Making predictions:   0%|          | 0/625 [00:00<?, ?it/s]"
            ],
            "application/vnd.jupyter.widget-view+json": {
              "version_major": 2,
              "version_minor": 0,
              "model_id": "0479e13f770d4505bdd481cceb784d53"
            }
          },
          "metadata": {}
        }
      ]
    },
    {
      "cell_type": "code",
      "source": [
        "try:\n",
        "    import torchmetrics, mlxtend\n",
        "    print(f\"mlxtend version: {mlxtend.__version__}\")\n",
        "    assert int(mlxtend.__version__.split(\".\")[1]) >= 19, \"mlxtend verison should be 0.19.0 or higher\"\n",
        "except:\n",
        "    !pip install -q torchmetrics -U mlxtend\n",
        "    import torchmetrics, mlxtend\n",
        "    print(f\"mlxtend version: {mlxtend.__version__}\")"
      ],
      "metadata": {
        "id": "bcX_4HYSgz-z",
        "colab": {
          "base_uri": "https://localhost:8080/"
        },
        "outputId": "24284a26-c7c8-4d5e-9aad-d7fd2a8887dd"
      },
      "execution_count": null,
      "outputs": [
        {
          "output_type": "stream",
          "name": "stdout",
          "text": [
            "mlxtend version: 0.23.3\n"
          ]
        }
      ]
    },
    {
      "cell_type": "code",
      "source": [
        "import mlxtend\n",
        "print(mlxtend.__version__)\n",
        "assert int(mlxtend.__version__.split(\".\")[1]) >= 19"
      ],
      "metadata": {
        "id": "1yhePDipW_62",
        "colab": {
          "base_uri": "https://localhost:8080/"
        },
        "outputId": "33d370db-c9e5-43ff-8c40-edef950e5fdc"
      },
      "execution_count": null,
      "outputs": [
        {
          "output_type": "stream",
          "name": "stdout",
          "text": [
            "0.23.3\n"
          ]
        }
      ]
    },
    {
      "cell_type": "code",
      "source": [
        "from torchmetrics import ConfusionMatrix\n",
        "from mlxtend.plotting import plot_confusion_matrix\n",
        "\n",
        "# Chuyển y_preds thành tensor\n",
        "y_pred_tensor = torch.cat(y_preds)\n",
        "# Chuyển test_data.targets thành tensor\n",
        "targets_tensor = torch.tensor(test_data.targets)\n",
        "\n",
        "\n",
        "cm = ConfusionMatrix(num_classes=len(class_names), task='multiclass')\n",
        "cm_tensor = cm(preds=y_pred_tensor, target=targets_tensor)\n",
        "\n",
        "# Vẽ Confusion Matrix\n",
        "fig, ax = plot_confusion_matrix(\n",
        "    conf_mat=cm_tensor.numpy(),\n",
        "    class_names=class_names,\n",
        "    figsize=(10, 7)\n",
        ")"
      ],
      "metadata": {
        "id": "l-wwN5bRcVWo",
        "colab": {
          "base_uri": "https://localhost:8080/",
          "height": 666
        },
        "outputId": "aef01315-0d09-435b-be2f-46520efb50b5"
      },
      "execution_count": null,
      "outputs": [
        {
          "output_type": "display_data",
          "data": {
            "text/plain": [
              "<Figure size 1000x700 with 1 Axes>"
            ],
            "image/png": "[encoded data removed]"
          },
          "metadata": {}
        }
      ]
    },
    {
      "cell_type": "markdown",
      "source": [
        "# OpenCV"
      ],
      "metadata": {
        "id": "x0OagX3U660N"
      }
    },
    {
      "cell_type": "code",
      "source": [
        "import cv2\n",
        "import numpy as np"
      ],
      "metadata": {
        "id": "eeiXqTsN7F12"
      },
      "execution_count": null,
      "outputs": []
    },
    {
      "cell_type": "code",
      "source": [
        "import os\n",
        "print(\"Train dataset classes:\", os.listdir(\"CIFAR-10-dataset/train\"))\n",
        "print(\"Airplane class images:\", os.listdir(\"CIFAR-10-dataset/train/airplane\"))"
      ],
      "metadata": {
        "id": "Rr7e8wbB81nF",
        "colab": {
          "base_uri": "https://localhost:8080/"
        },
        "outputId": "4c378500-13a3-4a48-cbc1-33a117eba6b9"
      },
      "execution_count": null,
      "outputs": [
        {
          "output_type": "stream",
          "name": "stdout",
          "text": [
            "Train dataset classes: ['automobile', 'airplane', 'truck', 'ship', 'bird', 'horse', 'deer', 'frog', 'cat', 'dog']\n",
            "Airplane class images: ['monoplane_s_000759.png', 'stealth_fighter_s_000029.png', 'fighter_aircraft_s_001003.png', 'attack_aircraft_s_000375.png', 'stealth_fighter_s_000174.png', 'stealth_fighter_s_000395.png', 'fighter_s_000752.png', 'attack_aircraft_s_001127.png', 'jumbo_jet_s_000185.png', 'kamikaze_s_000018.png', 'stealth_bomber_s_001660.png', 'twinjet_s_000886.png', 'twinjet_s_000850.png', 'attack_aircraft_s_000330.png', 'fighter_aircraft_s_001084.png', 'stealth_fighter_s_001685.png', 'dive_bomber_s_001694.png', 'jetliner_s_001877.png', 'biplane_s_001127.png', 'dive_bomber_s_001473.png', 'jumbo_jet_s_000862.png', 'biplane_s_000475.png', 'jumbo_jet_s_000026.png', 'dive_bomber_s_000395.png', 'monoplane_s_000999.png', 'jumbo_jet_s_000412.png', 'fighter_aircraft_s_001295.png', 'hangar_queen_s_000014.png', 'attack_aircraft_s_000577.png', 'jetliner_s_001595.png', 'stealth_bomber_s_001774.png', 'stealth_bomber_s_000477.png', 'airliner_s_001321.png', 'monoplane_s_001028.png', 'stealth_bomber_s_001050.png', 'dive_bomber_s_000769.png', 'stealth_fighter_s_001057.png', 'jumbojet_s_000274.png', 'twinjet_s_001546.png', 'jetliner_s_001177.png', 'biplane_s_001720.png', 'fighter_s_000751.png', 'jetliner_s_000592.png', 'stealth_fighter_s_001307.png', 'twinjet_s_000880.png', 'reconnaissance_plane_s_000006.png', 'jetliner_s_001828.png', 'stealth_fighter_s_000496.png', 'biplane_s_000242.png', 'attack_aircraft_s_001018.png', 'fighter_s_000366.png', 'fighter_aircraft_s_000979.png', 'propeller_plane_s_000035.png', 'airliner_s_001963.png', 'stealth_fighter_s_001100.png', 'dive_bomber_s_001073.png', 'propeller_plane_s_000093.png', 'stealth_bomber_s_000961.png', 'twinjet_s_000432.png', 'jetliner_s_000705.png', 'biplane_s_001867.png', 'stealth_fighter_s_001752.png', 'multiengine_plane_s_000167.png', 'airbus_s_001353.png', 'jumbo_jet_s_000367.png', 'biplane_s_002287.png', 'fighter_aircraft_s_001874.png', 'monoplane_s_000981.png', 'monoplane_s_001328.png', 'stealth_fighter_s_000634.png', 'jumbojet_s_001644.png', 'attack_aircraft_s_001730.png', 'airbus_s_001553.png', 'monoplane_s_000556.png', 'jumbo_jet_s_000356.png', 'jumbo_jet_s_001482.png', 'amphibious_aircraft_s_000132.png', 'biplane_s_001717.png', 'twinjet_s_001071.png', 'plane_s_000856.png', 'stealth_bomber_s_001889.png', 'biplane_s_002317.png', 'stealth_bomber_s_000449.png', 'stealth_bomber_s_000735.png', 'jumbo_jet_s_000027.png', 'stealth_fighter_s_000157.png', 'dive_bomber_s_001561.png', 'dive_bomber_s_001120.png', 'biplane_s_000161.png', 'airliner_s_002037.png', 'stealth_bomber_s_001064.png', 'amphibious_aircraft_s_000109.png', 'plane_s_000537.png', 'jumbojet_s_001553.png', 'airliner_s_000169.png', 'airliner_s_000165.png', 'propeller_plane_s_000366.png', 'stealth_fighter_s_000579.png', 'airbus_s_001016.png', 'stealth_fighter_s_000721.png', 'airplane_s_000123.png', 'airbus_s_001444.png', 'amphibious_aircraft_s_000377.png', 'stealth_bomber_s_000115.png', 'attack_aircraft_s_000107.png', 'floatplane_s_000044.png', 'airliner_s_001140.png', 'biplane_s_001622.png', 'biplane_s_002158.png', 'monoplane_s_000261.png', 'monoplane_s_001212.png', 'jumbo_jet_s_000107.png', 'jumbojet_s_001066.png', 'propeller_plane_s_000129.png', 'attack_aircraft_s_001243.png', 'fighter_aircraft_s_000766.png', 'airliner_s_002317.png', 'airbus_s_000164.png', 'stealth_fighter_s_000540.png', 'attack_aircraft_s_000541.png', 'jetliner_s_000905.png', 'biplane_s_000500.png', 'multiengine_plane_s_000177.png', 'airliner_s_001059.png', 'stealth_fighter_s_000075.png', 'amphibious_aircraft_s_000138.png', 'biplane_s_000323.png', 'stealth_bomber_s_000492.png', 'propeller_plane_s_000864.png', 'twinjet_s_000207.png', 'seaplane_s_000746.png', 'amphibious_aircraft_s_001323.png', 'fighter_aircraft_s_000547.png', 'twinjet_s_000916.png', 'jumbo_jet_s_000119.png', 'airliner_s_001110.png', 'jumbo_jet_s_001183.png', 'attack_aircraft_s_000166.png', 'monoplane_s_000631.png', 'seaplane_s_000416.png', 'aeroplane_s_000121.png', 'stealth_bomber_s_001017.png', 'airbus_s_002011.png', 'stealth_bomber_s_001830.png', 'airbus_s_000547.png', 'airliner_s_000833.png', 'airplane_s_000016.png', 'dive_bomber_s_000626.png', 'airbus_s_001238.png', 'jumbo_jet_s_001329.png', 'airbus_s_001247.png', 'stealth_bomber_s_002294.png', 'jumbo_jet_s_000625.png', 'jumbojet_s_001157.png', 'fighter_aircraft_s_001791.png', 'attack_aircraft_s_001340.png', 'stealth_fighter_s_000377.png', 'airbus_s_001339.png', 'stealth_fighter_s_000145.png', 'stealth_fighter_s_001363.png', 'fighter_aircraft_s_000537.png', 'stealth_fighter_s_000694.png', 'jumbojet_s_000166.png', 'airliner_s_002239.png', 'propeller_plane_s_000846.png', 'biplane_s_001246.png', 'twinjet_s_000605.png', 'stealth_bomber_s_001331.png', 'airbus_s_001977.png', 'monoplane_s_000036.png', 'dive_bomber_s_001377.png', 'dive_bomber_s_000366.png', 'dive_bomber_s_001136.png', 'biplane_s_001483.png', 'airbus_s_002061.png', 'stealth_bomber_s_002298.png', 'stealth_fighter_s_000005.png', 'dive_bomber_s_000803.png', 'monoplane_s_000353.png', 'airliner_s_001550.png', 'stealth_bomber_s_001408.png', 'bomber_s_000064.png', 'monoplane_s_001131.png', 'jetliner_s_001901.png', 'dive_bomber_s_001737.png', 'stealth_bomber_s_000253.png', 'twinjet_s_000273.png', 'airliner_s_000564.png', 'stealth_bomber_s_000955.png', 'stealth_bomber_s_000590.png', 'biplane_s_001715.png', 'jetliner_s_001356.png', 'stealth_fighter_s_000240.png', 'stealth_fighter_s_001659.png', 'fighter_aircraft_s_001408.png', 'fighter_s_001040.png', 'twinjet_s_000779.png', 'dive_bomber_s_001405.png', 'propeller_plane_s_000001.png', 'jumbojet_s_000702.png', 'airbus_s_002172.png', 'jetliner_s_001130.png', 'airbus_s_001396.png', 'stealth_bomber_s_001186.png', 'airliner_s_001300.png', 'stealth_bomber_s_000988.png', 'biplane_s_000007.png', 'monoplane_s_000386.png', 'airliner_s_002315.png', 'airliner_s_001521.png', 'biplane_s_000829.png', 'stealth_fighter_s_000947.png', 'airbus_s_001963.png', 'stealth_fighter_s_001908.png', 'fighter_s_000659.png', 'stealth_fighter_s_001626.png', 'stealth_fighter_s_000339.png', 'airbus_s_000805.png', 'jumbojet_s_000440.png', 'stealth_bomber_s_001622.png', 'stealth_fighter_s_001683.png', 'twinjet_s_000731.png', 'jumbo_jet_s_001344.png', 'fighter_aircraft_s_001033.png', 'twinjet_s_000634.png', 'airliner_s_001177.png', 'monoplane_s_000104.png', 'airliner_s_000094.png', 'stealth_fighter_s_000249.png', 'stealth_bomber_s_000021.png', 'airbus_s_001694.png', 'dive_bomber_s_000467.png', 'stealth_bomber_s_001456.png', 'airbus_s_001804.png', 'dive_bomber_s_001307.png', 'jumbojet_s_000184.png', 'jumbojet_s_000368.png', 'airliner_s_002028.png', 'twinjet_s_001104.png', 'monoplane_s_001337.png', 'jumbo_jet_s_001468.png', 'stealth_bomber_s_000149.png', 'airbus_s_000161.png', 'airbus_s_001723.png', 'monoplane_s_000735.png', 'fighter_aircraft_s_001137.png', 'fighter_aircraft_s_000544.png', 'reconnaissance_plane_s_000998.png', 'plane_s_001194.png', 'multiengine_plane_s_000101.png', 'stealth_fighter_s_001668.png', 'stealth_fighter_s_000961.png', 'stealth_bomber_s_000284.png', 'jumbojet_s_001245.png', 'airliner_s_000197.png', 'amphibious_aircraft_s_000695.png', 'airliner_s_001060.png', 'stealth_fighter_s_000274.png', 'airbus_s_001945.png', 'airliner_s_000547.png', 'stealth_fighter_s_000853.png', 'attack_aircraft_s_000223.png', 'monoplane_s_001043.png', 'multiengine_airplane_s_000229.png', 'airbus_s_000171.png', 'stealth_fighter_s_000810.png', 'jetliner_s_000960.png', 'propeller_plane_s_001188.png', 'dive_bomber_s_000318.png', 'jumbojet_s_000187.png', 'jetliner_s_000124.png', 'stealth_fighter_s_001217.png', 'airbus_s_000439.png', 'airbus_s_002098.png', 'biplane_s_000993.png', 'twinjet_s_000664.png', 'airbus_s_001303.png', 'propeller_plane_s_000017.png', 'stealth_fighter_s_001097.png', 'airliner_s_000565.png', 'reconnaissance_plane_s_000463.png', 'monoplane_s_000034.png', 'dive_bomber_s_001253.png', 'hydroplane_s_000013.png', 'airbus_s_000994.png', 'dive_bomber_s_000433.png', 'airbus_s_001725.png', 'stealth_fighter_s_001306.png', 'stealth_bomber_s_002060.png', 'jetliner_s_001413.png', 'fighter_aircraft_s_001774.png', 'jetliner_s_000481.png', 'biplane_s_001520.png', 'multiengine_airplane_s_000293.png', 'twinjet_s_000009.png', 'jumbojet_s_001433.png', 'propeller_plane_s_001307.png', 'stealth_bomber_s_000868.png', 'monoplane_s_000218.png', 'jetliner_s_000299.png', 'attack_aircraft_s_001046.png', 'airliner_s_001717.png', 'biplane_s_002065.png', 'dive_bomber_s_001723.png', 'biplane_s_001141.png', 'fighter_aircraft_s_000158.png', 'dive_bomber_s_000916.png', 'twinjet_s_000806.png', 'multiengine_plane_s_000003.png', 'fighter_aircraft_s_001587.png', 'airliner_s_000177.png', 'fighter_aircraft_s_000432.png', 'biplane_s_001401.png', 'stealth_bomber_s_000671.png', 'fighter_aircraft_s_000886.png', 'airliner_s_001346.png', 'jumbojet_s_001179.png', 'seaplane_s_001591.png', 'stealth_bomber_s_001552.png', 'attack_aircraft_s_000301.png', 'airbus_s_001911.png', 'airbus_s_002242.png', 'twinjet_s_001283.png', 'attack_aircraft_s_001688.png', 'propeller_plane_s_001011.png', 'fighter_s_000655.png', 'airliner_s_000148.png', 'airbus_s_001441.png', 'jumbojet_s_001550.png', 'airliner_s_002152.png', 'airbus_s_000806.png', 'monoplane_s_001179.png', 'airbus_s_001121.png', 'attack_aircraft_s_001388.png', 'airbus_s_000943.png', 'attack_aircraft_s_000040.png', 'stealth_bomber_s_001269.png', 'plane_s_000809.png', 'airbus_s_000364.png', 'fighter_s_000812.png', 'biplane_s_000505.png', 'amphibious_aircraft_s_000287.png', 'amphibious_aircraft_s_000812.png', 'biplane_s_001805.png', 'airbus_s_002032.png', 'jumbojet_s_000380.png', 'stealth_bomber_s_000141.png', 'propeller_plane_s_001701.png', 'jumbojet_s_001266.png', 'biplane_s_000098.png', 'monoplane_s_001055.png', 'airliner_s_001334.png', 'fighter_aircraft_s_000313.png', 'propeller_plane_s_000609.png', 'monoplane_s_000301.png', 'biplane_s_001652.png', 'fighter_aircraft_s_000538.png', 'jetliner_s_001997.png', 'airliner_s_000238.png', 'stealth_bomber_s_001279.png', 'fighter_aircraft_s_001023.png', 'monoplane_s_000491.png', 'airliner_s_001295.png', 'airliner_s_001863.png', 'jumbojet_s_000703.png', 'airliner_s_001783.png', 'stealth_bomber_s_001957.png', 'biplane_s_001527.png', 'biplane_s_001341.png', 'plane_s_001066.png', 'jumbo_jet_s_000281.png', 'fighter_aircraft_s_000895.png', 'amphibious_aircraft_s_000382.png', 'stealth_bomber_s_000511.png', 'dive_bomber_s_000380.png', 'propeller_plane_s_000718.png', 'fighter_aircraft_s_000660.png', 'attack_aircraft_s_001443.png', 'attack_aircraft_s_000089.png', 'biplane_s_001938.png', 'twinjet_s_001428.png', 'fighter_aircraft_s_001143.png', 'jumbojet_s_000175.png', 'stealth_fighter_s_000858.png', 'biplane_s_001135.png', 'stealth_bomber_s_001323.png', 'propeller_plane_s_001130.png', 'airliner_s_001814.png', 'biplane_s_001889.png', 'stealth_fighter_s_001243.png', 'amphibious_aircraft_s_000053.png', 'jumbo_jet_s_000551.png', 'propeller_plane_s_000224.png', 'airbus_s_001293.png', 'biplane_s_000345.png', 'airbus_s_000701.png', 'jumbojet_s_001194.png', 'biplane_s_001049.png', 'biplane_s_001251.png', 'biplane_s_000963.png', 'jumbo_jet_s_000971.png', 'stealth_bomber_s_000550.png', 'fighter_aircraft_s_001451.png', 'stealth_bomber_s_001661.png', 'jetliner_s_000686.png', 'stealth_bomber_s_001405.png', 'stealth_bomber_s_000614.png', 'airplane_s_000220.png', 'floatplane_s_000227.png', 'twinjet_s_001114.png', 'stealth_bomber_s_000853.png', 'stealth_bomber_s_000082.png', 'biplane_s_001256.png', 'jetliner_s_000049.png', 'airliner_s_000020.png', 'jumbojet_s_001022.png', 'stealth_bomber_s_001376.png', 'jumbo_jet_s_000015.png', 'plane_s_000450.png', 'monoplane_s_000098.png', 'jetliner_s_000790.png', 'fighter_aircraft_s_001016.png', 'biplane_s_000523.png', 'biplane_s_000038.png', 'biplane_s_001134.png', 'jumbojet_s_001024.png', 'monoplane_s_000293.png', 'monoplane_s_000296.png', 'stealth_bomber_s_001849.png', 'airbus_s_001866.png', 'jetliner_s_000961.png', 'biplane_s_000716.png', 'dive_bomber_s_000479.png', 'airbus_s_001683.png', 'twinjet_s_000645.png', 'fighter_aircraft_s_000059.png', 'amphibious_aircraft_s_000333.png', 'attack_aircraft_s_001795.png', 'bomber_s_000060.png', 'attack_aircraft_s_000886.png', 'monoplane_s_001546.png', 'biplane_s_000088.png', 'twinjet_s_000613.png', 'monoplane_s_000149.png', 'biplane_s_001812.png', 'jetliner_s_000807.png', 'jumbo_jet_s_000942.png', 'biplane_s_000392.png', 'jetliner_s_001122.png', 'stealth_bomber_s_000694.png', 'twinjet_s_000245.png', 'attack_aircraft_s_001187.png', 'stealth_bomber_s_001840.png', 'jetliner_s_000875.png', 'dive_bomber_s_000391.png', 'stealth_fighter_s_000492.png', 'amphibious_aircraft_s_001239.png', 'monoplane_s_000413.png', 'biplane_s_001337.png', 'dive_bomber_s_001525.png', 'fighter_aircraft_s_000694.png', 'jumbo_jet_s_001519.png', 'stealth_fighter_s_000200.png', 'jumbojet_s_001038.png', 'monoplane_s_000163.png', 'stealth_fighter_s_001499.png', 'attack_aircraft_s_000836.png', 'stealth_bomber_s_000982.png', 'fighter_aircraft_s_001868.png', 'attack_aircraft_s_000930.png', 'jetliner_s_000694.png', 'attack_aircraft_s_000044.png', 'jumbo_jet_s_000762.png', 'biplane_s_001338.png', 'stealth_bomber_s_001485.png', 'stealth_bomber_s_000803.png', 'stealth_fighter_s_000083.png', 'amphibious_aircraft_s_000815.png', 'fighter_s_000094.png', 'stealth_bomber_s_000393.png', 'stealth_bomber_s_000109.png', 'dive_bomber_s_000502.png', 'fighter_aircraft_s_001069.png', 'reconnaissance_plane_s_000879.png', 'attack_aircraft_s_001147.png', 'seaplane_s_002044.png', 'reconnaissance_plane_s_001149.png', 'airbus_s_001202.png', 'attack_aircraft_s_000561.png', 'jumbo_jet_s_000211.png', 'biplane_s_001619.png', 'airbus_s_001115.png', 'fighter_aircraft_s_001115.png', 'fighter_aircraft_s_001198.png', 'stealth_fighter_s_000002.png', 'jumbo_jet_s_001204.png', 'fighter_aircraft_s_000022.png', 'biplane_s_000169.png', 'stealth_bomber_s_000220.png', 'plane_s_001239.png', 'fighter_aircraft_s_000115.png', 'airbus_s_000997.png', 'airbus_s_001591.png', 'stealth_fighter_s_001748.png', 'attack_aircraft_s_000064.png', 'jumbo_jet_s_000110.png', 'attack_aircraft_s_001466.png', 'attack_aircraft_s_001498.png', 'monoplane_s_000956.png', 'plane_s_000777.png', 'multiengine_airplane_s_000399.png', 'fighter_aircraft_s_000160.png', 'twinjet_s_001585.png', 'attack_aircraft_s_001742.png', 'biplane_s_002253.png', 'dive_bomber_s_000605.png', 'jumbo_jet_s_000533.png', 'jumbojet_s_000683.png', 'airbus_s_000144.png', 'jumbojet_s_001023.png', 'twinjet_s_000453.png', 'amphibious_aircraft_s_001305.png', 'jumbojet_s_000407.png', 'fighter_aircraft_s_000515.png', 'jumbo_jet_s_001612.png', 'airbus_s_000550.png', 'stealth_fighter_s_000334.png', 'fighter_aircraft_s_000110.png', 'attack_aircraft_s_000748.png', 'stealth_bomber_s_000182.png', 'fighter_aircraft_s_000701.png', 'plane_s_000601.png', 'jumbo_jet_s_001641.png', 'stealth_bomber_s_001413.png', 'twinjet_s_001420.png', 'attack_aircraft_s_001789.png', 'propeller_plane_s_002099.png', 'dive_bomber_s_001652.png', 'stealth_bomber_s_000285.png', 'airbus_s_000264.png', 'stealth_fighter_s_001380.png', 'monoplane_s_001463.png', 'stealth_bomber_s_000429.png', 'stealth_bomber_s_001911.png', 'multiengine_plane_s_000006.png', 'floatplane_s_000303.png', 'attack_aircraft_s_001774.png', 'attack_aircraft_s_001737.png', 'propeller_plane_s_002044.png', 'fighter_aircraft_s_000632.png', 'monoplane_s_001386.png', 'jumbo_jet_s_001762.png', 'airliner_s_001884.png', 'fighter_aircraft_s_000225.png', 'monoplane_s_000513.png', 'dive_bomber_s_001732.png', 'airliner_s_000480.png', 'airbus_s_000938.png', 'stealth_fighter_s_000691.png', 'stealth_bomber_s_000721.png', 'stealth_bomber_s_000223.png', 'attack_aircraft_s_001412.png', 'multiengine_airplane_s_000408.png', 'propeller_plane_s_001755.png', 'stealth_bomber_s_000306.png', 'biplane_s_000145.png', 'biplane_s_001904.png', 'stealth_fighter_s_000519.png', 'dive_bomber_s_000084.png', 'biplane_s_001133.png', 'twinjet_s_000630.png', 'jumbojet_s_000343.png', 'stealth_fighter_s_001045.png', 'fighter_aircraft_s_000847.png', 'twinjet_s_000935.png', 'jumbojet_s_000522.png', 'twinjet_s_000971.png', 'attack_aircraft_s_000396.png', 'airbus_s_001651.png', 'fighter_s_000276.png', 'fighter_aircraft_s_001565.png', 'fighter_aircraft_s_000890.png', 'dive_bomber_s_000687.png', 'airliner_s_000372.png', 'propeller_plane_s_002073.png', 'jumbojet_s_000696.png', 'dive_bomber_s_000342.png', 'stealth_bomber_s_000334.png', 'biplane_s_001745.png', 'airbus_s_001677.png', 'jetliner_s_000394.png', 'biplane_s_001519.png', 'reconnaissance_plane_s_000146.png', 'fighter_s_000051.png', 'stealth_fighter_s_001066.png', 'plane_s_000924.png', 'fighter_aircraft_s_001064.png', 'attack_aircraft_s_000614.png', 'attack_aircraft_s_000695.png', 'stealth_fighter_s_000120.png', 'twinjet_s_000603.png', 'stealth_fighter_s_000282.png', 'airliner_s_001368.png', 'attack_aircraft_s_001120.png', 'stealth_bomber_s_001257.png', 'monoplane_s_001105.png', 'jumbo_jet_s_000874.png', 'stealth_bomber_s_000447.png', 'fighter_aircraft_s_001026.png', 'dive_bomber_s_001128.png', 'stealth_fighter_s_000106.png', 'stealth_bomber_s_000713.png', 'stealth_bomber_s_000317.png', 'stealth_bomber_s_000949.png', 'jetliner_s_000676.png', 'monoplane_s_000697.png', 'jumbo_jet_s_001646.png', 'fighter_aircraft_s_001457.png', 'monoplane_s_001181.png', 'fighter_aircraft_s_000592.png', 'fighter_aircraft_s_000615.png', 'biplane_s_002010.png', 'monoplane_s_001071.png', 'fighter_aircraft_s_000119.png', 'airbus_s_002130.png', 'dive_bomber_s_001093.png', 'amphibious_aircraft_s_000470.png', 'airbus_s_001925.png', 'monoplane_s_001520.png', 'stealth_bomber_s_001158.png', 'twinjet_s_001144.png', 'propeller_plane_s_001089.png', 'airbus_s_001326.png', 'jetliner_s_001988.png', 'twinjet_s_000649.png', 'biplane_s_001384.png', 'fighter_aircraft_s_000137.png', 'propeller_plane_s_000316.png', 'airliner_s_001722.png', 'fighter_aircraft_s_000853.png', 'amphibious_aircraft_s_000625.png', 'monoplane_s_000092.png', 'fighter_aircraft_s_000116.png', 'fighter_aircraft_s_001813.png', 'jetliner_s_001246.png', 'jumbo_jet_s_000933.png', 'fighter_aircraft_s_001601.png', 'twinjet_s_000175.png', 'airbus_s_000242.png', 'airliner_s_000145.png', 'monoplane_s_000544.png', 'jetliner_s_000565.png', 'fighter_aircraft_s_000214.png', 'plane_s_000830.png', 'multiengine_airplane_s_000021.png', 'fighter_aircraft_s_001070.png', 'biplane_s_000847.png', 'propeller_plane_s_000970.png', 'seaplane_s_002211.png', 'jumbo_jet_s_000909.png', 'biplane_s_001907.png', 'fighter_s_000268.png', 'monoplane_s_000305.png', 'stealth_fighter_s_001208.png', 'airliner_s_000088.png', 'stealth_bomber_s_000801.png', 'airliner_s_001790.png', 'seaplane_s_000781.png', 'jumbojet_s_001095.png', 'amphibious_aircraft_s_000337.png', 'jumbo_jet_s_000974.png', 'dive_bomber_s_000123.png', 'propeller_plane_s_000936.png', 'jumbo_jet_s_000726.png', 'attack_aircraft_s_000118.png', 'stealth_fighter_s_001416.png', 'jetliner_s_001470.png', 'seaplane_s_000705.png', 'airbus_s_001657.png', 'stealth_fighter_s_001608.png', 'twinjet_s_000519.png', 'attack_aircraft_s_000045.png', 'airbus_s_001537.png', 'airliner_s_001872.png', 'stealth_bomber_s_001780.png', 'jumbojet_s_000002.png', 'fighter_aircraft_s_001383.png', 'twinjet_s_000737.png', 'airbus_s_001212.png', 'multiengine_plane_s_000182.png', 'twinjet_s_001056.png', 'airliner_s_001499.png', 'monoplane_s_001336.png', 'jumbojet_s_000935.png', 'stealth_fighter_s_001126.png', 'jetliner_s_000101.png', 'fighter_s_000960.png', 'monoplane_s_000220.png', 'airliner_s_000093.png', 'airliner_s_001312.png', 'jetliner_s_000109.png', 'monoplane_s_000791.png', 'biplane_s_000701.png', 'propeller_plane_s_001548.png', 'airbus_s_002297.png', 'attack_aircraft_s_001481.png', 'attack_aircraft_s_000612.png', 'fighter_aircraft_s_001185.png', 'twinjet_s_000429.png', 'airliner_s_000514.png', 'airliner_s_000144.png', 'dive_bomber_s_001520.png', 'stealth_fighter_s_000808.png', 'dive_bomber_s_001484.png', 'airbus_s_002181.png', 'jetliner_s_000041.png', 'monoplane_s_000179.png', 'biplane_s_000627.png', 'dive_bomber_s_001418.png', 'monoplane_s_001361.png', 'stealth_bomber_s_001589.png', 'stealth_bomber_s_000516.png', 'attack_aircraft_s_001366.png', 'jetliner_s_001312.png', 'twinjet_s_000933.png', 'twinjet_s_001371.png', 'biplane_s_001241.png', 'stealth_fighter_s_000559.png', 'monoplane_s_000277.png', 'airliner_s_000774.png', 'stealth_bomber_s_001446.png', 'airbus_s_001516.png', 'airliner_s_002224.png', 'amphibious_aircraft_s_000846.png', 'airliner_s_000744.png', 'airliner_s_001243.png', 'stealth_fighter_s_000432.png', 'jumbo_jet_s_001461.png', 'stealth_fighter_s_001753.png', 'interceptor_s_000060.png', 'amphibious_aircraft_s_001404.png', 'fighter_aircraft_s_001534.png', 'airliner_s_000049.png', 'stealth_fighter_s_001759.png', 'propeller_plane_s_000086.png', 'airbus_s_001881.png', 'dive_bomber_s_000547.png', 'stealth_fighter_s_000034.png', 'airliner_s_001151.png', 'airbus_s_000238.png', 'plane_s_000658.png', 'airbus_s_002162.png', 'stealth_fighter_s_000740.png', 'fighter_aircraft_s_001858.png', 'airbus_s_002165.png', 'amphibious_aircraft_s_000642.png', 'stealth_bomber_s_000686.png', 'multiengine_airplane_s_000367.png', 'stealth_bomber_s_000108.png', 'attack_aircraft_s_001728.png', 'airliner_s_000336.png', 'fighter_aircraft_s_000656.png', 'airliner_s_001143.png', 'monoplane_s_001511.png', 'monoplane_s_001284.png', 'fighter_aircraft_s_001204.png', 'twinjet_s_001252.png', 'airbus_s_000582.png', 'dive_bomber_s_000762.png', 'reconnaissance_plane_s_000865.png', 'jumbojet_s_000520.png', 'airliner_s_000096.png', 'monoplane_s_000450.png', 'jumbo_jet_s_000010.png', 'plane_s_000584.png', 'biplane_s_001625.png', 'jumbo_jet_s_000911.png', 'jetliner_s_000232.png', 'fighter_s_000667.png', 'airliner_s_001150.png', 'stealth_fighter_s_000885.png', 'reconnaissance_plane_s_000243.png', 'stealth_bomber_s_002149.png', 'jumbo_jet_s_001382.png', 'airplane_s_000089.png', 'stealth_bomber_s_001611.png', 'airliner_s_000273.png', 'fighter_aircraft_s_000099.png', 'jumbojet_s_000381.png', 'fighter_aircraft_s_001814.png', 'biplane_s_000206.png', 'biplane_s_000522.png', 'jumbojet_s_001660.png', 'twinjet_s_000360.png', 'attack_aircraft_s_001419.png', 'stealth_fighter_s_001226.png', 'airbus_s_001160.png', 'attack_aircraft_s_001168.png', 'fighter_aircraft_s_000348.png', 'dive_bomber_s_001691.png', 'jetliner_s_001745.png', 'stealth_fighter_s_000960.png', 'stealth_bomber_s_001387.png', 'airbus_s_000428.png', 'stealth_fighter_s_001134.png', 'jetliner_s_001437.png', 'airbus_s_002133.png', 'attack_aircraft_s_000480.png', 'jumbo_jet_s_000803.png', 'attack_aircraft_s_000335.png', 'airbus_s_001688.png', 'twinjet_s_000014.png', 'biplane_s_000615.png', 'jetliner_s_001817.png', 'stealth_bomber_s_000416.png', 'airliner_s_001241.png', 'stealth_bomber_s_001407.png', 'airbus_s_000052.png', 'attack_aircraft_s_001307.png', 'twinjet_s_000676.png', 'airbus_s_002101.png', 'amphibious_aircraft_s_000326.png', 'biplane_s_001926.png', 'jetliner_s_001003.png', 'monoplane_s_000072.png', 'airliner_s_001323.png', 'amphibious_aircraft_s_000192.png', 'twinjet_s_000798.png', 'multiengine_airplane_s_000225.png', 'stealth_fighter_s_000187.png', 'attack_aircraft_s_000153.png', 'jetliner_s_000921.png', 'dive_bomber_s_000624.png', 'propeller_plane_s_001575.png', 'monoplane_s_000456.png', 'fighter_aircraft_s_000248.png', 'fighter_s_000573.png', 'monoplane_s_000938.png', 'fighter_aircraft_s_001582.png', 'biplane_s_000641.png', 'airbus_s_000109.png', 'airliner_s_000044.png', 'monoplane_s_000364.png', 'twinjet_s_000591.png', 'biplane_s_000292.png', 'dive_bomber_s_000771.png', 'attack_aircraft_s_000298.png', 'stealth_fighter_s_000573.png', 'stealth_fighter_s_001548.png', 'jetliner_s_000601.png', 'airbus_s_000962.png', 'attack_aircraft_s_000096.png', 'fighter_aircraft_s_001714.png', 'twinjet_s_001542.png', 'stealth_bomber_s_001120.png', 'plane_s_000773.png', 'fighter_s_000130.png', 'stealth_fighter_s_001890.png', 'dive_bomber_s_000497.png', 'stealth_fighter_s_000560.png', 'stealth_bomber_s_002083.png', 'stealth_fighter_s_000533.png', 'jumbojet_s_000095.png', 'jumbo_jet_s_000089.png', 'jumbojet_s_000704.png', 'airliner_s_001376.png', 'airliner_s_001882.png', 'biplane_s_000570.png', 'twinjet_s_000044.png', 'jumbo_jet_s_001637.png', 'jumbojet_s_001622.png', 'biplane_s_000240.png', 'airliner_s_002027.png', 'jetliner_s_001167.png', 'airliner_s_001779.png', 'airbus_s_001118.png', 'jetliner_s_000480.png', 'stealth_fighter_s_001202.png', 'dive_bomber_s_000570.png', 'airliner_s_002075.png', 'biplane_s_000883.png', 'airbus_s_000289.png', 'stealth_fighter_s_000070.png', 'fighter_aircraft_s_001214.png', 'stealth_fighter_s_001898.png', 'stealth_bomber_s_001457.png', 'fighter_s_000663.png', 'dive_bomber_s_001012.png', 'amphibious_aircraft_s_000012.png', 'dive_bomber_s_001260.png', 'stealth_fighter_s_001313.png', 'propeller_plane_s_000149.png', 'plane_s_000068.png', 'fighter_s_000660.png', 'fighter_aircraft_s_001523.png', 'stealth_bomber_s_000068.png', 'stealth_bomber_s_000625.png', 'stealth_fighter_s_000981.png', 'fighter_aircraft_s_000002.png', 'jumbojet_s_000183.png', 'airliner_s_001822.png', 'monoplane_s_000322.png', 'airbus_s_000796.png', 'fighter_s_000328.png', 'amphibious_aircraft_s_001499.png', 'stealth_bomber_s_001976.png', 'stealth_fighter_s_001271.png', 'attack_aircraft_s_000049.png', 'fighter_aircraft_s_001450.png', 'stealth_fighter_s_001606.png', 'dive_bomber_s_000768.png', 'stealth_bomber_s_002227.png', 'airliner_s_001122.png', 'seaplane_s_000168.png', 'stealth_bomber_s_000110.png', 'fighter_aircraft_s_000101.png', 'seaplane_s_000836.png', 'fighter_s_000782.png', 'jetliner_s_001383.png', 'stealth_bomber_s_002305.png', 'biplane_s_000580.png', 'stealth_bomber_s_000588.png', 'jumbojet_s_001265.png', 'jetliner_s_001905.png', 'stealth_fighter_s_000606.png', 'stealth_bomber_s_000703.png', 'monoplane_s_001497.png', 'fighter_aircraft_s_001543.png', 'fighter_s_000116.png', 'seaplane_s_000827.png', 'stealth_bomber_s_000882.png', 'stealth_bomber_s_001099.png', 'twinjet_s_001100.png', 'attack_aircraft_s_000029.png', 'attack_aircraft_s_001410.png', 'fighter_aircraft_s_001805.png', 'fighter_aircraft_s_000056.png', 'stealth_fighter_s_000529.png', 'stealth_fighter_s_000874.png', 'fighter_aircraft_s_001144.png', 'attack_aircraft_s_001010.png', 'twinjet_s_001403.png', 'dive_bomber_s_001718.png', 'multiengine_airplane_s_000237.png', 'dive_bomber_s_001001.png', 'hangar_queen_s_000107.png', 'fighter_aircraft_s_000221.png', 'jumbo_jet_s_001087.png', 'stealth_bomber_s_001375.png', 'jumbo_jet_s_000186.png', 'airplane_s_000079.png', 'multiengine_plane_s_000056.png', 'airliner_s_000951.png', 'fighter_aircraft_s_000331.png', 'airbus_s_000891.png', 'stealth_fighter_s_001369.png', 'plane_s_000772.png', 'jumbojet_s_000789.png', 'jumbo_jet_s_000834.png', 'propeller_plane_s_000161.png', 'biplane_s_000039.png', 'jumbo_jet_s_001688.png', 'attack_aircraft_s_001075.png', 'biplane_s_000473.png', 'seaplane_s_001398.png', 'airliner_s_000173.png', 'plane_s_000025.png', 'twinjet_s_001137.png', 'dive_bomber_s_000119.png', 'biplane_s_000723.png', 'amphibious_aircraft_s_001494.png', 'jetliner_s_000410.png', 'twinjet_s_000465.png', 'propeller_plane_s_001184.png', 'twinjet_s_000841.png', 'jumbojet_s_000822.png', 'stealth_fighter_s_001038.png', 'fighter_aircraft_s_000777.png', 'jetliner_s_000967.png', 'jumbo_jet_s_000223.png', 'monoplane_s_001538.png', 'airbus_s_001922.png', 'multiengine_airplane_s_000184.png', 'hangar_queen_s_000016.png', 'stealth_bomber_s_000605.png', 'biplane_s_001433.png', 'jetliner_s_001016.png', 'airliner_s_001365.png', 'biplane_s_001903.png', 'biplane_s_000892.png', 'stealth_fighter_s_000059.png', 'reconnaissance_plane_s_000037.png', 'stealth_bomber_s_000408.png', 'attack_aircraft_s_000833.png', 'stealth_fighter_s_000443.png', 'jetliner_s_001563.png', 'twinjet_s_000240.png', 'airliner_s_001574.png', 'stealth_fighter_s_000098.png', 'twinjet_s_001187.png', 'stealth_bomber_s_001014.png', 'attack_aircraft_s_000491.png', 'biplane_s_000441.png', 'fighter_aircraft_s_000062.png', 'stealth_fighter_s_000021.png', 'stealth_bomber_s_000348.png', 'fighter_aircraft_s_001225.png', 'fighter_aircraft_s_001873.png', 'jetliner_s_001401.png', 'jumbo_jet_s_001635.png', 'stealth_fighter_s_000405.png', 'fighter_aircraft_s_000938.png', 'jetliner_s_000935.png', 'twinjet_s_001510.png', 'hangar_queen_s_000152.png', 'seaplane_s_000109.png', 'dive_bomber_s_000487.png', 'stealth_fighter_s_000498.png', 'jumbo_jet_s_000096.png', 'stealth_bomber_s_001664.png', 'biplane_s_000314.png', 'airbus_s_000448.png', 'jetliner_s_001323.png', 'stealth_bomber_s_001315.png', 'stealth_fighter_s_000347.png', 'airbus_s_001383.png', 'attack_aircraft_s_000542.png', 'airbus_s_001166.png', 'biplane_s_001970.png', 'monoplane_s_000007.png', 'monoplane_s_000398.png', 'biplane_s_000584.png', 'dive_bomber_s_001261.png', 'airbus_s_001025.png', 'biplane_s_000786.png', 'multiengine_airplane_s_000086.png', 'biplane_s_000075.png', 'attack_aircraft_s_000417.png', 'amphibious_aircraft_s_000467.png', 'jumbo_jet_s_001197.png', 'monoplane_s_001518.png', 'fighter_s_001041.png', 'jetliner_s_001529.png', 'monoplane_s_001561.png', 'multiengine_airplane_s_000096.png', 'propeller_plane_s_001937.png', 'airbus_s_001324.png', 'fighter_aircraft_s_000293.png', 'airliner_s_002252.png', 'fighter_s_000952.png', 'attack_aircraft_s_001791.png', 'jetliner_s_001845.png', 'stealth_bomber_s_000134.png', 'twinjet_s_000500.png', 'jumbojet_s_001246.png', 'jetliner_s_001476.png', 'airliner_s_000757.png', 'multiengine_plane_s_000169.png', 'biplane_s_001631.png', 'airbus_s_000149.png', 'dive_bomber_s_001572.png', 'attack_aircraft_s_001332.png', 'airliner_s_002017.png', 'airbus_s_000684.png', 'attack_aircraft_s_001157.png', 'stealth_bomber_s_002257.png', 'airbus_s_000137.png', 'aeroplane_s_000044.png', 'fighter_aircraft_s_001335.png', 'attack_aircraft_s_000129.png', 'kamikaze_s_000301.png', 'airliner_s_002180.png', 'fighter_aircraft_s_001776.png', 'stealth_fighter_s_000563.png', 'attack_aircraft_s_001119.png', 'stealth_bomber_s_001544.png', 'dive_bomber_s_001683.png', 'attack_aircraft_s_001743.png', 'jumbo_jet_s_001686.png', 'attack_aircraft_s_000495.png', 'airliner_s_001019.png', 'attack_aircraft_s_000023.png', 'airbus_s_002088.png', 'stealth_bomber_s_000924.png', 'monoplane_s_001533.png', 'jetliner_s_000369.png', 'attack_aircraft_s_000511.png', 'airbus_s_001338.png', 'floatplane_s_000288.png', 'stealth_bomber_s_001035.png', 'attack_aircraft_s_001342.png', 'airbus_s_001948.png', 'attack_aircraft_s_001291.png', 'airbus_s_000793.png', 'airliner_s_000175.png', 'dive_bomber_s_001390.png', 'jumbo_jet_s_001375.png', 'airbus_s_000454.png', 'stealth_fighter_s_000603.png', 'biplane_s_001033.png', 'airbus_s_000296.png', 'attack_aircraft_s_001786.png', 'amphibious_aircraft_s_000723.png', 'stealth_bomber_s_000979.png', 'aeroplane_s_000023.png', 'stealth_bomber_s_000539.png', 'stealth_fighter_s_000495.png', 'stealth_bomber_s_001068.png', 'airbus_s_000521.png', 'attack_aircraft_s_001078.png', 'dive_bomber_s_000707.png', 'stealth_fighter_s_001344.png', 'biplane_s_000036.png', 'twinjet_s_001377.png', 'airbus_s_000714.png', 'twinjet_s_001513.png', 'fighter_aircraft_s_001661.png', 'dive_bomber_s_000236.png', 'jumbo_jet_s_000001.png', 'propeller_plane_s_000807.png', 'plane_s_000144.png', 'biplane_s_000486.png', 'hangar_queen_s_000253.png', 'stealth_bomber_s_002335.png', 'stealth_fighter_s_001587.png', 'stealth_bomber_s_000038.png', 'dive_bomber_s_001295.png', 'jetliner_s_000682.png', 'airbus_s_000886.png', 'twinjet_s_000327.png', 'jetliner_s_001778.png', 'biplane_s_002088.png', 'fighter_aircraft_s_001798.png', 'jumbo_jet_s_000516.png', 'fighter_aircraft_s_000726.png', 'fighter_s_000731.png', 'amphibious_aircraft_s_000829.png', 'jumbojet_s_001587.png', 'airplane_s_000026.png', 'jetliner_s_001111.png', 'twinjet_s_000921.png', 'stealth_bomber_s_000142.png', 'biplane_s_002152.png', 'stealth_bomber_s_000316.png', 'biplane_s_001438.png', 'airbus_s_001359.png', 'biplane_s_001343.png', 'airliner_s_001246.png', 'stealth_fighter_s_000324.png', 'fighter_aircraft_s_001864.png', 'stealth_bomber_s_000448.png', 'jetliner_s_000253.png', 'airliner_s_002045.png', 'stealth_bomber_s_001727.png', 'attack_aircraft_s_000578.png', 'airliner_s_000697.png', 'twinjet_s_001046.png', 'stealth_fighter_s_001128.png', 'stealth_fighter_s_001679.png', 'biplane_s_001355.png', 'jumbojet_s_000044.png', 'hangar_queen_s_000078.png', 'stealth_fighter_s_000890.png', 'jumbojet_s_000286.png', 'twinjet_s_000972.png', 'fighter_aircraft_s_001145.png', 'airbus_s_000114.png', 'amphibious_aircraft_s_000901.png', 'jetliner_s_001710.png', 'biplane_s_000406.png', 'plane_s_001115.png', 'monoplane_s_000292.png', 'jumbojet_s_001026.png', 'attack_aircraft_s_000585.png', 'fighter_aircraft_s_000193.png', 'biplane_s_000037.png', 'amphibious_aircraft_s_000663.png', 'fighter_aircraft_s_000076.png', 'monoplane_s_000010.png', 'stealth_fighter_s_001787.png', 'stealth_fighter_s_001419.png', 'twinjet_s_000544.png', 'attack_aircraft_s_001054.png', 'biplane_s_000565.png', 'multiengine_airplane_s_000357.png', 'fighter_aircraft_s_000164.png', 'monoplane_s_000047.png', 'fighter_aircraft_s_001583.png', 'stealth_fighter_s_000824.png', 'attack_aircraft_s_001069.png', 'airbus_s_002176.png', 'twinjet_s_001417.png', 'airliner_s_000146.png', 'jumbo_jet_s_000360.png', 'fighter_s_000556.png', 'stealth_fighter_s_000250.png', 'dive_bomber_s_000102.png', 'fighter_aircraft_s_000299.png', 'jumbojet_s_000173.png', 'propeller_plane_s_001784.png', 'biplane_s_001906.png', 'jumbo_jet_s_001034.png', 'fighter_s_000180.png', 'airbus_s_001368.png', 'jetliner_s_000800.png', 'biplane_s_000190.png', 'airbus_s_001281.png', 'jetliner_s_000112.png', 'jetliner_s_002009.png', 'stealth_bomber_s_001906.png', 'monoplane_s_000995.png', 'airliner_s_001424.png', 'twinjet_s_001338.png', 'fighter_aircraft_s_001389.png', 'biplane_s_002309.png', 'stealth_fighter_s_001028.png', 'jetliner_s_001897.png', 'plane_s_000971.png', 'attack_aircraft_s_001597.png', 'jumbo_jet_s_000606.png', 'propeller_plane_s_000565.png', 'dive_bomber_s_000639.png', 'propeller_plane_s_001688.png', 'stealth_bomber_s_001537.png', 'attack_aircraft_s_001704.png', 'fighter_s_000096.png', 'airliner_s_002154.png', 'amphibious_aircraft_s_000487.png', 'airliner_s_000437.png', 'airliner_s_001925.png', 'stealth_fighter_s_000279.png', 'monoplane_s_000622.png', 'jumbo_jet_s_000321.png', 'plane_s_001237.png', 'twinjet_s_001379.png', 'stealth_fighter_s_000020.png', 'monoplane_s_000167.png', 'fighter_aircraft_s_000097.png', 'monoplane_s_000976.png', 'jumbo_jet_s_000073.png', 'dive_bomber_s_001677.png', 'plane_s_000568.png', 'jumbo_jet_s_000397.png', 'stealth_bomber_s_000355.png', 'multiengine_airplane_s_000208.png', 'monoplane_s_001086.png', 'stealth_bomber_s_000004.png', 'stealth_fighter_s_001637.png', 'biplane_s_002159.png', 'jetliner_s_000603.png', 'monoplane_s_000693.png', 'stealth_bomber_s_001759.png', 'biplane_s_001979.png', 'jetliner_s_000672.png', 'airbus_s_000235.png', 'stealth_fighter_s_000362.png', 'reconnaissance_plane_s_000995.png', 'airliner_s_000862.png', 'dive_bomber_s_000238.png', 'airliner_s_001979.png', 'stealth_bomber_s_000025.png', 'jetliner_s_000401.png', 'stealth_bomber_s_000018.png', 'stealth_bomber_s_001133.png', 'monoplane_s_000318.png', 'fighter_aircraft_s_001542.png', 'jumbo_jet_s_000698.png', 'attack_aircraft_s_000824.png', 'fighter_aircraft_s_001797.png', 'jetliner_s_000378.png', 'jetliner_s_000115.png', 'stealth_fighter_s_000294.png', 'stealth_fighter_s_000420.png', 'stealth_bomber_s_000392.png', 'stealth_bomber_s_001167.png', 'stealth_bomber_s_002295.png', 'stealth_bomber_s_000983.png', 'stealth_bomber_s_002337.png', 'stealth_fighter_s_000996.png', 'airbus_s_000687.png', 'jumbo_jet_s_001479.png', 'airbus_s_000012.png', 'dive_bomber_s_000304.png', 'stealth_bomber_s_000047.png', 'reconnaissance_plane_s_001066.png', 'dive_bomber_s_000540.png', 'jumbo_jet_s_001780.png', 'bomber_s_000025.png', 'plane_s_001283.png', 'stealth_fighter_s_001343.png', 'dive_bomber_s_000086.png', 'stealth_fighter_s_000235.png', 'fighter_aircraft_s_001811.png', 'airbus_s_001450.png', 'jumbojet_s_001225.png', 'jetliner_s_000579.png', 'stealth_bomber_s_001168.png', 'jumbo_jet_s_000559.png', 'dive_bomber_s_000555.png', 'stealth_bomber_s_000342.png', 'airbus_s_000217.png', 'airbus_s_001581.png', 'jumbo_jet_s_000929.png', 'seaplane_s_002130.png', 'stealth_fighter_s_000042.png', 'jetliner_s_000986.png', 'hangar_queen_s_000123.png', 'airbus_s_000290.png', 'jumbojet_s_000710.png', 'biplane_s_000001.png', 'propeller_plane_s_001633.png', 'airbus_s_000732.png', 'monoplane_s_000237.png', 'airbus_s_000034.png', 'stealth_fighter_s_000670.png', 'stealth_fighter_s_000012.png', 'fighter_aircraft_s_000697.png', 'stealth_bomber_s_002103.png', 'twinjet_s_001028.png', 'multiengine_airplane_s_000166.png', 'airbus_s_002051.png', 'airbus_s_001551.png', 'stealth_fighter_s_001006.png', 'fighter_aircraft_s_001087.png', 'airbus_s_000042.png', 'attack_aircraft_s_000302.png', 'monoplane_s_000342.png', 'aeroplane_s_000071.png', 'twinjet_s_001180.png', 'stealth_fighter_s_001205.png', 'stealth_fighter_s_000436.png', 'hangar_queen_s_000013.png', 'twinjet_s_001207.png', 'airliner_s_000541.png', 'twinjet_s_000565.png', 'stealth_fighter_s_000344.png', 'biplane_s_000488.png', 'jetliner_s_001042.png', 'propeller_plane_s_001686.png', 'jetliner_s_001918.png', 'fighter_s_000559.png', 'propeller_plane_s_000723.png', 'jumbojet_s_001044.png', 'jetliner_s_000413.png', 'propeller_plane_s_001689.png', 'amphibious_aircraft_s_000273.png', 'jetliner_s_000728.png', 'airliner_s_001216.png', 'attack_aircraft_s_000572.png', 'reconnaissance_plane_s_001127.png', 'stealth_bomber_s_000698.png', 'stealth_fighter_s_000570.png', 'fighter_aircraft_s_001462.png', 'airbus_s_001827.png', 'fighter_s_000172.png', 'jumbojet_s_001623.png', 'airplane_s_000126.png', 'airbus_s_002116.png', 'multiengine_airplane_s_000078.png', 'dive_bomber_s_000841.png', 'fighter_s_000284.png', 'stealth_bomber_s_000935.png', 'attack_aircraft_s_001436.png', 'plane_s_000672.png', 'stealth_bomber_s_001464.png', 'stealth_bomber_s_001715.png', 'airbus_s_001640.png', 'jetliner_s_001772.png', 'stealth_fighter_s_000259.png', 'airliner_s_000553.png', 'monoplane_s_000346.png', 'stealth_fighter_s_000144.png', 'stealth_fighter_s_000025.png', 'dive_bomber_s_001011.png', 'stealth_bomber_s_002329.png', 'jumbo_jet_s_001787.png', 'airbus_s_000670.png', 'reconnaissance_plane_s_000633.png', 'stealth_bomber_s_001532.png', 'amphibious_aircraft_s_000296.png', 'propeller_plane_s_001093.png', 'attack_aircraft_s_001315.png', 'jetliner_s_001615.png', 'jumbojet_s_000080.png', 'jumbo_jet_s_000006.png', 'jumbojet_s_000999.png', 'biplane_s_000379.png', 'seaplane_s_000154.png', 'seaplane_s_001634.png', 'multiengine_airplane_s_000186.png', 'reconnaissance_plane_s_000708.png', 'dive_bomber_s_001179.png', 'jetliner_s_001043.png', 'jumbo_jet_s_000267.png', 'propeller_plane_s_000125.png', 'airbus_s_000768.png', 'fighter_aircraft_s_001469.png', 'seaplane_s_001619.png', 'biplane_s_000148.png', 'stealth_fighter_s_000049.png', 'multiengine_airplane_s_000255.png', 'biplane_s_001823.png', 'airbus_s_000496.png', 'amphibious_aircraft_s_000858.png', 'airbus_s_002105.png', 'seaplane_s_000383.png', 'attack_aircraft_s_000046.png', 'airbus_s_001634.png', 'stealth_fighter_s_000260.png', 'stealth_fighter_s_000660.png', 'amphibious_aircraft_s_000099.png', 'stealth_bomber_s_001226.png', 'jetliner_s_001426.png', 'stealth_fighter_s_000322.png', 'stealth_bomber_s_000450.png', 'airliner_s_000107.png', 'attack_aircraft_s_001034.png', 'stealth_fighter_s_000800.png', 'stealth_fighter_s_000480.png', 'stealth_fighter_s_001694.png', 'fighter_aircraft_s_001113.png', 'biplane_s_000147.png', 'monoplane_s_000180.png', 'stealth_bomber_s_000345.png', 'fighter_aircraft_s_001789.png', 'seaplane_s_001951.png', 'jumbo_jet_s_001366.png', 'stealth_fighter_s_000567.png', 'biplane_s_001055.png', 'fighter_s_000184.png', 'airbus_s_002170.png', 'propeller_plane_s_002223.png', 'stealth_bomber_s_001779.png', 'stealth_bomber_s_001079.png', 'twinjet_s_001521.png', 'fighter_s_000661.png', 'dive_bomber_s_001588.png', 'biplane_s_000307.png', 'stealth_fighter_s_001510.png', 'dive_bomber_s_001707.png', 'jetliner_s_000698.png', 'biplane_s_000424.png', 'propeller_plane_s_001289.png', 'dive_bomber_s_000496.png', 'jumbo_jet_s_000608.png', 'monoplane_s_000306.png', 'airbus_s_001507.png', 'jetliner_s_001345.png', 'reconnaissance_plane_s_001134.png', 'airliner_s_001404.png', 'airliner_s_000180.png', 'stealth_fighter_s_000388.png', 'airbus_s_000151.png', 'biplane_s_000403.png', 'airliner_s_001109.png', 'stealth_bomber_s_001448.png', 'monoplane_s_001175.png', 'multiengine_plane_s_000016.png', 'airliner_s_001732.png', 'fighter_aircraft_s_000931.png', 'airplane_s_000109.png', 'kamikaze_s_000046.png', 'stealth_bomber_s_001304.png', 'monoplane_s_001090.png', 'stealth_fighter_s_001260.png', 'propeller_plane_s_000032.png', 'plane_s_000023.png', 'propeller_plane_s_001282.png', 'fighter_s_000477.png', 'airliner_s_001016.png', 'stealth_bomber_s_001270.png', 'jumbojet_s_000867.png', 'jetliner_s_001974.png', 'airliner_s_000241.png', 'airliner_s_001406.png', 'airbus_s_000908.png', 'fighter_aircraft_s_000360.png', 'propeller_plane_s_000092.png', 'biplane_s_001667.png', 'biplane_s_000368.png', 'airliner_s_000034.png', 'stealth_bomber_s_001288.png', 'stealth_fighter_s_000931.png', 'jumbo_jet_s_001507.png', 'airbus_s_000892.png', 'biplane_s_000759.png', 'airliner_s_001652.png', 'airliner_s_001419.png', 'bomber_s_000001.png', 'propeller_plane_s_001131.png', 'monoplane_s_001044.png', 'stealth_bomber_s_000617.png', 'jumbo_jet_s_000220.png', 'biplane_s_000340.png', 'dive_bomber_s_000808.png', 'fighter_aircraft_s_001205.png', 'biplane_s_000689.png', 'jumbo_jet_s_000408.png', 'jumbojet_s_001182.png', 'plane_s_000587.png', 'biplane_s_000448.png', 'fighter_aircraft_s_000984.png', 'twinjet_s_000876.png', 'biplane_s_002001.png', 'airbus_s_000834.png', 'fighter_aircraft_s_000920.png', 'dive_bomber_s_001064.png', 'fighter_aircraft_s_000685.png', 'airbus_s_001033.png', 'stealth_bomber_s_000320.png', 'attack_aircraft_s_001674.png', 'airbus_s_001658.png', 'airbus_s_001343.png', 'airliner_s_000092.png', 'airliner_s_000537.png', 'fighter_aircraft_s_000668.png', 'stealth_bomber_s_000398.png', 'fighter_aircraft_s_000346.png', 'jumbo_jet_s_001093.png', 'jetliner_s_001411.png', 'airbus_s_001230.png', 'attack_aircraft_s_000133.png', 'airliner_s_001789.png', 'plane_s_000962.png', 'stealth_bomber_s_000287.png', 'biplane_s_001532.png', 'attack_aircraft_s_001777.png', 'multiengine_airplane_s_000363.png', 'airbus_s_000119.png', 'dive_bomber_s_001420.png', 'monoplane_s_000084.png', 'fighter_aircraft_s_000402.png', 'biplane_s_001806.png', 'twinjet_s_001360.png', 'jumbo_jet_s_000179.png', 'attack_aircraft_s_000587.png', 'jumbojet_s_000372.png', 'monoplane_s_000300.png', 'airbus_s_001606.png', 'jetliner_s_000018.png', 'stealth_fighter_s_000654.png', 'dive_bomber_s_001111.png', 'seaplane_s_000840.png', 'fighter_s_000653.png', 'dive_bomber_s_001165.png', 'twinjet_s_000266.png', 'fighter_s_000518.png', 'airbus_s_001758.png', 'jetliner_s_001079.png', 'biplane_s_001053.png', 'monoplane_s_000846.png', 'jetliner_s_000037.png', 'jumbo_jet_s_001783.png', 'stealth_fighter_s_001738.png', 'twinjet_s_000355.png', 'stealth_fighter_s_000182.png', 'fighter_aircraft_s_001192.png', 'airbus_s_001924.png', 'fighter_aircraft_s_000232.png', 'airliner_s_000184.png', 'propeller_plane_s_002255.png', 'multiengine_plane_s_000033.png', 'aeroplane_s_000029.png', 'dive_bomber_s_000473.png', 'stealth_fighter_s_000320.png', 'jumbojet_s_000317.png', 'airliner_s_001716.png', 'dive_bomber_s_000350.png', 'airbus_s_001185.png', 'biplane_s_000456.png', 'jumbojet_s_000833.png', 'biplane_s_001454.png', 'stealth_fighter_s_001026.png', 'airbus_s_000928.png', 'stealth_bomber_s_000601.png', 'twinjet_s_001197.png', 'stealth_bomber_s_002137.png', 'airbus_s_001732.png', 'stealth_fighter_s_000031.png', 'monoplane_s_000895.png', 'attack_aircraft_s_001490.png', 'twinjet_s_000690.png', 'fighter_aircraft_s_001161.png', 'jetliner_s_000699.png', 'dive_bomber_s_001125.png', 'airbus_s_001564.png', 'jumbo_jet_s_000013.png', 'fighter_aircraft_s_001605.png', 'jumbojet_s_000177.png', 'propeller_plane_s_001010.png', 'dive_bomber_s_001494.png', 'biplane_s_000762.png', 'airbus_s_001235.png', 'reconnaissance_plane_s_000104.png', 'dive_bomber_s_000572.png', 'propeller_plane_s_000842.png', 'stealth_fighter_s_000422.png', 'jetliner_s_000504.png', 'fighter_aircraft_s_001121.png', 'airbus_s_000245.png', 'airbus_s_000627.png', 'jetliner_s_000114.png', 'jumbojet_s_000094.png', 'amphibious_aircraft_s_000461.png', 'attack_aircraft_s_000001.png', 'stealth_fighter_s_001400.png', 'jetliner_s_000808.png', 'stealth_bomber_s_001392.png', 'multiengine_plane_s_000149.png', 'monoplane_s_001305.png', 'twinjet_s_001097.png', 'dive_bomber_s_000271.png', 'attack_aircraft_s_001787.png', 'airliner_s_000428.png', 'propeller_plane_s_001098.png', 'biplane_s_000631.png', 'jumbo_jet_s_001372.png', 'airliner_s_000765.png', 'plane_s_000482.png', 'attack_aircraft_s_001044.png', 'stealth_bomber_s_001398.png', 'monoplane_s_000242.png', 'twinjet_s_001442.png', 'fighter_aircraft_s_000316.png', 'jumbojet_s_000714.png', 'dive_bomber_s_000551.png', 'jetliner_s_000585.png', 'attack_aircraft_s_000115.png', 'airbus_s_001183.png', 'fighter_aircraft_s_000362.png', 'airliner_s_001027.png', 'monoplane_s_000926.png', 'biplane_s_001051.png', 'attack_aircraft_s_000250.png', 'biplane_s_001468.png', 'jumbo_jet_s_000217.png', 'fighter_aircraft_s_001211.png', 'airbus_s_000329.png', 'biplane_s_000073.png', 'stealth_fighter_s_001274.png', 'monoplane_s_000029.png', 'jetliner_s_000786.png', 'dive_bomber_s_001729.png', 'fighter_aircraft_s_001416.png', 'stealth_fighter_s_001491.png', 'jumbo_jet_s_000064.png', 'airbus_s_001446.png', 'airbus_s_000647.png', 'airbus_s_001344.png', 'monoplane_s_000461.png', 'monoplane_s_000164.png', 'jumbo_jet_s_001096.png', 'jumbo_jet_s_001524.png', 'stealth_bomber_s_000037.png', 'stealth_bomber_s_001631.png', 'biplane_s_000370.png', 'twinjet_s_001563.png', 'stealth_bomber_s_000174.png', 'monoplane_s_001330.png', 'dive_bomber_s_001682.png', 'fighter_aircraft_s_000532.png', 'fighter_s_001108.png', 'stealth_fighter_s_000234.png', 'stealth_bomber_s_001772.png', 'monoplane_s_000539.png', 'airliner_s_000860.png', 'amphibious_aircraft_s_000353.png', 'jumbo_jet_s_000511.png', 'stealth_fighter_s_000467.png', 'monoplane_s_001467.png', 'twinjet_s_001116.png', 'monoplane_s_000985.png', 'fighter_aircraft_s_001123.png', 'attack_aircraft_s_000320.png', 'monoplane_s_001269.png', 'fighter_aircraft_s_000699.png', 'fighter_aircraft_s_001648.png', 'airbus_s_001158.png', 'dive_bomber_s_001727.png', 'airbus_s_000152.png', 'attack_aircraft_s_000255.png', 'stealth_bomber_s_000363.png', 'twinjet_s_000269.png', 'attack_aircraft_s_000789.png', 'monoplane_s_001027.png', 'jumbojet_s_000186.png', 'amphibious_aircraft_s_000211.png', 'biplane_s_000711.png', 'airliner_s_001409.png', 'airliner_s_002076.png', 'stealth_bomber_s_002056.png', 'dive_bomber_s_001747.png', 'airliner_s_001138.png', 'airbus_s_000988.png', 'stealth_bomber_s_000568.png', 'jetliner_s_001052.png', 'attack_aircraft_s_001614.png', 'fighter_s_000275.png', 'biplane_s_001047.png', 'jetliner_s_000242.png', 'twinjet_s_000231.png', 'stealth_fighter_s_000576.png', 'stealth_bomber_s_001735.png', 'stealth_fighter_s_000318.png', 'stealth_fighter_s_001083.png', 'airliner_s_001547.png', 'dive_bomber_s_000233.png', 'stealth_bomber_s_001978.png', 'stealth_bomber_s_000582.png', 'twinjet_s_000625.png', 'multiengine_plane_s_000017.png', 'fighter_aircraft_s_000735.png', 'fighter_aircraft_s_000553.png', 'fighter_aircraft_s_001105.png', 'stealth_bomber_s_000889.png', 'airliner_s_002281.png', 'airplane_s_000048.png', 'fighter_aircraft_s_000069.png', 'fighter_aircraft_s_001124.png', 'jetliner_s_001502.png', 'reconnaissance_plane_s_000863.png', 'airbus_s_001471.png', 'airbus_s_001705.png', 'jumbo_jet_s_001676.png', 'biplane_s_001475.png', 'stealth_fighter_s_000104.png', 'airbus_s_001328.png', 'biplane_s_001927.png', 'attack_aircraft_s_000142.png', 'attack_aircraft_s_001470.png', 'stealth_bomber_s_001170.png', 'jetliner_s_002005.png', 'floatplane_s_000283.png', 'biplane_s_001424.png', 'multiengine_airplane_s_000298.png', 'fighter_aircraft_s_000111.png', 'attack_aircraft_s_000005.png', 'airbus_s_000725.png', 'jumbo_jet_s_000320.png', 'fighter_aircraft_s_001305.png', 'biplane_s_001136.png', 'airbus_s_000889.png', 'amphibious_aircraft_s_001416.png', 'dive_bomber_s_001543.png', 'airbus_s_000105.png', 'biplane_s_000860.png', 'jumbo_jet_s_000557.png', 'stealth_fighter_s_000526.png', 'jumbojet_s_000980.png', 'stealth_bomber_s_000917.png', 'airbus_s_002121.png', 'biplane_s_000029.png', 'airliner_s_000822.png', 'multiengine_airplane_s_000366.png', 'biplane_s_002282.png', 'fighter_aircraft_s_000247.png', 'stealth_fighter_s_001623.png', 'stealth_fighter_s_001511.png', 'airliner_s_000999.png', 'amphibious_aircraft_s_001195.png', 'biplane_s_000941.png', 'fighter_aircraft_s_001163.png', 'propeller_plane_s_000327.png', 'attack_aircraft_s_000423.png', 'biplane_s_000582.png', 'monoplane_s_001073.png', 'airbus_s_001307.png', 'airliner_s_000856.png', 'stealth_bomber_s_001879.png', 'stealth_fighter_s_001047.png', 'dive_bomber_s_000621.png', 'biplane_s_001252.png', 'jetliner_s_000350.png', 'jumbo_jet_s_001345.png', 'monoplane_s_001029.png', 'dive_bomber_s_000088.png', 'jumbojet_s_000282.png', 'fighter_s_001043.png', 'monoplane_s_001229.png', 'attack_aircraft_s_001431.png', 'stealth_bomber_s_002113.png', 'propeller_plane_s_001280.png', 'jumbo_jet_s_000008.png', 'stealth_fighter_s_000438.png', 'fighter_aircraft_s_000260.png', 'biplane_s_000524.png', 'biplane_s_001423.png', 'seaplane_s_001156.png', 'jetliner_s_001994.png', 'jetliner_s_001591.png', 'seaplane_s_001737.png', 'biplane_s_001567.png', 'dive_bomber_s_000633.png', 'plane_s_000041.png', 'jumbo_jet_s_001594.png', 'stealth_fighter_s_001498.png', 'dive_bomber_s_000930.png', 'twinjet_s_001419.png', 'attack_aircraft_s_000566.png', 'jumbo_jet_s_001184.png', 'plane_s_000579.png', 'airliner_s_001896.png', 'dive_bomber_s_001753.png', 'twinjet_s_000720.png', 'airliner_s_000095.png', 'monoplane_s_000208.png', 'stealth_fighter_s_000572.png', 'fighter_aircraft_s_001435.png', 'monoplane_s_001001.png', 'fighter_s_000047.png', 'stealth_bomber_s_000644.png', 'airbus_s_002033.png', 'twinjet_s_001311.png', 'fighter_aircraft_s_000304.png', 'airliner_s_001917.png', 'jetliner_s_001160.png', 'floatplane_s_000311.png', 'twinjet_s_000861.png', 'seaplane_s_001775.png', 'airbus_s_001400.png', 'airliner_s_001695.png', 'dive_bomber_s_000867.png', 'multiengine_airplane_s_000006.png', 'attack_aircraft_s_000217.png', 'dive_bomber_s_000837.png', 'twinjet_s_000948.png', 'jetliner_s_000743.png', 'biplane_s_000774.png', 'attack_aircraft_s_001173.png', 'stealth_bomber_s_000903.png', 'attack_aircraft_s_000769.png', 'biplane_s_001626.png', 'fighter_aircraft_s_000691.png', 'jumbo_jet_s_000021.png', 'airliner_s_001478.png', 'airbus_s_001649.png', 'dive_bomber_s_000637.png', 'airbus_s_000989.png', 'multiengine_airplane_s_000289.png', 'jetliner_s_000338.png', 'amphibious_aircraft_s_001213.png', 'twinjet_s_000715.png', 'attack_aircraft_s_001667.png', 'airliner_s_001898.png', 'biplane_s_000470.png', 'attack_aircraft_s_000351.png', 'seaplane_s_002093.png', 'attack_aircraft_s_001313.png', 'airliner_s_001885.png', 'airbus_s_001325.png', 'monoplane_s_001003.png', 'monoplane_s_000230.png', 'seaplane_s_000159.png', 'stealth_fighter_s_001215.png', 'jumbojet_s_000708.png', 'monoplane_s_001247.png', 'stealth_fighter_s_000330.png', 'airliner_s_001641.png', 'stealth_fighter_s_001609.png', 'twinjet_s_000378.png', 'stealth_bomber_s_000459.png', 'jetliner_s_001463.png', 'stealth_bomber_s_002139.png', 'stealth_bomber_s_001668.png', 'fighter_aircraft_s_000055.png', 'attack_aircraft_s_000834.png', 'airbus_s_001761.png', 'jetliner_s_001823.png', 'airliner_s_000861.png', 'propeller_plane_s_000089.png', 'attack_aircraft_s_000003.png', 'stealth_fighter_s_001772.png', 'biplane_s_001528.png', 'fighter_aircraft_s_000358.png', 'fighter_aircraft_s_001426.png', 'fighter_aircraft_s_001077.png', 'stealth_bomber_s_001573.png', 'fighter_aircraft_s_001436.png', 'monoplane_s_000404.png', 'propeller_plane_s_000342.png', 'jetliner_s_001542.png', 'dive_bomber_s_000763.png', 'monoplane_s_001253.png', 'stealth_fighter_s_000646.png', 'fighter_s_000182.png', 'fighter_aircraft_s_001312.png', 'stealth_fighter_s_000319.png', 'stealth_fighter_s_000406.png', 'stealth_fighter_s_000168.png', 'airbus_s_000922.png', 'dive_bomber_s_000817.png', 'stealth_bomber_s_002098.png', 'airbus_s_001122.png', 'jumbojet_s_001015.png', 'airbus_s_001816.png', 'dive_bomber_s_000563.png', 'airliner_s_002176.png', 'twinjet_s_000665.png', 'stealth_bomber_s_000007.png', 'twinjet_s_000403.png', 'stealth_bomber_s_000288.png', 'stealth_fighter_s_000257.png', 'airliner_s_001200.png', 'airbus_s_001437.png', 'airliner_s_001139.png', 'propeller_plane_s_000993.png', 'stealth_fighter_s_001276.png', 'attack_aircraft_s_000639.png', 'dive_bomber_s_001173.png', 'fighter_aircraft_s_000046.png', 'jetliner_s_000318.png', 'plane_s_000001.png', 'attack_aircraft_s_000991.png', 'propeller_plane_s_000015.png', 'seaplane_s_000042.png', 'airbus_s_000500.png', 'plane_s_000396.png', 'twinjet_s_000949.png', 'jumbojet_s_000176.png', 'airliner_s_000370.png', 'attack_aircraft_s_001545.png', 'airliner_s_001658.png', 'airbus_s_001912.png', 'twinjet_s_000318.png', 'attack_aircraft_s_000453.png', 'monoplane_s_000637.png', 'twinjet_s_000046.png', 'jetliner_s_000315.png', 'airbus_s_001776.png', 'twinjet_s_000213.png', 'fighter_aircraft_s_000803.png', 'jumbo_jet_s_001117.png', 'fighter_aircraft_s_001065.png', 'biplane_s_000152.png', 'dive_bomber_s_001332.png', 'stealth_fighter_s_000455.png', 'stealth_bomber_s_000189.png', 'jumbojet_s_000092.png', 'jumbojet_s_000174.png', 'airliner_s_001229.png', 'jumbojet_s_001058.png', 'propeller_plane_s_002049.png', 'twinjet_s_001531.png', 'amphibious_aircraft_s_001373.png', 'airliner_s_002211.png', 'dive_bomber_s_000111.png', 'biplane_s_000872.png', 'stealth_bomber_s_001164.png', 'biplane_s_000612.png', 'airliner_s_001879.png', 'airliner_s_001137.png', 'attack_aircraft_s_001671.png', 'airbus_s_000318.png', 'attack_aircraft_s_000241.png', 'fighter_aircraft_s_000297.png', 'fighter_aircraft_s_000325.png', 'fighter_aircraft_s_001264.png', 'airbus_s_000241.png', 'monoplane_s_001185.png', 'jumbo_jet_s_000254.png', 'jumbojet_s_000366.png', 'stealth_bomber_s_001966.png', 'fighter_aircraft_s_001646.png', 'stealth_bomber_s_000912.png', 'stealth_bomber_s_002029.png', 'propeller_plane_s_001092.png', 'attack_aircraft_s_001162.png', 'jumbo_jet_s_000275.png', 'airbus_s_001417.png', 'stealth_fighter_s_000040.png', 'stealth_bomber_s_000458.png', 'biplane_s_000357.png', 'biplane_s_001577.png', 'twinjet_s_000713.png', 'airbus_s_000736.png', 'airliner_s_001414.png', 'twinjet_s_000110.png', 'attack_aircraft_s_000815.png', 'stealth_bomber_s_001370.png', 'dive_bomber_s_000396.png', 'stealth_fighter_s_001127.png', 'fighter_aircraft_s_000257.png', 'monoplane_s_000177.png', 'jumbojet_s_000594.png', 'stealth_fighter_s_000349.png', 'jumbojet_s_000325.png', 'stealth_fighter_s_001170.png', 'jumbo_jet_s_001656.png', 'stealth_fighter_s_001050.png', 'fighter_aircraft_s_001491.png', 'airbus_s_000059.png', 'airbus_s_001334.png', 'jumbojet_s_000229.png', 'stealth_fighter_s_000550.png', 'jetliner_s_001796.png', 'stealth_bomber_s_002270.png', 'stealth_bomber_s_001737.png', 'stealth_bomber_s_000308.png', 'fighter_aircraft_s_000102.png', 'fighter_aircraft_s_000038.png', 'stealth_fighter_s_000896.png', 'plane_s_000471.png', 'airbus_s_000760.png', 'hangar_queen_s_000370.png', 'stealth_fighter_s_001082.png', 'twinjet_s_001018.png', 'airbus_s_000948.png', 'fighter_aircraft_s_000846.png', 'jetliner_s_000305.png', 'amphibious_aircraft_s_000216.png', 'amphibious_aircraft_s_000798.png', 'fighter_aircraft_s_001146.png', 'airbus_s_001211.png', 'seaplane_s_001891.png', 'attack_aircraft_s_001790.png', 'stealth_fighter_s_000819.png', 'biplane_s_000427.png', 'dive_bomber_s_001399.png', 'biplane_s_002254.png', 'jumbo_jet_s_001108.png', 'monoplane_s_000584.png', 'stealth_bomber_s_000246.png', 'stealth_fighter_s_000941.png', 'multiengine_airplane_s_000016.png', 'fighter_aircraft_s_000043.png', 'attack_aircraft_s_000757.png', 'airbus_s_000023.png', 'dive_bomber_s_000499.png', 'stealth_fighter_s_001029.png', 'attack_aircraft_s_001186.png', 'fighter_aircraft_s_000955.png', 'jumbo_jet_s_000005.png', 'fighter_aircraft_s_001779.png', 'monoplane_s_000166.png', 'biplane_s_002219.png', 'jetliner_s_001952.png', 'twinjet_s_001251.png', 'airliner_s_002233.png', 'airliner_s_001713.png', 'stealth_fighter_s_000627.png', 'seaplane_s_000970.png', 'monoplane_s_001059.png', 'airbus_s_000125.png', 'twinjet_s_001477.png', 'jetliner_s_000002.png', 'fighter_aircraft_s_001526.png', 'airbus_s_002169.png', 'airbus_s_000129.png', 'attack_aircraft_s_000954.png', 'stealth_fighter_s_000382.png', 'seaplane_s_001045.png', 'biplane_s_000200.png', 'monoplane_s_000280.png', 'stealth_fighter_s_001341.png', 'monoplane_s_001214.png', 'dive_bomber_s_000596.png', 'airliner_s_000090.png', 'airbus_s_001476.png', 'attack_aircraft_s_001191.png', 'airplane_s_000037.png', 'biplane_s_002178.png', 'stealth_fighter_s_001891.png', 'jumbo_jet_s_000900.png', 'propeller_plane_s_001059.png', 'twinjet_s_000793.png', 'multiengine_airplane_s_000394.png', 'propeller_plane_s_001005.png', 'airbus_s_001613.png', 'biplane_s_000539.png', 'jumbojet_s_000085.png', 'airbus_s_001857.png', 'jumbojet_s_000401.png', 'jumbo_jet_s_001118.png', 'biplane_s_001422.png', 'twinjet_s_000650.png', 'airbus_s_000679.png', 'stealth_bomber_s_000275.png', 'monoplane_s_001453.png', 'fighter_aircraft_s_000968.png', 'monoplane_s_000877.png', 'biplane_s_000162.png', 'jumbojet_s_000564.png', 'airbus_s_000112.png', 'jumbo_jet_s_000792.png', 'biplane_s_000775.png', 'twinjet_s_000874.png', 'airbus_s_001661.png', 'biplane_s_000116.png', 'attack_aircraft_s_000946.png', 'attack_aircraft_s_000908.png', 'twinjet_s_001259.png', 'airliner_s_002222.png', 'biplane_s_000281.png', 'stealth_fighter_s_000093.png', 'stealth_bomber_s_000855.png', 'fighter_s_000174.png', 'twinjet_s_000582.png', 'attack_aircraft_s_001588.png', 'jumbo_jet_s_001793.png', 'fighter_aircraft_s_001867.png', 'fighter_aircraft_s_001667.png', 'aeroplane_s_000004.png', 'stealth_bomber_s_001093.png', 'twinjet_s_000862.png', 'jetliner_s_000301.png', 'twinjet_s_000994.png', 'fighter_s_000295.png', 'fighter_aircraft_s_000262.png', 'attack_aircraft_s_000995.png', 'twinjet_s_001511.png', 'monoplane_s_001392.png', 'fighter_aircraft_s_000798.png', 'multiengine_airplane_s_000297.png', 'jumbo_jet_s_000302.png', 'attack_aircraft_s_000591.png', 'attack_aircraft_s_001345.png', 'dive_bomber_s_000628.png', 'dive_bomber_s_001066.png', 'stealth_fighter_s_000209.png', 'biplane_s_001830.png', 'stealth_fighter_s_000946.png', 'stealth_bomber_s_001766.png', 'fighter_aircraft_s_000004.png', 'stealth_fighter_s_000639.png', 'monoplane_s_000383.png', 'jumbo_jet_s_000322.png', 'propeller_plane_s_000954.png', 'jetliner_s_000328.png', 'stealth_bomber_s_000045.png', 'stealth_bomber_s_002100.png', 'stealth_bomber_s_002085.png', 'jumbojet_s_001410.png', 'airbus_s_002097.png', 'airliner_s_001663.png', 'fighter_aircraft_s_001438.png', 'monoplane_s_000015.png', 'stealth_fighter_s_000417.png', 'dive_bomber_s_000531.png', 'airliner_s_001864.png', 'propeller_plane_s_001201.png', 'airbus_s_000120.png', 'seaplane_s_001683.png', 'attack_aircraft_s_001546.png', 'airbus_s_000117.png', 'jetliner_s_000116.png', 'airbus_s_001713.png', 'jumbojet_s_000622.png', 'dive_bomber_s_000610.png', 'seaplane_s_001897.png', 'airbus_s_001702.png', 'fighter_s_000652.png', 'fighter_s_000181.png', 'airbus_s_001768.png', 'fighter_aircraft_s_001037.png', 'fighter_s_001039.png', 'fighter_aircraft_s_000755.png', 'plane_s_000307.png', 'hangar_queen_s_000001.png', 'monoplane_s_000080.png', 'dive_bomber_s_000591.png', 'twinjet_s_000835.png', 'stealth_fighter_s_001129.png', 'stealth_bomber_s_002134.png', 'fighter_aircraft_s_001262.png', 'jetliner_s_001903.png', 'airliner_s_000653.png', 'stealth_fighter_s_000952.png', 'fighter_aircraft_s_000916.png', 'stealth_fighter_s_000962.png', 'reconnaissance_plane_s_001027.png', 'stealth_bomber_s_000122.png', 'multiengine_airplane_s_000178.png', 'monoplane_s_000405.png', 'multiengine_airplane_s_000195.png', 'jetliner_s_000042.png', 'twinjet_s_001482.png', 'dive_bomber_s_000634.png', 'jumbo_jet_s_000056.png', 'monoplane_s_000446.png', 'aeroplane_s_000035.png', 'attack_aircraft_s_000684.png', 'biplane_s_000740.png', 'propeller_plane_s_000005.png', 'monoplane_s_000116.png', 'amphibious_aircraft_s_000005.png', 'stealth_fighter_s_000032.png', 'stealth_fighter_s_001077.png', 'dive_bomber_s_000602.png', 'airliner_s_001562.png', 'biplane_s_000054.png', 'jetliner_s_000264.png', 'monoplane_s_000408.png', 'dive_bomber_s_000019.png', 'jumbo_jet_s_000058.png', 'seaplane_s_000027.png', 'jetliner_s_000084.png', 'dive_bomber_s_000696.png', 'monoplane_s_001098.png', 'multiengine_airplane_s_000126.png', 'airliner_s_000225.png', 'fighter_aircraft_s_000675.png', 'twinjet_s_001548.png', 'fighter_aircraft_s_001630.png', 'stealth_fighter_s_001768.png', 'stealth_fighter_s_000704.png', 'stealth_bomber_s_001928.png', 'airliner_s_000710.png', 'airbus_s_000221.png', 'jumbo_jet_s_000044.png', 'airliner_s_001029.png', 'jetliner_s_001932.png', 'amphibious_aircraft_s_000141.png', 'biplane_s_000176.png', 'stealth_bomber_s_002297.png', 'airliner_s_001812.png', 'stealth_fighter_s_001754.png', 'propeller_plane_s_001118.png', 'jetliner_s_000887.png', 'fighter_aircraft_s_000143.png', 'plane_s_000114.png', 'stealth_fighter_s_000460.png', 'jumbo_jet_s_000534.png', 'monoplane_s_000958.png', 'stealth_bomber_s_002265.png', 'amphibious_aircraft_s_001091.png', 'fighter_s_001042.png', 'biplane_s_000442.png', 'airbus_s_001129.png', 'airbus_s_001589.png', 'twinjet_s_001328.png', 'biplane_s_000767.png', 'attack_aircraft_s_000764.png', 'biplane_s_000285.png', 'reconnaissance_plane_s_001071.png', 'airliner_s_002229.png', 'airplane_s_000021.png', 'airliner_s_000729.png', 'fighter_aircraft_s_001742.png', 'stealth_fighter_s_001460.png', 'fighter_s_000407.png', 'jumbo_jet_s_000793.png', 'propeller_plane_s_000128.png', 'propeller_plane_s_001438.png', 'jetliner_s_000311.png', 'monoplane_s_000567.png', 'jumbojet_s_000093.png', 'jumbo_jet_s_001049.png', 'reconnaissance_plane_s_000568.png', 'attack_aircraft_s_000412.png', 'biplane_s_001004.png', 'attack_aircraft_s_000607.png', 'biplane_s_001170.png', 'jumbo_jet_s_000958.png', 'jumbo_jet_s_000906.png', 'dive_bomber_s_000477.png', 'stealth_bomber_s_000838.png', 'biplane_s_002087.png', 'reconnaissance_plane_s_001135.png', 'attack_aircraft_s_000401.png', 'stealth_fighter_s_001154.png', 'stealth_fighter_s_000905.png', 'fighter_s_000280.png', 'jetliner_s_000502.png', 'airliner_s_001112.png', 'fighter_aircraft_s_000485.png', 'jetliner_s_000307.png', 'stealth_fighter_s_000033.png', 'stealth_fighter_s_000458.png', 'airbus_s_001221.png', 'fighter_aircraft_s_001778.png', 'attack_aircraft_s_000799.png', 'airbus_s_000230.png', 'seaplane_s_000942.png', 'jetliner_s_001531.png', 'multiengine_plane_s_000051.png', 'airbus_s_001362.png', 'propeller_plane_s_001033.png', 'attack_aircraft_s_000784.png', 'airbus_s_001360.png', 'jetliner_s_001757.png', 'monoplane_s_000608.png', 'jetliner_s_000336.png', 'biplane_s_001629.png', 'stealth_bomber_s_001666.png', 'airbus_s_001582.png', 'jumbojet_s_000754.png', 'stealth_bomber_s_001357.png', 'stealth_bomber_s_001764.png', 'airbus_s_000876.png', 'jetliner_s_000214.png', 'attack_aircraft_s_001417.png', 'twinjet_s_000834.png', 'stealth_bomber_s_001934.png', 'jumbojet_s_000664.png', 'dive_bomber_s_000016.png', 'stealth_bomber_s_001899.png', 'attack_aircraft_s_001433.png', 'seaplane_s_001022.png', 'jumbo_jet_s_000828.png', 'stealth_fighter_s_001439.png', 'plane_s_000986.png', 'jumbo_jet_s_000262.png', 'biplane_s_001492.png', 'stealth_bomber_s_002241.png', 'airbus_s_001973.png', 'twinjet_s_000149.png', 'fighter_s_000368.png', 'airliner_s_000086.png', 'biplane_s_000459.png', 'fighter_aircraft_s_001512.png', 'stealth_bomber_s_000282.png', 'airliner_s_000025.png', 'airbus_s_001934.png', 'airbus_s_000402.png', 'stealth_bomber_s_001012.png', 'stealth_bomber_s_000728.png', 'propeller_plane_s_000901.png', 'airliner_s_001889.png', 'biplane_s_001594.png', 'stealth_fighter_s_001480.png', 'biplane_s_000070.png', 'stealth_bomber_s_001336.png', 'attack_aircraft_s_001172.png', 'stealth_bomber_s_001036.png', 'airliner_s_000777.png', 'propeller_plane_s_000694.png', 'airliner_s_001599.png', 'airbus_s_001554.png', 'fighter_aircraft_s_001111.png', 'airbus_s_000346.png', 'biplane_s_000742.png', 'twinjet_s_001143.png', 'airbus_s_002086.png', 'twinjet_s_000523.png', 'biplane_s_000191.png', 'airliner_s_001786.png', 'twinjet_s_000142.png', 'stealth_bomber_s_000017.png', 'plane_s_000188.png', 'monoplane_s_000002.png', 'airbus_s_000224.png', 'dive_bomber_s_001509.png', 'fighter_aircraft_s_001134.png', 'biplane_s_000855.png', 'airbus_s_000327.png', 'airbus_s_001708.png', 'stealth_fighter_s_000802.png', 'jumbojet_s_000395.png', 'jumbojet_s_000647.png', 'plane_s_000322.png', 'fighter_aircraft_s_001752.png', 'biplane_s_000374.png', 'fighter_aircraft_s_000204.png', 'airplane_s_000014.png', 'jetliner_s_000870.png', 'airbus_s_001523.png', 'stealth_fighter_s_001896.png', 'airbus_s_001335.png', 'jumbojet_s_000836.png', 'biplane_s_002086.png', 'airbus_s_000420.png', 'plane_s_000166.png', 'interceptor_s_000089.png', 'attack_aircraft_s_001177.png', 'reconnaissance_plane_s_000556.png', 'fighter_s_000679.png', 'jumbojet_s_001621.png', 'attack_aircraft_s_001607.png', 'stealth_bomber_s_000267.png', 'stealth_fighter_s_000488.png', 'amphibious_aircraft_s_001496.png', 'attack_aircraft_s_001381.png', 'fighter_aircraft_s_000159.png', 'stealth_fighter_s_000950.png', 'airbus_s_001372.png', 'airbus_s_000717.png', 'attack_aircraft_s_000057.png', 'stealth_fighter_s_000238.png', 'fighter_aircraft_s_000404.png', 'attack_aircraft_s_001780.png', 'stealth_bomber_s_000099.png', 'stealth_fighter_s_001781.png', 'airliner_s_000280.png', 'airliner_s_002226.png', 'attack_aircraft_s_001098.png', 'fighter_aircraft_s_000264.png', 'stealth_fighter_s_001880.png', 'stealth_fighter_s_000805.png', 'multiengine_plane_s_000012.png', 'jetliner_s_000819.png', 'jumbo_jet_s_001744.png', 'airbus_s_002259.png', 'biplane_s_002193.png', 'jetliner_s_000685.png', 'dive_bomber_s_001720.png', 'fighter_aircraft_s_001201.png', 'biplane_s_000022.png', 'jetliner_s_001349.png', 'jumbojet_s_001476.png', 'dive_bomber_s_000875.png', 'stealth_fighter_s_000337.png', 'stealth_fighter_s_000453.png', 'stealth_fighter_s_001340.png', 'twinjet_s_000473.png', 'aeroplane_s_000036.png', 'twinjet_s_000005.png', 'plane_s_000836.png', 'jumbojet_s_000912.png', 'airbus_s_001820.png', 'airliner_s_001720.png', 'biplane_s_002059.png', 'monoplane_s_000178.png', 'stealth_bomber_s_000799.png', 'monoplane_s_000141.png', 'jumbojet_s_000090.png', 'stealth_bomber_s_000532.png', 'monoplane_s_000507.png', 'jetliner_s_001762.png', 'stealth_bomber_s_001157.png', 'monoplane_s_000018.png', 'attack_aircraft_s_001166.png', 'monoplane_s_000972.png', 'fighter_aircraft_s_000490.png', 'jetliner_s_001132.png', 'stealth_bomber_s_002229.png', 'biplane_s_000685.png', 'fighter_aircraft_s_001447.png', 'attack_aircraft_s_001298.png', 'jetliner_s_000497.png', 'attack_aircraft_s_001138.png', 'stealth_fighter_s_001465.png', 'plane_s_000841.png', 'fighter_aircraft_s_000028.png', 'stealth_bomber_s_000869.png', 'airliner_s_001785.png', 'airbus_s_000888.png', 'propeller_plane_s_000832.png', 'monoplane_s_000219.png', 'stealth_fighter_s_000008.png', 'jumbo_jet_s_000518.png', 'stealth_fighter_s_000803.png', 'dive_bomber_s_001629.png', 'dive_bomber_s_001027.png', 'stealth_bomber_s_000124.png', 'stealth_bomber_s_000916.png', 'airbus_s_001242.png', 'jumbojet_s_000111.png', 'attack_aircraft_s_001071.png', 'jetliner_s_001359.png', 'jumbo_jet_s_001564.png', 'attack_aircraft_s_001593.png', 'stealth_fighter_s_001819.png', 'stealth_fighter_s_000815.png', 'plane_s_000314.png', 'reconnaissance_plane_s_000342.png', 'airbus_s_001831.png', 'stealth_fighter_s_001805.png', 'biplane_s_001804.png', 'hangar_queen_s_000106.png', 'stealth_fighter_s_000831.png', 'aeroplane_s_000033.png', 'jumbo_jet_s_000009.png', 'stealth_bomber_s_001011.png', 'airliner_s_000182.png', 'airliner_s_000365.png', 'dive_bomber_s_000607.png', 'fighter_aircraft_s_000418.png', 'biplane_s_001360.png', 'dive_bomber_s_001117.png', 'attack_aircraft_s_001399.png', 'twinjet_s_001188.png', 'stealth_bomber_s_000719.png', 'dive_bomber_s_000982.png', 'stealth_fighter_s_001166.png', 'dive_bomber_s_000200.png', 'airbus_s_000150.png', 'airliner_s_000570.png', 'jumbojet_s_000276.png', 'twinjet_s_000956.png', 'fighter_aircraft_s_000728.png', 'attack_aircraft_s_000048.png', 'jetliner_s_000783.png', 'stealth_bomber_s_002189.png', 'stealth_fighter_s_000641.png', 'airbus_s_000055.png', 'attack_aircraft_s_001005.png', 'stealth_bomber_s_001447.png', 'jumbo_jet_s_000631.png', 'stealth_bomber_s_000809.png', 'fighter_aircraft_s_001140.png', 'airbus_s_001712.png', 'attack_aircraft_s_001405.png', 'seaplane_s_000023.png', 'attack_aircraft_s_000218.png', 'fighter_aircraft_s_001572.png', 'stealth_bomber_s_000966.png', 'monoplane_s_001408.png', 'airliner_s_001168.png', 'dive_bomber_s_000645.png', 'airbus_s_001327.png', 'dive_bomber_s_000993.png', 'twinjet_s_001168.png', 'monoplane_s_000004.png', 'stealth_fighter_s_000816.png', 'stealth_bomber_s_000260.png', 'monoplane_s_000351.png', 'stealth_bomber_s_000170.png', 'fighter_aircraft_s_000430.png', 'monoplane_s_001475.png', 'fighter_aircraft_s_000997.png', 'stealth_bomber_s_000991.png', 'propeller_plane_s_000105.png', 'jetliner_s_001576.png', 'airbus_s_001904.png', 'attack_aircraft_s_001060.png', 'stealth_fighter_s_001312.png', 'fighter_aircraft_s_001354.png', 'attack_aircraft_s_000184.png', 'airliner_s_001401.png', 'attack_aircraft_s_000384.png', 'monoplane_s_001070.png', 'twinjet_s_000330.png', 'biplane_s_002074.png', 'fighter_aircraft_s_000005.png', 'jumbojet_s_000361.png', 'twinjet_s_000710.png', 'jetliner_s_000657.png', 'jumbojet_s_000096.png', 'twinjet_s_000469.png', 'biplane_s_002311.png', 'biplane_s_000763.png', 'attack_aircraft_s_000538.png', 'jumbojet_s_000384.png', 'monoplane_s_000044.png', 'monoplane_s_001091.png', 'stealth_bomber_s_000119.png', 'fighter_s_000561.png', 'attack_aircraft_s_001252.png', 'jetliner_s_001297.png', 'attack_aircraft_s_001224.png', 'stealth_bomber_s_001880.png', 'attack_aircraft_s_000176.png', 'monoplane_s_000204.png', 'biplane_s_002118.png', 'biplane_s_000588.png', 'plane_s_001136.png', 'biplane_s_000760.png', 'plane_s_000470.png', 'fighter_s_000892.png', 'biplane_s_000041.png', 'monoplane_s_000357.png', 'dive_bomber_s_001743.png', 'propeller_plane_s_002119.png', 'monoplane_s_001015.png', 'attack_aircraft_s_001304.png', 'multiengine_airplane_s_000290.png', 'airbus_s_000662.png', 'airplane_s_000027.png', 'twinjet_s_000740.png', 'airliner_s_001175.png', 'fighter_aircraft_s_000334.png', 'stealth_fighter_s_000566.png', 'stealth_fighter_s_001872.png', 'fighter_aircraft_s_000800.png', 'attack_aircraft_s_000525.png', 'amphibious_aircraft_s_000792.png', 'fighter_aircraft_s_001162.png', 'amphibious_aircraft_s_001014.png', 'biplane_s_000620.png', 'dive_bomber_s_000463.png', 'stealth_fighter_s_000806.png', 'fighter_s_000558.png', 'jumbo_jet_s_000007.png', 'fighter_aircraft_s_000152.png', 'stealth_bomber_s_002249.png', 'amphibious_aircraft_s_000496.png', 'fighter_aircraft_s_000212.png', 'bomber_s_000005.png', 'biplane_s_001307.png', 'stealth_fighter_s_000599.png', 'propeller_plane_s_001100.png', 'fighter_aircraft_s_000769.png', 'monoplane_s_001355.png', 'airliner_s_000109.png', 'stealth_fighter_s_000359.png', 'airliner_s_002290.png', 'jumbojet_s_000379.png', 'fighter_aircraft_s_000816.png', 'airliner_s_001324.png', 'jetliner_s_001700.png', 'plane_s_000200.png', 'airbus_s_000682.png', 'attack_aircraft_s_001779.png', 'amphibious_aircraft_s_001033.png', 'jumbo_jet_s_001080.png', 'monoplane_s_001128.png', 'airbus_s_000554.png', 'monoplane_s_001161.png', 'dive_bomber_s_000133.png', 'monoplane_s_000246.png', 'biplane_s_001905.png', 'twinjet_s_000470.png', 'biplane_s_001974.png', 'fighter_aircraft_s_000456.png', 'stealth_fighter_s_000407.png', 'monoplane_s_001038.png', 'jetliner_s_000337.png', 'stealth_fighter_s_000079.png', 'fighter_s_000431.png', 'attack_aircraft_s_001272.png', 'stealth_fighter_s_001269.png', 'fighter_aircraft_s_000738.png', 'twinjet_s_000660.png', 'twinjet_s_000422.png', 'fighter_aircraft_s_000298.png', 'jumbo_jet_s_000317.png', 'seaplane_s_001493.png', 'biplane_s_000336.png', 'dive_bomber_s_000460.png', 'plane_s_000065.png', 'fighter_aircraft_s_000760.png', 'seaplane_s_002141.png', 'stealth_bomber_s_000040.png', 'jumbojet_s_000272.png', 'airbus_s_001258.png', 'twinjet_s_000450.png', 'stealth_bomber_s_000013.png', 'biplane_s_000858.png', 'airliner_s_001335.png', 'twinjet_s_000784.png', 'airbus_s_001549.png', 'airbus_s_000791.png', 'jetliner_s_001958.png', 'stealth_bomber_s_002325.png', 'twinjet_s_000726.png', 'floatplane_s_000313.png', 'stealth_bomber_s_000437.png', 'stealth_fighter_s_001593.png', 'jumbojet_s_001574.png', 'biplane_s_001007.png', 'jetliner_s_001304.png', 'propeller_plane_s_000007.png', 'airbus_s_001557.png', 'jetliner_s_001283.png', 'fighter_aircraft_s_001655.png', 'jumbo_jet_s_001085.png', 'airbus_s_000075.png', 'biplane_s_002095.png', 'airliner_s_002311.png', 'attack_aircraft_s_000763.png', 'twinjet_s_000922.png', 'jumbojet_s_000123.png', 'airliner_s_001461.png', 'stealth_fighter_s_000237.png', 'jumbo_jet_s_001277.png', 'fighter_s_000375.png', 'airplane_s_000084.png', 'jetliner_s_000356.png', 'airliner_s_001511.png', 'jetliner_s_001251.png', 'airliner_s_002199.png', 'stealth_bomber_s_002181.png', 'jumbo_jet_s_001157.png', 'biplane_s_001069.png', 'interceptor_s_000315.png', 'jetliner_s_000400.png', 'fighter_aircraft_s_001672.png', 'dive_bomber_s_000904.png', 'airbus_s_000497.png', 'jumbojet_s_000663.png', 'jumbojet_s_000646.png', 'jetliner_s_000004.png', 'airbus_s_001721.png', 'jumbo_jet_s_000851.png', 'fighter_aircraft_s_001187.png', 'twinjet_s_000221.png', 'jetliner_s_001478.png', 'airliner_s_001297.png', 'airliner_s_000158.png', 'monoplane_s_001110.png', 'attack_aircraft_s_000256.png', 'fighter_s_000635.png', 'biplane_s_001139.png', 'jetliner_s_000408.png', 'attack_aircraft_s_000212.png', 'propeller_plane_s_000242.png', 'dive_bomber_s_001537.png', 'jumbojet_s_000278.png', 'biplane_s_001599.png', 'jetliner_s_001485.png', 'monoplane_s_000964.png', 'fighter_aircraft_s_001470.png', 'airbus_s_001420.png', 'airliner_s_000276.png', 'biplane_s_001420.png', 'fighter_aircraft_s_001224.png', 'jumbo_jet_s_001155.png', 'biplane_s_000096.png', 'airliner_s_002001.png', 'airbus_s_001530.png', 'jumbojet_s_001234.png', 'attack_aircraft_s_000197.png', 'fighter_aircraft_s_001555.png', 'airliner_s_000174.png', 'stealth_fighter_s_000162.png', 'monoplane_s_001238.png', 'twinjet_s_001372.png', 'jetliner_s_000140.png', 'airbus_s_002243.png', 'airbus_s_001959.png', 'jumbo_jet_s_000791.png', 'stealth_fighter_s_001345.png', 'biplane_s_000118.png', 'jetliner_s_000821.png', 'fighter_aircraft_s_000007.png', 'attack_aircraft_s_000068.png', 'airliner_s_002236.png', 'jetliner_s_001020.png', 'stealth_fighter_s_001629.png', 'fighter_s_000575.png', 'floatplane_s_000304.png', 'jumbojet_s_000593.png', 'stealth_fighter_s_001716.png', 'stealth_fighter_s_000762.png', 'biplane_s_000192.png', 'fighter_aircraft_s_001009.png', 'jetliner_s_001959.png', 'amphibious_aircraft_s_000158.png', 'fighter_aircraft_s_001414.png', 'fighter_aircraft_s_001067.png', 'fighter_s_000955.png', 'stealth_bomber_s_001500.png', 'jumbo_jet_s_000396.png', 'jetliner_s_000081.png', 'stealth_bomber_s_001797.png', 'fighter_aircraft_s_000771.png', 'stealth_bomber_s_000890.png', 'fighter_aircraft_s_001755.png', 'fighter_aircraft_s_001118.png', 'fighter_aircraft_s_001775.png', 'airbus_s_000003.png', 'stealth_bomber_s_001954.png', 'jumbo_jet_s_001046.png', 'stealth_fighter_s_000497.png', 'stealth_bomber_s_001142.png', 'airbus_s_000292.png', 'attack_aircraft_s_001408.png', 'jumbo_jet_s_000362.png', 'fighter_s_000825.png', 'biplane_s_001588.png', 'jumbo_jet_s_000345.png', 'jetliner_s_001910.png', 'attack_aircraft_s_000713.png', 'attack_aircraft_s_000848.png', 'stealth_bomber_s_000096.png', 'airliner_s_002282.png', 'dive_bomber_s_000648.png', 'monoplane_s_000288.png', 'fighter_aircraft_s_000913.png', 'aeroplane_s_000037.png', 'stealth_fighter_s_001556.png', 'jetliner_s_000563.png', 'airbus_s_000024.png', 'stealth_fighter_s_000052.png', 'airliner_s_001918.png', 'attack_aircraft_s_000450.png', 'attack_aircraft_s_001544.png', 'stealth_bomber_s_000349.png', 'jumbojet_s_000139.png', 'airbus_s_000337.png', 'amphibious_aircraft_s_000415.png', 'monoplane_s_000664.png', 'amphibious_aircraft_s_001417.png', 'jumbojet_s_000290.png', 'jumbo_jet_s_000206.png', 'airliner_s_000842.png', 'stealth_fighter_s_000331.png', 'biplane_s_002064.png', 'stealth_fighter_s_001216.png', 'jumbo_jet_s_001024.png', 'dive_bomber_s_000045.png', 'jumbojet_s_001042.png', 'stealth_bomber_s_000957.png', 'twinjet_s_000548.png', 'monoplane_s_000832.png', 'fighter_aircraft_s_000300.png', 'biplane_s_001267.png', 'stealth_fighter_s_001141.png', 'amphibious_aircraft_s_001096.png', 'amphibious_aircraft_s_000564.png', 'airliner_s_001847.png', 'dive_bomber_s_001357.png', 'fighter_s_000958.png', 'jetliner_s_000927.png', 'jetliner_s_001562.png', 'aeroplane_s_000154.png', 'biplane_s_001869.png', 'jetliner_s_000125.png', 'twinjet_s_000950.png', 'stealth_bomber_s_001425.png', 'jumbojet_s_001575.png', 'airbus_s_000875.png', 'propeller_plane_s_000811.png', 'dive_bomber_s_001741.png', 'airliner_s_001660.png', 'plane_s_000833.png', 'multiengine_airplane_s_000407.png', 'stealth_bomber_s_000451.png', 'fighter_aircraft_s_000371.png', 'jumbojet_s_000645.png', 'stealth_fighter_s_000196.png', 'airbus_s_002290.png', 'twinjet_s_000315.png', 'monoplane_s_000625.png', 'airbus_s_001685.png', 'floatplane_s_000032.png', 'stealth_fighter_s_001362.png', 'propeller_plane_s_000785.png', 'fighter_aircraft_s_001876.png', 'propeller_plane_s_000859.png', 'airliner_s_000950.png', 'fighter_s_000033.png', 'propeller_plane_s_000963.png', 'airliner_s_000669.png', 'airbus_s_002240.png', 'jetliner_s_000303.png', 'attack_aircraft_s_001267.png', 'monoplane_s_000027.png', 'stealth_bomber_s_002055.png', 'twinjet_s_000224.png', 'airliner_s_000521.png', 'attack_aircraft_s_001210.png', 'dive_bomber_s_000498.png', 'jetliner_s_001037.png', 'airbus_s_000969.png', 'jumbo_jet_s_000361.png', 'biplane_s_001725.png', 'fighter_aircraft_s_001071.png', 'fighter_aircraft_s_000946.png', 'fighter_aircraft_s_000261.png', 'attack_aircraft_s_000325.png', 'stealth_fighter_s_001418.png', 'airliner_s_001914.png', 'biplane_s_002002.png', 'stealth_fighter_s_000024.png', 'jetliner_s_000348.png', 'jumbo_jet_s_001219.png', 'amphibious_aircraft_s_000002.png', 'jetliner_s_000696.png', 'jumbo_jet_s_000257.png', 'jetliner_s_000956.png', 'jetliner_s_001292.png', 'propeller_plane_s_002256.png', 'twinjet_s_001560.png', 'attack_aircraft_s_000590.png', 'biplane_s_001836.png', 'airbus_s_000062.png', 'dive_bomber_s_000179.png', 'airliner_s_001035.png', 'biplane_s_001601.png', 'biplane_s_000546.png', 'jumbojet_s_000561.png', 'fighter_s_000819.png', 'propeller_plane_s_000329.png', 'stealth_bomber_s_002136.png', 'airbus_s_001558.png', 'attack_aircraft_s_001276.png', 'stealth_bomber_s_000295.png', 'jumbojet_s_001011.png', 'airliner_s_001135.png', 'stealth_bomber_s_000931.png', 'stealth_bomber_s_001979.png', 'hangar_queen_s_000046.png', 'biplane_s_000042.png', 'biplane_s_000107.png', 'stealth_bomber_s_002250.png', 'amphibious_aircraft_s_000562.png', 'amphibious_aircraft_s_000122.png', 'stealth_fighter_s_000335.png', 'stealth_bomber_s_000168.png', 'airbus_s_001257.png', 'twinjet_s_001397.png', 'biplane_s_001707.png', 'twinjet_s_000487.png', 'amphibious_aircraft_s_000409.png', 'stealth_bomber_s_001088.png', 'stealth_bomber_s_000079.png', 'monoplane_s_001092.png', 'twinjet_s_001300.png', 'jumbojet_s_000213.png', 'airbus_s_001609.png', 'biplane_s_000412.png', 'dive_bomber_s_001486.png', 'jetliner_s_001049.png', 'jumbojet_s_001039.png', 'jumbojet_s_000365.png', 'airliner_s_000473.png', 'stealth_bomber_s_000034.png', 'jetliner_s_000693.png', 'stealth_bomber_s_000085.png', 'stealth_bomber_s_000764.png', 'airliner_s_001248.png', 'biplane_s_000750.png', 'fighter_aircraft_s_001413.png', 'jetliner_s_000035.png', 'fighter_aircraft_s_001352.png', 'monoplane_s_000079.png', 'reconnaissance_plane_s_000542.png', 'dive_bomber_s_001115.png', 'stealth_fighter_s_000173.png', 'fighter_aircraft_s_000450.png', 'attack_aircraft_s_001808.png', 'stealth_fighter_s_000418.png', 'jetliner_s_000695.png', 'airbus_s_001253.png', 'twinjet_s_000666.png', 'plane_s_000475.png', 'monoplane_s_001152.png', 'jumbojet_s_000589.png', 'monoplane_s_000005.png', 'twinjet_s_000443.png', 'fighter_aircraft_s_001236.png', 'airliner_s_001103.png', 'biplane_s_000534.png', 'jetliner_s_000993.png', 'twinjet_s_001380.png', 'biplane_s_000391.png', 'airbus_s_002245.png', 'stealth_fighter_s_001016.png', 'bomber_s_000007.png', 'twinjet_s_000656.png', 'stealth_fighter_s_000607.png', 'dive_bomber_s_001491.png', 'jetliner_s_000275.png', 'multiengine_airplane_s_000299.png', 'twinjet_s_000914.png', 'propeller_plane_s_001279.png', 'propeller_plane_s_001028.png', 'jumbojet_s_001506.png', 'airliner_s_001338.png', 'stealth_fighter_s_000133.png', 'airbus_s_000118.png', 'jumbojet_s_000447.png', 'airbus_s_002049.png', 'dive_bomber_s_000920.png', 'stealth_bomber_s_001713.png', 'plane_s_000578.png', 'jetliner_s_001453.png', 'dive_bomber_s_001201.png', 'seaplane_s_000496.png', 'attack_aircraft_s_000945.png', 'jetliner_s_000509.png', 'jumbojet_s_000270.png', 'reconnaissance_plane_s_000010.png', 'propeller_plane_s_000916.png', 'amphibious_aircraft_s_001447.png', 'jumbojet_s_000636.png', 'airbus_s_001031.png', 'jumbo_jet_s_001505.png', 'jumbo_jet_s_000737.png', 'jetliner_s_000017.png', 'plane_s_000008.png', 'attack_aircraft_s_000830.png', 'airliner_s_000178.png', 'stealth_fighter_s_001188.png', 'attack_aircraft_s_000484.png', 'airbus_s_001607.png', 'attack_aircraft_s_001024.png', 'propeller_plane_s_000027.png', 'airliner_s_000567.png', 'dive_bomber_s_001573.png', 'fighter_aircraft_s_000037.png', 'stealth_fighter_s_000738.png', 'biplane_s_001485.png', 'airbus_s_001739.png', 'attack_aircraft_s_001292.png', 'fighter_aircraft_s_001437.png', 'biplane_s_001237.png', 'jumbo_jet_s_001142.png', 'airbus_s_001791.png', 'fighter_aircraft_s_000429.png', 'dive_bomber_s_001571.png', 'jumbo_jet_s_001364.png', 'fighter_aircraft_s_001300.png', 'dive_bomber_s_000647.png', 'stealth_bomber_s_001896.png', 'airliner_s_000915.png', 'stealth_bomber_s_000087.png', 'attack_aircraft_s_000812.png', 'stealth_fighter_s_001074.png', 'stealth_bomber_s_002263.png', 'attack_aircraft_s_001501.png', 'jetliner_s_000406.png', 'twinjet_s_001210.png', 'twinjet_s_000739.png', 'fighter_aircraft_s_001821.png', 'twinjet_s_001363.png', 'attack_aircraft_s_000376.png', 'airliner_s_000739.png', 'twinjet_s_000313.png', 'biplane_s_001911.png', 'biplane_s_001665.png', 'jumbo_jet_s_000004.png', 'twinjet_s_000837.png', 'stealth_bomber_s_001656.png', 'biplane_s_001921.png', 'jumbojet_s_000966.png', 'jetliner_s_000501.png', 'jetliner_s_000055.png', 'airplane_s_000342.png', 'airliner_s_001152.png', 'jumbo_jet_s_001527.png', 'fighter_aircraft_s_001279.png', 'fighter_s_000668.png', 'fighter_aircraft_s_001735.png', 'attack_aircraft_s_000134.png', 'amphibious_aircraft_s_000967.png', 'seaplane_s_000007.png', 'jetliner_s_001848.png', 'airliner_s_001975.png', 'airbus_s_001329.png', 'stealth_bomber_s_002187.png', 'monoplane_s_001449.png', 'fighter_aircraft_s_001425.png', 'airliner_s_001515.png', 'biplane_s_000092.png', 'floatplane_s_000029.png', 'stealth_fighter_s_000797.png', 'jumbojet_s_001067.png', 'jumbo_jet_s_001072.png', 'stealth_bomber_s_000175.png', 'stealth_fighter_s_000139.png', 'airbus_s_001153.png', 'amphibious_aircraft_s_000827.png', 'stealth_bomber_s_001533.png', 'attack_aircraft_s_001421.png', 'seaplane_s_001860.png', 'seaplane_s_001132.png', 'multiengine_plane_s_000046.png', 'multiengine_airplane_s_000132.png', 'bomber_s_000106.png', 'jumbojet_s_000436.png', 'jetliner_s_000671.png', 'airliner_s_000851.png', 'monoplane_s_000867.png', 'stealth_fighter_s_001293.png', 'attack_aircraft_s_000004.png', 'seaplane_s_000772.png', 'dive_bomber_s_000223.png', 'stealth_bomber_s_002215.png', 'airliner_s_001196.png', 'seaplane_s_000716.png', 'jumbo_jet_s_001644.png', 'biplane_s_000630.png', 'airbus_s_001175.png', 'fighter_aircraft_s_001664.png', 'dive_bomber_s_000448.png', 'stealth_bomber_s_002178.png', 'stealth_bomber_s_001380.png', 'twinjet_s_001069.png', 'jumbo_jet_s_000635.png', 'twinjet_s_000823.png', 'twinjet_s_001512.png', 'jetliner_s_000330.png', 'fighter_aircraft_s_001796.png', 'stealth_bomber_s_000107.png', 'airbus_s_001559.png', 'attack_aircraft_s_000659.png', 'propeller_plane_s_000596.png', 'biplane_s_001305.png', 'amphibious_aircraft_s_000345.png', 'monoplane_s_001153.png', 'monoplane_s_001342.png', 'stealth_fighter_s_000233.png', 'stealth_bomber_s_001218.png', 'fighter_s_000940.png', 'biplane_s_001075.png', 'airliner_s_002310.png', 'propeller_plane_s_002230.png', 'monoplane_s_000477.png', 'multiengine_airplane_s_000024.png', 'stealth_fighter_s_000253.png', 'airbus_s_001962.png', 'airliner_s_000091.png', 'stealth_fighter_s_000122.png', 'fighter_s_000240.png', 'stealth_bomber_s_001776.png', 'bomber_s_000019.png', 'stealth_bomber_s_000178.png', 'biplane_s_002249.png', 'stealth_fighter_s_000633.png', 'stealth_fighter_s_000705.png', 'airbus_s_000132.png', 'airliner_s_002304.png', 'dive_bomber_s_000447.png', 'jumbo_jet_s_001322.png', 'airliner_s_000733.png', 'seaplane_s_000299.png', 'jetliner_s_001005.png', 'stealth_fighter_s_000115.png', 'biplane_s_000624.png', 'jumbo_jet_s_001076.png', 'jetliner_s_000862.png', 'stealth_fighter_s_000494.png', 'stealth_fighter_s_001042.png', 'monoplane_s_000283.png', 'reconnaissance_plane_s_000286.png', 'dive_bomber_s_001507.png', 'monoplane_s_001002.png', 'monoplane_s_000467.png', 'airbus_s_002035.png', 'jetliner_s_000874.png', 'stealth_bomber_s_001607.png', 'airliner_s_000922.png', 'monoplane_s_000740.png', 'amphibious_aircraft_s_000297.png', 'attack_aircraft_s_000823.png', 'biplane_s_000846.png', 'jumbojet_s_001009.png', 'stealth_fighter_s_001404.png', 'attack_aircraft_s_000090.png', 'stealth_bomber_s_002032.png', 'monoplane_s_000876.png', 'jumbojet_s_000121.png', 'stealth_fighter_s_000087.png', 'jumbo_jet_s_000224.png', 'monoplane_s_000127.png', 'stealth_fighter_s_001660.png', 'fighter_aircraft_s_000012.png', 'multiengine_plane_s_000073.png', 'jumbo_jet_s_001150.png', 'attack_aircraft_s_000191.png', 'twinjet_s_000116.png', 'jumbojet_s_001624.png', 'attack_aircraft_s_001591.png', 'jetliner_s_001698.png', 'biplane_s_001569.png', 'monoplane_s_000878.png', 'dive_bomber_s_001449.png', 'biplane_s_000788.png', 'airbus_s_002078.png', 'twinjet_s_000540.png', 'stealth_bomber_s_001882.png', 'fighter_aircraft_s_000876.png', 'fighter_s_000285.png', 'attack_aircraft_s_001676.png', 'multiengine_airplane_s_000183.png', 'fighter_aircraft_s_000884.png', 'attack_aircraft_s_001475.png', 'biplane_s_002235.png', 'stealth_fighter_s_001737.png', 'airliner_s_000272.png', 'bomber_s_000032.png', 'monoplane_s_001258.png', 'monoplane_s_001320.png', 'biplane_s_002069.png', 'fighter_aircraft_s_000889.png', 'plane_s_001285.png', 'biplane_s_001005.png', 'airbus_s_001775.png', 'biplane_s_000945.png', 'jetliner_s_000785.png', 'airbus_s_000804.png', 'amphibious_aircraft_s_000034.png', 'attack_aircraft_s_000554.png', 'fighter_aircraft_s_000239.png', 'stealth_bomber_s_000283.png', 'jumbojet_s_000757.png', 'jumbojet_s_000707.png', 'stealth_fighter_s_000172.png', 'stealth_fighter_s_000080.png', 'monoplane_s_000209.png', 'fighter_aircraft_s_000804.png', 'airliner_s_000393.png', 'monoplane_s_001176.png', 'twinjet_s_000042.png', 'jetliner_s_001276.png', 'plane_s_000387.png', 'jumbo_jet_s_000847.png', 'twinjet_s_001269.png', 'dive_bomber_s_000039.png', 'stealth_bomber_s_000494.png', 'airplane_s_000003.png', 'fighter_aircraft_s_000782.png', 'jumbojet_s_001205.png', 'jumbo_jet_s_000060.png', 'airbus_s_000925.png', 'jumbojet_s_000439.png', 'attack_aircraft_s_000201.png', 'stealth_bomber_s_001893.png', 'jumbojet_s_000513.png', 'amphibious_aircraft_s_000418.png', 'stealth_bomber_s_001898.png', 'fighter_s_000269.png', 'propeller_plane_s_000816.png', 'stealth_bomber_s_001510.png', 'attack_aircraft_s_000385.png', 'airbus_s_000718.png', 'jetliner_s_000508.png', 'fighter_s_000656.png', 'airbus_s_000746.png', 'fighter_aircraft_s_000720.png', 'airliner_s_001912.png', 'biplane_s_000699.png', 'biplane_s_001531.png', 'reconnaissance_plane_s_000352.png', 'stealth_fighter_s_000313.png', 'biplane_s_002308.png', 'multiengine_airplane_s_000077.png', 'stealth_fighter_s_001696.png', 'jetliner_s_000646.png', 'jetliner_s_000590.png', 'fighter_aircraft_s_001485.png', 'fighter_aircraft_s_000925.png', 'stealth_bomber_s_000009.png', 'fighter_s_000173.png', 'stealth_bomber_s_001430.png', 'attack_aircraft_s_000373.png', 'jetliner_s_000918.png', 'plane_s_000713.png', 'jetliner_s_001399.png', 'fighter_aircraft_s_000074.png', 'monoplane_s_001108.png', 'airbus_s_000331.png', 'fighter_aircraft_s_001410.png', 'attack_aircraft_s_001382.png', 'stealth_bomber_s_000473.png', 'airliner_s_000187.png', 'airbus_s_001785.png', 'twinjet_s_001120.png', 'jumbojet_s_000370.png', 'attack_aircraft_s_000575.png', 'airliner_s_000836.png', 'stealth_fighter_s_000898.png', 'jumbojet_s_000567.png', 'airbus_s_000681.png', 'stealth_fighter_s_001810.png', 'fighter_s_000903.png', 'biplane_s_001606.png', 'stealth_fighter_s_000039.png', 'jumbojet_s_001675.png', 'airplane_s_000006.png', 'monoplane_s_000861.png', 'jumbo_jet_s_000888.png', 'seaplane_s_002092.png', 'stealth_bomber_s_000572.png', 'jumbo_jet_s_000002.png', 'stealth_fighter_s_001883.png', 'airbus_s_000719.png', 'biplane_s_002200.png', 'monoplane_s_000048.png', 'stealth_bomber_s_000554.png', 'fighter_s_000198.png', 'plane_s_000463.png', 'airliner_s_001897.png', 'jumbo_jet_s_000523.png', 'stealth_fighter_s_000714.png', 'twinjet_s_000812.png', 'airbus_s_001909.png', 'stealth_bomber_s_001874.png', 'stealth_bomber_s_000751.png', 'airliner_s_001715.png', 'airbus_s_000709.png', 'amphibious_aircraft_s_000009.png', 'airliner_s_001133.png', 'twinjet_s_000190.png', 'attack_aircraft_s_000369.png', 'monoplane_s_000824.png', 'stealth_bomber_s_000424.png', 'stealth_bomber_s_000525.png', 'fighter_s_000095.png', 'plane_s_001282.png', 'jetliner_s_000605.png', 'fighter_aircraft_s_000098.png', 'fighter_aircraft_s_001142.png', 'stealth_fighter_s_000006.png', 'jetliner_s_001230.png', 'dive_bomber_s_000573.png', 'fighter_aircraft_s_000018.png', 'airliner_s_000233.png', 'stealth_bomber_s_000697.png', 'stealth_fighter_s_000632.png', 'airbus_s_001434.png', 'fighter_aircraft_s_000893.png', 'stealth_fighter_s_000915.png', 'jumbojet_s_001399.png', 'airbus_s_001023.png', 'airplane_s_000142.png', 'airbus_s_001789.png', 'jumbojet_s_000553.png', 'airliner_s_001209.png', 'airliner_s_001337.png', 'stealth_fighter_s_001204.png', 'biplane_s_000229.png', 'biplane_s_001534.png', 'propeller_plane_s_001690.png', 'monoplane_s_001545.png', 'jetliner_s_000735.png', 'stealth_fighter_s_000978.png', 'stealth_bomber_s_001800.png', 'airbus_s_001810.png', 'interceptor_s_000356.png', 'fighter_s_000750.png', 'plane_s_000776.png', 'airbus_s_000626.png', 'stealth_bomber_s_001184.png', 'airliner_s_000562.png', 'propeller_plane_s_001214.png', 'stealth_fighter_s_001502.png', 'biplane_s_001066.png', 'fighter_aircraft_s_000302.png', 'airliner_s_001981.png', 'jetliner_s_001445.png', 'attack_aircraft_s_001759.png', 'attack_aircraft_s_001254.png', 'monoplane_s_001384.png', 'stealth_fighter_s_000171.png', 'airbus_s_000005.png', 'airbus_s_001811.png', 'monoplane_s_000030.png', 'twinjet_s_000065.png', 'amphibious_aircraft_s_000569.png', 'stealth_fighter_s_000778.png', 'stealth_bomber_s_001696.png', 'multiengine_plane_s_000036.png', 'fighter_aircraft_s_000364.png', 'twinjet_s_000805.png', 'attack_aircraft_s_000339.png', 'airliner_s_001811.png', 'propeller_plane_s_002110.png', 'dive_bomber_s_000382.png', 'multiengine_plane_s_000162.png', 'jumbo_jet_s_000109.png', 'stealth_fighter_s_001666.png', 'airbus_s_000828.png', 'stealth_bomber_s_001032.png', 'stealth_bomber_s_000057.png', 'stealth_bomber_s_002000.png', 'multiengine_airplane_s_000365.png', 'stealth_fighter_s_000562.png', 'fighter_aircraft_s_000910.png', 'jumbo_jet_s_001666.png', 'airliner_s_000356.png', 'airbus_s_000231.png', 'dive_bomber_s_001426.png', 'airliner_s_000575.png', 'biplane_s_000712.png', 'airbus_s_001602.png', 'stealth_bomber_s_000863.png', 'biplane_s_000744.png', 'fighter_aircraft_s_000819.png', 'dive_bomber_s_000544.png', 'attack_aircraft_s_000468.png', 'airbus_s_001550.png', 'multiengine_airplane_s_000302.png', 'attack_aircraft_s_001274.png', 'airliner_s_000035.png', 'airbus_s_000494.png', 'multiengine_airplane_s_000276.png', 'airliner_s_001603.png', 'attack_aircraft_s_000312.png', 'multiengine_airplane_s_000382.png', 'attack_aircraft_s_001364.png', 'stealth_fighter_s_001210.png', 'multiengine_airplane_s_000258.png', 'stealth_bomber_s_000726.png', 'jumbojet_s_000181.png', 'stealth_bomber_s_001699.png', 'jetliner_s_001607.png', 'biplane_s_001477.png', 'fighter_aircraft_s_001869.png', 'propeller_plane_s_001183.png', 'dive_bomber_s_000185.png', 'twinjet_s_000885.png', 'fighter_aircraft_s_001276.png', 'fighter_aircraft_s_001856.png', 'biplane_s_000193.png', 'airliner_s_002128.png', 'propeller_plane_s_000895.png', 'stealth_fighter_s_000479.png', 'jetliner_s_000604.png', 'stealth_bomber_s_002110.png', 'airbus_s_001671.png', 'jumbo_jet_s_001159.png', 'airbus_s_001913.png', 'jumbojet_s_000179.png', 'biplane_s_001726.png', 'jetliner_s_001275.png', 'twinjet_s_001337.png', 'twinjet_s_000070.png', 'fighter_aircraft_s_001277.png', 'fighter_aircraft_s_000025.png', 'multiengine_airplane_s_000221.png', 'airbus_s_001621.png', 'jetliner_s_000500.png', 'airliner_s_000207.png', 'airbus_s_001318.png', 'amphibious_aircraft_s_000943.png', 'stealth_bomber_s_002087.png', 'monoplane_s_000967.png', 'fighter_aircraft_s_000557.png', 'floatplane_s_000192.png', 'propeller_plane_s_001513.png', 'dive_bomber_s_000574.png', 'monoplane_s_000996.png', 'biplane_s_000085.png', 'fighter_s_000948.png', 'stealth_fighter_s_000009.png', 'dive_bomber_s_000940.png', 'attack_aircraft_s_000864.png', 'stealth_bomber_s_001427.png', 'jetliner_s_001627.png', 'fighter_s_000142.png', 'twinjet_s_001134.png', 'stealth_fighter_s_000688.png', 'stealth_fighter_s_000991.png', 'multiengine_plane_s_000142.png', 'dive_bomber_s_000196.png', 'airbus_s_002261.png', 'monoplane_s_000362.png', 'jumbojet_s_000339.png', 'plane_s_000771.png', 'aeroplane_s_000032.png', 'jumbo_jet_s_000697.png', 'airliner_s_001661.png', 'stealth_fighter_s_001080.png', 'fighter_s_000524.png', 'airbus_s_000248.png', 'biplane_s_001281.png', 'airliner_s_001231.png', 'dive_bomber_s_001212.png', 'twinjet_s_001362.png', 'airliner_s_002202.png', 'stealth_fighter_s_000575.png', 'jumbojet_s_000523.png', 'multiengine_airplane_s_000338.png', 'stealth_bomber_s_001129.png', 'attack_aircraft_s_001390.png', 'jetliner_s_001692.png', 'fighter_aircraft_s_000365.png', 'fighter_aircraft_s_001381.png', 'airplane_s_000002.png', 'twinjet_s_000663.png', 'jetliner_s_000119.png', 'biplane_s_001811.png', 'stealth_bomber_s_002146.png', 'attack_aircraft_s_000796.png', 'jetliner_s_000105.png', 'stealth_fighter_s_000798.png', 'reconnaissance_plane_s_000662.png', 'jumbo_jet_s_001188.png', 'monoplane_s_001056.png', 'fighter_aircraft_s_001849.png', 'biplane_s_000474.png', 'airbus_s_001701.png', 'stealth_bomber_s_000775.png', 'airbus_s_001792.png', 'plane_s_000717.png', 'reconnaissance_plane_s_000462.png', 'stealth_fighter_s_000264.png', 'stealth_fighter_s_000503.png', 'dive_bomber_s_001135.png', 'monoplane_s_000425.png', 'jumbo_jet_s_000095.png', 'monoplane_s_000132.png', 'stealth_bomber_s_000663.png', 'stealth_fighter_s_001013.png', 'jumbojet_s_001628.png', 'biplane_s_001238.png', 'plane_s_000160.png', 'jumbojet_s_000568.png', 'airbus_s_001290.png', 'fighter_aircraft_s_000420.png', 'biplane_s_000910.png', 'airbus_s_000622.png', 'attack_aircraft_s_000361.png', 'amphibious_aircraft_s_001034.png', 'stealth_fighter_s_000809.png', 'fighter_aircraft_s_000744.png', 'fighter_aircraft_s_001624.png', 'airliner_s_001518.png', 'airliner_s_001853.png', 'biplane_s_001395.png', 'amphibious_aircraft_s_001412.png', 'airbus_s_001822.png', 'biplane_s_000417.png', 'stealth_fighter_s_000504.png', 'fighter_aircraft_s_000249.png', 'stealth_fighter_s_000674.png', 'attack_aircraft_s_001277.png', 'attack_aircraft_s_001218.png', 'attack_aircraft_s_000132.png', 'airliner_s_001907.png', 'attack_aircraft_s_000601.png', 'stealth_bomber_s_001799.png', 'plane_s_001095.png', 'jumbo_jet_s_000033.png', 'stealth_fighter_s_001371.png', 'seaplane_s_002116.png', 'airbus_s_000067.png', 'airbus_s_002180.png', 'attack_aircraft_s_000570.png', 'stealth_fighter_s_001749.png', 'twinjet_s_000873.png', 'attack_aircraft_s_000742.png', 'airliner_s_001955.png', 'monoplane_s_001375.png', 'airliner_s_000105.png', 'attack_aircraft_s_000451.png', 'fighter_aircraft_s_001315.png', 'jetliner_s_001689.png', 'twinjet_s_000670.png', 'dive_bomber_s_000042.png', 'multiengine_airplane_s_000327.png', 'airbus_s_000261.png', 'stealth_fighter_s_001838.png', 'fighter_s_000657.png', 'twinjet_s_000475.png', 'aeroplane_s_000021.png', 'twinjet_s_001297.png', 'fighter_s_000203.png', 'multiengine_airplane_s_000158.png', 'dive_bomber_s_001731.png', 'jumbo_jet_s_001078.png', 'biplane_s_000748.png', 'bomber_s_000115.png', 'plane_s_000647.png', 'attack_aircraft_s_001690.png', 'stealth_bomber_s_001212.png', 'jetliner_s_000013.png', 'jumbo_jet_s_000268.png', 'fighter_aircraft_s_000520.png', 'plane_s_000863.png', 'jetliner_s_000001.png', 'propeller_plane_s_001736.png', 'stealth_bomber_s_001504.png', 'attack_aircraft_s_000198.png', 'multiengine_airplane_s_000233.png', 'jetliner_s_001755.png', 'jumbojet_s_000718.png', 'fighter_aircraft_s_000879.png', 'fighter_s_000725.png', 'attack_aircraft_s_000273.png', 'jetliner_s_001181.png', 'jumbo_jet_s_001590.png', 'stealth_fighter_s_001043.png', 'jumbo_jet_s_000939.png', 'twinjet_s_000547.png', 'aeroplane_s_000043.png', 'biplane_s_000189.png', 'airbus_s_000524.png', 'jumbo_jet_s_000034.png', 'fighter_s_000052.png', 'propeller_plane_s_001737.png', 'stealth_fighter_s_001562.png', 'airliner_s_001131.png', 'stealth_bomber_s_002129.png', 'airplane_s_000090.png', 'dive_bomber_s_001581.png', 'stealth_fighter_s_000847.png', 'jetliner_s_001999.png', 'monoplane_s_000455.png', 'jetliner_s_000979.png', 'biplane_s_000637.png', 'jumbojet_s_000189.png', 'jetliner_s_001660.png', 'airliner_s_002223.png', 'dive_bomber_s_001359.png', 'twinjet_s_000298.png', 'stealth_fighter_s_000558.png', 'twinjet_s_001279.png', 'airbus_s_000762.png', 'jetliner_s_001797.png', 'airbus_s_000462.png', 'stealth_fighter_s_000468.png', 'fighter_aircraft_s_001727.png', 'propeller_plane_s_000087.png', 'stealth_fighter_s_001137.png', 'stealth_bomber_s_001401.png', 'airbus_s_002047.png', 'floatplane_s_000318.png', 'stealth_fighter_s_000636.png', 'monoplane_s_000558.png', 'biplane_s_001054.png', 'stealth_fighter_s_001422.png', 'jetliner_s_001325.png', 'biplane_s_001678.png', 'attack_aircraft_s_001424.png', 'attack_aircraft_s_001353.png', 'stealth_fighter_s_001873.png', 'airbus_s_001387.png', 'attack_aircraft_s_001499.png', 'stealth_bomber_s_002358.png', 'monoplane_s_001406.png', 'twinjet_s_000997.png', 'airbus_s_001519.png', 'fighter_aircraft_s_000167.png', 'stealth_fighter_s_001130.png', 'airliner_s_002073.png', 'dive_bomber_s_000386.png', 'jumbojet_s_000377.png', 'amphibious_aircraft_s_000003.png', 'fighter_s_000119.png', 'fighter_aircraft_s_001513.png', 'dive_bomber_s_000827.png', 'plane_s_000135.png', 'jetliner_s_000863.png', 'seaplane_s_001863.png', 'dive_bomber_s_000847.png', 'monoplane_s_000206.png', 'attack_aircraft_s_000953.png', 'jetliner_s_001256.png', 'airliner_s_001694.png', 'stealth_fighter_s_000392.png', 'seaplane_s_001233.png', 'airbus_s_001714.png', 'fighter_aircraft_s_001290.png', 'twinjet_s_000369.png', 'biplane_s_001710.png', 'stealth_bomber_s_001981.png', 'stealth_bomber_s_001046.png', 'jetliner_s_001748.png', 'stealth_fighter_s_001726.png', 'jumbojet_s_001271.png', 'stealth_bomber_s_000531.png', 'propeller_plane_s_001021.png', 'jumbo_jet_s_000071.png', 'multiengine_airplane_s_000347.png', 'airbus_s_000788.png', 'propeller_plane_s_002279.png', 'jumbojet_s_000227.png', 'biplane_s_001808.png', 'jetliner_s_001334.png', 'stealth_bomber_s_000859.png', 'stealth_bomber_s_001192.png', 'jumbo_jet_s_000555.png', 'jumbo_jet_s_000285.png', 'airbus_s_000901.png', 'attack_aircraft_s_000615.png', 'monoplane_s_000769.png', 'attack_aircraft_s_000678.png', 'dive_bomber_s_000114.png', 'stealth_fighter_s_000578.png', 'stealth_bomber_s_000366.png', 'dive_bomber_s_000772.png', 'jetliner_s_000780.png', 'jetliner_s_000602.png', 'jumbo_jet_s_001231.png', 'dive_bomber_s_001530.png', 'stealth_fighter_s_000975.png', 'dive_bomber_s_000011.png', 'attack_aircraft_s_000759.png', 'airliner_s_000768.png', 'twinjet_s_000954.png', 'stealth_bomber_s_000381.png', 'jumbojet_s_001647.png', 'jumbo_jet_s_000789.png', 'jumbo_jet_s_000105.png', 'fighter_aircraft_s_000565.png', 'twinjet_s_000727.png', 'stealth_bomber_s_002217.png', 'propeller_plane_s_000095.png', 'dive_bomber_s_000760.png', 'stealth_bomber_s_000999.png', 'biplane_s_000167.png', 'amphibious_aircraft_s_000111.png', 'attack_aircraft_s_001288.png', 'fighter_s_000367.png', 'twinjet_s_000952.png', 'aeroplane_s_000097.png', 'floatplane_s_000216.png', 'airliner_s_000186.png', 'biplane_s_000477.png', 'airbus_s_000400.png', 'stealth_fighter_s_000175.png', 'dive_bomber_s_000128.png', 'fighter_s_000162.png', 'monoplane_s_000304.png', 'attack_aircraft_s_001023.png', 'fighter_aircraft_s_001028.png', 'fighter_aircraft_s_001494.png', 'airbus_s_001315.png', 'dive_bomber_s_001190.png', 'stealth_fighter_s_001722.png', 'airbus_s_000263.png', 'stealth_fighter_s_000888.png', 'attack_aircraft_s_001015.png', 'dive_bomber_s_001193.png', 'biplane_s_000964.png', 'amphibious_aircraft_s_001405.png', 'seaplane_s_001447.png', 'fighter_aircraft_s_001271.png', 'amphibious_aircraft_s_000771.png', 'floatplane_s_000295.png', 'airliner_s_001662.png', 'airbus_s_001696.png', 'stealth_bomber_s_000303.png', 'multiengine_airplane_s_000275.png', 'stealth_bomber_s_002130.png', 'airliner_s_000185.png', 'biplane_s_000380.png', 'dive_bomber_s_000098.png', 'fighter_aircraft_s_001784.png', 'stealth_bomber_s_001511.png', 'fighter_s_000857.png', 'monoplane_s_001154.png', 'stealth_fighter_s_001203.png', 'dive_bomber_s_000470.png', 'attack_aircraft_s_001097.png', 'seaplane_s_000387.png', 'dive_bomber_s_000655.png', 'stealth_bomber_s_000003.png', 'fighter_aircraft_s_000822.png', 'multiengine_plane_s_000154.png', 'jetliner_s_000326.png', 'monoplane_s_001477.png', 'attack_aircraft_s_000037.png', 'propeller_plane_s_001087.png', 'jumbo_jet_s_000763.png', 'biplane_s_001901.png', 'monoplane_s_001160.png', 'attack_aircraft_s_000124.png', 'jumbojet_s_000196.png', 'floatplane_s_000191.png', 'biplane_s_000660.png', 'attack_aircraft_s_000551.png', 'stealth_fighter_s_001765.png', 'stealth_bomber_s_002323.png', 'reconnaissance_plane_s_000719.png', 'fighter_s_000179.png', 'fighter_aircraft_s_000591.png', 'twinjet_s_001388.png', 'plane_s_000094.png', 'dive_bomber_s_001675.png', 'stealth_bomber_s_002273.png', 'airliner_s_000168.png', 'twinjet_s_000321.png', 'multiengine_airplane_s_000356.png', 'attack_aircraft_s_001158.png', 'biplane_s_000619.png', 'jumbojet_s_001257.png', 'monoplane_s_000945.png', 'airliner_s_000668.png', 'jetliner_s_001697.png', 'biplane_s_001332.png', 'attack_aircraft_s_000974.png', 'fighter_aircraft_s_001548.png', 'twinjet_s_000015.png', 'monoplane_s_001433.png', 'stealth_bomber_s_001523.png', 'jumbo_jet_s_000091.png', 'airbus_s_000359.png', 'fighter_aircraft_s_000985.png', 'airbus_s_001682.png', 'jumbo_jet_s_001593.png', 'monoplane_s_001259.png', 'airliner_s_002248.png', 'multiengine_airplane_s_000247.png', 'stealth_bomber_s_001479.png', 'biplane_s_000025.png', 'airbus_s_000581.png', 'fighter_s_000278.png', 'biplane_s_001953.png', 'jumbo_jet_s_000868.png', 'stealth_bomber_s_002063.png', 'biplane_s_001340.png', 'stealth_bomber_s_000587.png', 'stealth_fighter_s_000577.png', 'biplane_s_002256.png', 'propeller_plane_s_000571.png', 'stealth_bomber_s_001139.png', 'jetliner_s_001684.png', 'biplane_s_001150.png', 'multiengine_airplane_s_000371.png', 'stealth_bomber_s_001326.png', 'airliner_s_000522.png', 'propeller_plane_s_000111.png', 'propeller_plane_s_000218.png', 'stealth_fighter_s_000840.png', 'propeller_plane_s_000097.png', 'fighter_aircraft_s_001815.png', 'multiengine_airplane_s_000207.png', 'stealth_fighter_s_000004.png', 'jetliner_s_000684.png', 'fighter_aircraft_s_001564.png', 'amphibious_aircraft_s_000686.png', 'jumbo_jet_s_001004.png', 'fighter_aircraft_s_000207.png', 'plane_s_000985.png', 'airbus_s_000520.png', 'multiengine_airplane_s_000239.png', 'airliner_s_001339.png', 'biplane_s_001132.png', 'stealth_bomber_s_000118.png', 'stealth_fighter_s_001213.png', 'airliner_s_000050.png', 'propeller_plane_s_001381.png', 'stealth_fighter_s_001904.png', 'stealth_fighter_s_001072.png', 'stealth_fighter_s_000017.png', 'dive_bomber_s_001294.png', 'biplane_s_002203.png', 'fighter_s_000845.png', 'stealth_fighter_s_001525.png', 'fighter_aircraft_s_000810.png', 'twinjet_s_001169.png', 'stealth_bomber_s_002114.png', 'attack_aircraft_s_001468.png', 'jumbo_jet_s_000773.png', 'jumbo_jet_s_001033.png', 'airbus_s_001278.png', 'twinjet_s_001453.png', 'stealth_bomber_s_002327.png', 'airbus_s_001261.png', 'fighter_aircraft_s_001412.png', 'fighter_s_000956.png', 'jumbo_jet_s_000020.png', 'fighter_s_000467.png', 'jetliner_s_001661.png', 'monoplane_s_000391.png', 'airbus_s_000266.png', 'fighter_aircraft_s_001202.png', 'monoplane_s_000256.png', 'jumbo_jet_s_001462.png', 'dive_bomber_s_001219.png', 'attack_aircraft_s_000568.png', 'dive_bomber_s_001699.png', 'stealth_fighter_s_001709.png', 'stealth_bomber_s_000642.png', 'stealth_fighter_s_000956.png', 'airbus_s_002102.png', 'dive_bomber_s_001097.png', 'multiengine_plane_s_000161.png', 'twinjet_s_001229.png', 'stealth_bomber_s_001033.png', 'fighter_aircraft_s_001160.png', 'stealth_fighter_s_000217.png', 'amphibious_aircraft_s_000929.png', 'stealth_fighter_s_001001.png', 'stealth_bomber_s_001734.png', 'floatplane_s_000093.png', 'stealth_bomber_s_002285.png', 'airbus_s_000825.png', 'airliner_s_001188.png', 'jumbojet_s_001200.png', 'stealth_bomber_s_000257.png', 'biplane_s_002036.png', 'airbus_s_001939.png', 'stealth_fighter_s_000910.png', 'airbus_s_001684.png', 'dive_bomber_s_000987.png', 'multiengine_airplane_s_000004.png', 'monoplane_s_001067.png', 'monoplane_s_000589.png', 'airbus_s_000700.png', 'dive_bomber_s_000316.png', 'biplane_s_000863.png', 'monoplane_s_000953.png', 'airliner_s_001988.png', 'jumbo_jet_s_001043.png', 'amphibious_aircraft_s_000876.png', 'fighter_aircraft_s_001303.png', 'attack_aircraft_s_001393.png', 'twinjet_s_001597.png', 'attack_aircraft_s_001235.png', 'monoplane_s_000454.png', 'jumbojet_s_000605.png', 'fighter_s_000951.png', 'fighter_aircraft_s_000385.png', 'stealth_fighter_s_000889.png', 'jumbojet_s_000579.png', 'airbus_s_002020.png', 'attack_aircraft_s_000528.png', 'fighter_aircraft_s_001034.png', 'propeller_plane_s_000902.png', 'jumbo_jet_s_000282.png', 'twinjet_s_001321.png', 'attack_aircraft_s_000832.png', 'fighter_aircraft_s_001194.png', 'airliner_s_000650.png', 'attack_aircraft_s_000011.png', 'biplane_s_001766.png', 'jetliner_s_001993.png', 'stealth_bomber_s_001863.png', 'fighter_aircraft_s_000550.png', 'jetliner_s_000313.png', 'airbus_s_001781.png', 'stealth_bomber_s_000193.png', 'airbus_s_001472.png', 'fighter_aircraft_s_000228.png', 'twinjet_s_001227.png', 'jetliner_s_000195.png', 'stealth_fighter_s_001348.png', 'dive_bomber_s_000556.png', 'stealth_bomber_s_001409.png', 'fighter_s_000619.png', 'jumbo_jet_s_001111.png', 'jumbo_jet_s_001475.png', 'seaplane_s_000776.png', 'biplane_s_001716.png', 'fighter_aircraft_s_001030.png', 'seaplane_s_001341.png', 'airbus_s_001754.png', 'twinjet_s_000961.png', 'stealth_fighter_s_000010.png', 'fighter_aircraft_s_000061.png', 'jumbojet_s_000598.png', 'dive_bomber_s_000231.png', 'airbus_s_001117.png', 'biplane_s_001247.png', 'jumbojet_s_000277.png', 'twinjet_s_000733.png', 'jumbo_jet_s_001525.png', 'biplane_s_000854.png', 'amphibious_aircraft_s_000036.png', 'attack_aircraft_s_000473.png', 'fighter_s_000396.png', 'airliner_s_001443.png', 'jumbo_jet_s_000029.png', 'jetliner_s_000683.png', 'multiengine_airplane_s_000109.png', 'stealth_bomber_s_001001.png', 'dive_bomber_s_001061.png', 'monoplane_s_000908.png', 'airbus_s_002195.png', 'biplane_s_000536.png', 'airliner_s_000087.png', 'dive_bomber_s_000686.png', 'dive_bomber_s_000938.png', 'jetliner_s_000126.png', 'fighter_s_000557.png', 'airliner_s_001754.png', 'monoplane_s_000174.png', 'monoplane_s_001356.png', 'airbus_s_002174.png', 'fighter_aircraft_s_001096.png', 'jetliner_s_001255.png', 'jetliner_s_000398.png', 'amphibious_aircraft_s_000126.png', 'jumbo_jet_s_000832.png', 'twinjet_s_000801.png', 'jumbo_jet_s_000917.png', 'amphibious_aircraft_s_001231.png', 'fighter_s_000562.png', 'biplane_s_000651.png', 'jetliner_s_000782.png', 'airbus_s_000771.png', 'fighter_aircraft_s_000356.png', 'monoplane_s_000641.png', 'airbus_s_000158.png', 'fighter_aircraft_s_000322.png', 'attack_aircraft_s_000988.png', 'attack_aircraft_s_000504.png', 'dive_bomber_s_000765.png', 'bomber_s_000072.png', 'amphibious_aircraft_s_000393.png', 'jumbojet_s_000301.png', 'biplane_s_001636.png', 'airbus_s_000872.png', 'airbus_s_001068.png', 'fighter_s_000183.png', 'airliner_s_001823.png', 'bomber_s_000138.png', 'airbus_s_002207.png', 'airbus_s_000166.png', 'jumbo_jet_s_001655.png', 'multiengine_airplane_s_000177.png', 'jetliner_s_001984.png', 'attack_aircraft_s_000788.png', 'twinjet_s_000200.png', 'plane_s_000700.png', 'airbus_s_000646.png', 'stealth_bomber_s_002184.png', 'fighter_aircraft_s_000042.png', 'plane_s_001096.png', 'airbus_s_000019.png', 'airbus_s_000140.png', 'biplane_s_000089.png', 'fighter_aircraft_s_001275.png', 'dive_bomber_s_001756.png', 'jetliner_s_000700.png', 'airbus_s_001540.png', 'stealth_fighter_s_000030.png', 'attack_aircraft_s_001566.png', 'stealth_fighter_s_001145.png', 'airbus_s_001548.png', 'jetliner_s_001581.png', 'stealth_fighter_s_000069.png', 'biplane_s_000859.png', 'monoplane_s_000790.png', 'dive_bomber_s_000319.png', 'stealth_fighter_s_000920.png', 'propeller_plane_s_001309.png', 'fighter_aircraft_s_001391.png', 'attack_aircraft_s_001116.png', 'stealth_bomber_s_001091.png', 'propeller_plane_s_000882.png', 'jetliner_s_000974.png', 'fighter_aircraft_s_001106.png', 'jetliner_s_001917.png', 'fighter_aircraft_s_000017.png', 'biplane_s_000110.png', 'jumbojet_s_000617.png', 'stealth_fighter_s_001297.png', 'dive_bomber_s_000569.png', 'biplane_s_000940.png', 'airbus_s_000683.png', 'attack_aircraft_s_000347.png', 'fighter_aircraft_s_001840.png', 'twinjet_s_000800.png', 'stealth_bomber_s_002095.png', 'monoplane_s_000014.png', 'biplane_s_000942.png', 'stealth_fighter_s_001487.png', 'airliner_s_001367.png', 'jetliner_s_001639.png', 'dive_bomber_s_001542.png', 'airliner_s_001274.png', 'airbus_s_001165.png', 'dive_bomber_s_000085.png', 'twinjet_s_000303.png', 'stealth_bomber_s_001798.png', 'multiengine_airplane_s_000406.png', 'fighter_aircraft_s_000896.png', 'dive_bomber_s_001194.png', 'monoplane_s_001359.png', 'biplane_s_000458.png', 'airplane_s_000028.png', 'propeller_plane_s_000652.png', 'jumbo_jet_s_001114.png', 'fighter_s_000754.png', 'multiengine_airplane_s_000005.png', 'stealth_bomber_s_000517.png', 'twinjet_s_000612.png', 'jumbojet_s_001517.png', 'jumbo_jet_s_000706.png', 'multiengine_airplane_s_000319.png', 'twinjet_s_001239.png', 'attack_aircraft_s_001202.png', 'stealth_fighter_s_000019.png', 'fighter_aircraft_s_000403.png', 'biplane_s_000282.png', 'twinjet_s_000506.png', 'airbus_s_000560.png', 'twinjet_s_000878.png', 'fighter_s_001070.png', 'jumbojet_s_000521.png', 'monoplane_s_001254.png', 'twinjet_s_000314.png', 'attack_aircraft_s_001321.png', 'biplane_s_000135.png', 'stealth_fighter_s_000886.png', 'stealth_bomber_s_000761.png', 'airliner_s_001878.png', 'twinjet_s_000202.png', 'jumbojet_s_000081.png', 'stealth_fighter_s_001120.png', 'stealth_bomber_s_001132.png', 'monoplane_s_000858.png', 'jumbojet_s_000952.png', 'airbus_s_001525.png', 'airliner_s_002059.png', 'twinjet_s_000123.png', 'monoplane_s_001144.png', 'jumbo_jet_s_000207.png', 'seaplane_s_000481.png', 'stealth_fighter_s_000959.png', 'biplane_s_000746.png', 'jumbo_jet_s_000266.png', 'stealth_fighter_s_001808.png', 'twinjet_s_000644.png', 'biplane_s_000749.png', 'dive_bomber_s_001362.png', 'airliner_s_001007.png', 'jetliner_s_000911.png', 'attack_aircraft_s_001385.png', 'airbus_s_001802.png', 'fighter_aircraft_s_000564.png', 'airbus_s_001722.png', 'airbus_s_001622.png', 'attack_aircraft_s_000753.png', 'airbus_s_000228.png', 'stealth_fighter_s_000091.png', 'monoplane_s_001174.png', 'dive_bomber_s_000825.png', 'monoplane_s_000115.png', 'biplane_s_000064.png', 'biplane_s_000944.png', 'attack_aircraft_s_000529.png', 'hangar_queen_s_000083.png', 'airbus_s_001332.png', 'airliner_s_000089.png', 'stealth_bomber_s_001172.png', 'stealth_bomber_s_000754.png', 'monoplane_s_000396.png', 'jetliner_s_000981.png', 'jumbojet_s_000200.png', 'biplane_s_000841.png', 'stealth_fighter_s_000086.png', 'fighter_aircraft_s_001394.png', 'dive_bomber_s_001033.png', 'jumbojet_s_000969.png', 'airbus_s_001436.png', 'fighter_aircraft_s_001206.png', 'stealth_fighter_s_001106.png', 'fighter_s_000473.png', 'multiengine_airplane_s_000141.png', 'propeller_plane_s_001375.png', 'propeller_plane_s_000835.png', 'airliner_s_001915.png', 'jumbojet_s_000686.png', 'biplane_s_000541.png', 'reconnaissance_plane_s_000362.png', 'fighter_aircraft_s_001444.png', 'jetliner_s_000755.png', 'fighter_aircraft_s_000805.png', 'dive_bomber_s_001057.png', 'dive_bomber_s_000824.png', 'fighter_aircraft_s_000052.png', 'stealth_bomber_s_000946.png', 'dive_bomber_s_000129.png', 'propeller_plane_s_001393.png', 'monoplane_s_001078.png', 'monoplane_s_000760.png', 'propeller_plane_s_000796.png', 'airliner_s_001653.png', 'attack_aircraft_s_001049.png', 'amphibious_aircraft_s_000167.png', 'jetliner_s_000294.png', 'multiengine_plane_s_000188.png', 'biplane_s_001052.png', 'jumbo_jet_s_001609.png', 'attack_aircraft_s_001309.png', 'stealth_bomber_s_000797.png', 'stealth_fighter_s_000036.png', 'stealth_fighter_s_001296.png', 'airliner_s_002221.png', 'airbus_s_000383.png', 'jumbo_jet_s_001190.png', 'attack_aircraft_s_000631.png', 'stealth_bomber_s_000259.png', 'stealth_bomber_s_001675.png', 'jumbojet_s_000007.png', 'reconnaissance_plane_s_000219.png', 'twinjet_s_001527.png', 'fighter_aircraft_s_000155.png', 'jetliner_s_001247.png', 'monoplane_s_000847.png', 'stealth_bomber_s_001003.png', 'jetliner_s_001296.png', 'dive_bomber_s_000010.png', 'hangar_queen_s_000162.png', 'jumbo_jet_s_000208.png', 'floatplane_s_000309.png', 'plane_s_000355.png', 'monoplane_s_000297.png', 'propeller_plane_s_000872.png', 'jumbojet_s_000346.png', 'airbus_s_000348.png', 'attack_aircraft_s_000902.png', 'attack_aircraft_s_000082.png', 'jetliner_s_000503.png', 'airbus_s_001674.png', 'airbus_s_000130.png', 'fighter_aircraft_s_000713.png', 'monoplane_s_000982.png', 'fighter_s_000574.png', 'seaplane_s_002004.png', 'stealth_fighter_s_000630.png', 'amphibious_aircraft_s_001307.png', 'attack_aircraft_s_000244.png', 'jumbojet_s_001463.png', 'amphibious_aircraft_s_000019.png', 'airliner_s_000930.png', 'twinjet_s_000894.png', 'airbus_s_000688.png', 'biplane_s_002029.png', 'fighter_aircraft_s_001213.png', 'airliner_s_002299.png', 'twinjet_s_001552.png', 'biplane_s_001071.png', 'fighter_s_000970.png', 'stealth_fighter_s_001692.png', 'monoplane_s_000173.png', 'dive_bomber_s_001015.png', 'twinjet_s_000624.png', 'stealth_fighter_s_001410.png', 'stealth_fighter_s_000638.png', 'airliner_s_001496.png', 'jumbo_jet_s_000562.png', 'airbus_s_001849.png', 'airbus_s_000677.png', 'jetliner_s_001152.png', 'stealth_bomber_s_002351.png', 'jumbojet_s_000281.png', 'jetliner_s_001518.png', 'hangar_queen_s_000048.png', 'monoplane_s_000264.png', 'stealth_fighter_s_000358.png', 'stealth_fighter_s_001430.png', 'amphibious_aircraft_s_000151.png', 'stealth_bomber_s_000806.png', 'plane_s_000834.png', 'fighter_aircraft_s_001711.png', 'monoplane_s_001314.png', 'amphibious_aircraft_s_000022.png', 'stealth_fighter_s_000715.png', 'airbus_s_001843.png', 'monoplane_s_000416.png', 'fighter_aircraft_s_001529.png', 'jetliner_s_001911.png', 'attack_aircraft_s_001154.png', 'stealth_bomber_s_001220.png', 'airliner_s_001230.png', 'seaplane_s_000037.png', 'monoplane_s_000409.png', 'airliner_s_002042.png', 'attack_aircraft_s_001662.png', 'airliner_s_001179.png', 'stealth_bomber_s_000463.png', 'attack_aircraft_s_000609.png', 'dive_bomber_s_001252.png', 'airliner_s_001008.png', 'stealth_bomber_s_000779.png', 'airbus_s_000013.png', 'airbus_s_000715.png', 'jumbo_jet_s_000831.png', 'dive_bomber_s_000370.png', 'airbus_s_001035.png', 'jumbo_jet_s_000609.png', 'airliner_s_000983.png', 'jumbo_jet_s_000957.png', 'fighter_aircraft_s_000205.png', 'jumbo_jet_s_001391.png', 'monoplane_s_000781.png', 'airliner_s_002150.png', 'twinjet_s_000791.png', 'jetliner_s_000316.png', 'jumbojet_s_000697.png', 'dive_bomber_s_001580.png', 'fighter_aircraft_s_001472.png', 'airliner_s_001801.png', 'monoplane_s_000229.png', 'fighter_aircraft_s_001835.png', 'stealth_bomber_s_000032.png', 'fighter_s_000021.png', 'stealth_bomber_s_001828.png', 'stealth_bomber_s_001493.png', 'airliner_s_000022.png', 'monoplane_s_000359.png', 'airbus_s_001363.png', 'biplane_s_001834.png', 'fighter_aircraft_s_000263.png', 'fighter_aircraft_s_001449.png', 'stealth_fighter_s_001107.png', 'airliner_s_000559.png', 'propeller_plane_s_000784.png', 'stealth_fighter_s_000210.png', 'fighter_aircraft_s_000655.png', 'airbus_s_001240.png', 'airliner_s_000080.png', 'amphibious_aircraft_s_000310.png', 'dive_bomber_s_001142.png', 'biplane_s_000961.png', 'airbus_s_001720.png', 'stealth_bomber_s_001616.png', 'twinjet_s_000615.png', 'twinjet_s_000210.png', 'twinjet_s_001062.png', 'jumbo_jet_s_000284.png', 'stealth_fighter_s_000701.png', 'fighter_aircraft_s_000772.png', 'biplane_s_002218.png', 'twinjet_s_001313.png', 'fighter_s_000567.png', 'attack_aircraft_s_001246.png', 'dive_bomber_s_001666.png', 'airbus_s_001808.png', 'jetliner_s_001460.png', 'jumbojet_s_000288.png', 'twinjet_s_001312.png', 'multiengine_plane_s_000120.png', 'multiengine_airplane_s_000085.png', 'attack_aircraft_s_001389.png', 'attack_aircraft_s_001308.png', 'jetliner_s_000317.png', 'fighter_aircraft_s_001598.png', 'airliner_s_001849.png', 'stealth_fighter_s_001479.png', 'biplane_s_000296.png', 'stealth_fighter_s_001207.png', 'stealth_bomber_s_002071.png', 'airliner_s_001353.png', 'jumbojet_s_001566.png', 'airbus_s_001562.png', 'stealth_bomber_s_001092.png', 'airplane_s_000238.png', 'fighter_s_001045.png', 'jumbo_jet_s_000915.png', 'fighter_aircraft_s_001334.png', 'fighter_aircraft_s_001556.png', 'stealth_bomber_s_000239.png', 'airbus_s_000226.png', 'stealth_fighter_s_000652.png', 'stealth_fighter_s_001554.png', 'stealth_bomber_s_000042.png', 'stealth_fighter_s_000690.png', 'jetliner_s_000435.png', 'stealth_fighter_s_001782.png', 'dive_bomber_s_001255.png', 'monoplane_s_001550.png', 'fighter_s_000666.png', 'fighter_aircraft_s_000127.png', 'biplane_s_001846.png', 'jumbo_jet_s_000325.png', 'jetliner_s_001695.png', 'propeller_plane_s_000031.png', 'stealth_bomber_s_000547.png', 'amphibious_aircraft_s_000639.png', 'airliner_s_000845.png', 'airbus_s_001639.png', 'stealth_bomber_s_001206.png', 'plane_s_000844.png', 'jetliner_s_001981.png', 'stealth_bomber_s_000114.png', 'attack_aircraft_s_000165.png', 'propeller_plane_s_001185.png', 'attack_aircraft_s_000398.png', 'twinjet_s_001452.png', 'airliner_s_000475.png', 'jetliner_s_000405.png', 'propeller_plane_s_000368.png', 'monoplane_s_000189.png', 'floatplane_s_000146.png', 'fighter_aircraft_s_001036.png', 'monoplane_s_000262.png', 'attack_aircraft_s_001070.png', 'attack_aircraft_s_000013.png', 'airliner_s_000303.png', 'twinjet_s_000106.png', 'jetliner_s_001904.png', 'biplane_s_000521.png', 'stealth_fighter_s_000916.png', 'fighter_aircraft_s_000049.png', 'attack_aircraft_s_001611.png', 'dive_bomber_s_000217.png', 'amphibious_aircraft_s_000004.png', 'fighter_s_000469.png', 'propeller_plane_s_001194.png', 'airliner_s_001670.png', 'jetliner_s_000412.png', 'attack_aircraft_s_001403.png', 'stealth_fighter_s_001564.png', 'attack_aircraft_s_000177.png', 'airbus_s_001082.png', 'fighter_aircraft_s_000999.png', 'biplane_s_000888.png', 'airliner_s_001929.png', 'jumbo_jet_s_001639.png', 'biplane_s_000943.png', 'jumbo_jet_s_000283.png', 'dive_bomber_s_000052.png', 'seaplane_s_001347.png', 'fighter_aircraft_s_000252.png', 'stealth_fighter_s_001069.png', 'jetliner_s_000936.png', 'airliner_s_001477.png', 'aeroplane_s_000200.png', 'jumbo_jet_s_001427.png', 'airplane_s_000085.png', 'airliner_s_001714.png', 'airplane_s_000234.png', 'biplane_s_000557.png', 'airbus_s_001593.png', 'stealth_bomber_s_000056.png', 'airliner_s_000195.png', 'jumbo_jet_s_001737.png', 'airbus_s_001260.png', 'airbus_s_000827.png', 'airbus_s_002100.png', 'jetliner_s_001396.png', 'jumbo_jet_s_000612.png', 'dive_bomber_s_001334.png', 'monoplane_s_001149.png', 'propeller_plane_s_000760.png', 'jetliner_s_000567.png', 'airliner_s_000150.png', 'airbus_s_000239.png', 'monoplane_s_000232.png', 'airbus_s_001848.png', 'airliner_s_000948.png', 'jumbo_jet_s_000226.png', 'fighter_aircraft_s_000461.png', 'twinjet_s_000186.png', 'airliner_s_000013.png', 'twinjet_s_001466.png', 'monoplane_s_000122.png', 'stealth_bomber_s_002061.png', 'twinjet_s_000910.png', 'airliner_s_000047.png', 'biplane_s_002248.png', 'seaplane_s_001859.png', 'twinjet_s_000380.png', 'jumbo_jet_s_000280.png', 'stealth_bomber_s_001311.png', 'airliner_s_000479.png', 'biplane_s_001415.png', 'jetliner_s_000791.png', 'airliner_s_000563.png', 'jumbojet_s_001576.png', 'monoplane_s_001112.png', 'propeller_plane_s_001400.png', 'seaplane_s_001334.png', 'jumbo_jet_s_000624.png', 'stealth_fighter_s_001206.png', 'airbus_s_001836.png', 'jumbojet_s_000766.png', 'airbus_s_001515.png', 'stealth_fighter_s_000483.png', 'airliner_s_000747.png', 'stealth_bomber_s_000446.png', 'biplane_s_001522.png', 'biplane_s_002285.png', 'biplane_s_000809.png', 'airbus_s_001824.png', 'fighter_aircraft_s_000113.png', 'biplane_s_000594.png', 'jumbo_jet_s_001056.png', 'twinjet_s_001045.png', 'stealth_bomber_s_000139.png', 'plane_s_001230.png', 'fighter_aircraft_s_000966.png', 'fighter_aircraft_s_001082.png', 'monoplane_s_000244.png', 'multiengine_airplane_s_000287.png', 'stealth_bomber_s_001497.png', 'stealth_fighter_s_001650.png', 'stealth_bomber_s_000268.png', 'dive_bomber_s_000399.png', 'jumbo_jet_s_000729.png', 'fighter_s_000820.png', 'jetliner_s_000354.png', 'twinjet_s_000722.png', 'twinjet_s_000708.png', 'dive_bomber_s_001257.png', 'jetliner_s_000904.png', 'attack_aircraft_s_000919.png', 'stealth_fighter_s_000130.png', 'stealth_fighter_s_000677.png', 'airbus_s_000609.png', 'twinjet_s_000419.png', 'fighter_aircraft_s_000259.png', 'multiengine_airplane_s_000134.png', 'stealth_bomber_s_001709.png', 'twinjet_s_001530.png', 'stealth_bomber_s_000969.png', 'stealth_fighter_s_001087.png', 'airbus_s_001862.png', 'stealth_fighter_s_001770.png', 'airliner_s_000992.png', 'jumbo_jet_s_000062.png', 'dive_bomber_s_000848.png', 'airbus_s_001697.png', 'biplane_s_000840.png', 'airbus_s_001933.png', 'monoplane_s_001197.png', 'jumbo_jet_s_000620.png', 'amphibious_aircraft_s_000449.png', 'airbus_s_000869.png', 'dive_bomber_s_001292.png', 'attack_aircraft_s_000664.png', 'propeller_plane_s_000451.png', 'monoplane_s_001332.png', 'attack_aircraft_s_001675.png', 'airbus_s_002026.png', 'airbus_s_000133.png', 'monoplane_s_000025.png', 'biplane_s_000495.png', 'jumbojet_s_001203.png', 'jumbojet_s_001430.png', 'propeller_plane_s_001193.png', 'aeroplane_s_000022.png', 'airbus_s_000830.png', 'attack_aircraft_s_000791.png', 'airbus_s_001379.png', 'jetliner_s_001956.png', 'plane_s_000980.png', 'stealth_bomber_s_000622.png', 'fighter_aircraft_s_000922.png', 'stealth_fighter_s_001584.png', 'stealth_bomber_s_002075.png', 'stealth_fighter_s_001592.png', 'jumbo_jet_s_001710.png', 'stealth_fighter_s_000702.png', 'airbus_s_001354.png', 'propeller_plane_s_000314.png', 'attack_aircraft_s_001437.png', 'dive_bomber_s_000061.png', 'propeller_plane_s_000727.png', 'airbus_s_000233.png', 'propeller_plane_s_001211.png', 'fighter_s_000376.png', 'jetliner_s_001890.png', 'dive_bomber_s_000751.png', 'biplane_s_000150.png', 'fighter_aircraft_s_000578.png', 'floatplane_s_000287.png', 'airliner_s_000051.png', 'twinjet_s_001387.png', 'monoplane_s_000045.png', 'plane_s_000035.png', 'airbus_s_000406.png', 'airbus_s_000008.png', 'fighter_aircraft_s_001010.png', 'jumbojet_s_000516.png', 'airbus_s_001015.png', 'twinjet_s_000209.png', 'reconnaissance_plane_s_000266.png', 'dive_bomber_s_001320.png', 'airplane_s_000358.png', 'fighter_aircraft_s_000942.png', 'airbus_s_002205.png', 'airliner_s_000664.png', 'airbus_s_000824.png', 'biplane_s_000780.png', 'stealth_fighter_s_001618.png', 'jumbojet_s_000190.png', 'fighter_aircraft_s_000588.png', 'airbus_s_001336.png', 'stealth_bomber_s_001149.png', 'stealth_fighter_s_000726.png', 'fighter_aircraft_s_001396.png', 'attack_aircraft_s_001253.png', 'propeller_plane_s_000637.png', 'multiengine_airplane_s_000308.png', 'fighter_aircraft_s_000924.png', 'monoplane_s_001290.png', 'monoplane_s_000671.png', 'airbus_s_001614.png', 'airbus_s_001672.png', 'stealth_bomber_s_001285.png', 'stealth_bomber_s_000218.png', 'jetliner_s_001945.png', 'propeller_plane_s_001091.png', 'airliner_s_000952.png', 'airliner_s_000234.png', 'jetliner_s_000011.png', 'airliner_s_001675.png', 'jetliner_s_000019.png', 'seaplane_s_002121.png', 'jumbo_jet_s_000065.png', 'stealth_bomber_s_000668.png', 'dive_bomber_s_001745.png', 'airliner_s_001916.png', 'fighter_s_000565.png', 'jumbojet_s_000012.png', 'jumbo_jet_s_001298.png', 'attack_aircraft_s_000126.png', 'stealth_fighter_s_000327.png', 'biplane_s_002057.png', 'jumbo_jet_s_001082.png', 'dive_bomber_s_001663.png', 'stealth_bomber_s_001416.png', 'airliner_s_000776.png', 'amphibious_aircraft_s_000935.png', 'monoplane_s_000748.png', 'amphibious_aircraft_s_000741.png', 'plane_s_000440.png', 'fighter_aircraft_s_001228.png', 'attack_aircraft_s_001221.png', 'twinjet_s_001308.png', 'jetliner_s_001372.png', 'airbus_s_000887.png', 'attack_aircraft_s_001621.png', 'stealth_bomber_s_001166.png', 'biplane_s_001536.png', 'propeller_plane_s_001277.png', 'stealth_bomber_s_001386.png', 'stealth_bomber_s_001440.png', 'stealth_fighter_s_001295.png', 'stealth_bomber_s_001746.png', 'airliner_s_002074.png', 'jetliner_s_001990.png', 'biplane_s_000356.png', 'jetliner_s_000222.png', 'airbus_s_001263.png', 'biplane_s_001193.png', 'jumbo_jet_s_001476.png', 'multiengine_airplane_s_000257.png', 'propeller_plane_s_001875.png', 'attack_aircraft_s_000181.png', 'attack_aircraft_s_000043.png', 'fighter_aircraft_s_000001.png', 'stealth_fighter_s_000666.png', 'biplane_s_000226.png', 'jetliner_s_001263.png', 'airbus_s_000926.png', 'jumbo_jet_s_000924.png', 'airbus_s_000820.png', 'jumbojet_s_000269.png', 'multiengine_airplane_s_000355.png', 'monoplane_s_001528.png', 'plane_s_000003.png', 'fighter_aircraft_s_000208.png', 'reconnaissance_plane_s_000745.png', 'airliner_s_000715.png', 'dive_bomber_s_001680.png', 'jumbo_jet_s_000859.png', 'jumbo_jet_s_001226.png', 'dive_bomber_s_000910.png', 'stealth_fighter_s_000102.png', 'attack_aircraft_s_000304.png', 'airliner_s_000874.png', 'airliner_s_000027.png', 'fighter_aircraft_s_000415.png', 'stealth_fighter_s_000383.png', 'monoplane_s_001129.png', 'stealth_bomber_s_000712.png', 'attack_aircraft_s_000088.png', 'jumbojet_s_000566.png', 'jumbojet_s_000279.png', 'airbus_s_000857.png', 'fighter_s_000572.png', 'amphibious_aircraft_s_000031.png', 'jetliner_s_001662.png', 'stealth_bomber_s_001684.png', 'airliner_s_000183.png', 'jetliner_s_000522.png', 'multiengine_plane_s_000170.png', 'seaplane_s_001238.png', 'jumbo_jet_s_000757.png', 'fighter_s_000018.png', 'stealth_fighter_s_000142.png', 'fighter_aircraft_s_001819.png', 'stealth_bomber_s_001442.png', 'bomber_s_000051.png', 'jumbo_jet_s_001503.png', 'fighter_aircraft_s_000157.png', 'fighter_s_000270.png', 'reconnaissance_plane_s_000605.png', 'stealth_bomber_s_000051.png', 'jumbojet_s_000654.png', 'reconnaissance_plane_s_000345.png', 'jumbojet_s_000206.png', 'propeller_plane_s_001665.png', 'propeller_plane_s_001486.png', 'dive_bomber_s_001734.png', 'monoplane_s_001322.png', 'stealth_fighter_s_001566.png', 'fighter_aircraft_s_000731.png', 'jumbo_jet_s_000066.png', 'twinjet_s_000728.png', 'twinjet_s_000316.png', 'airliner_s_001070.png', 'twinjet_s_001151.png', 'dive_bomber_s_000528.png', 'jetliner_s_001188.png', 'jumbo_jet_s_000378.png', 'stealth_fighter_s_001171.png', 'jumbo_jet_s_001501.png', 'stealth_bomber_s_000184.png', 'monoplane_s_001291.png', 'airbus_s_000077.png', 'fighter_aircraft_s_000705.png', 'fighter_aircraft_s_001567.png', 'fighter_aircraft_s_000664.png', 'stealth_fighter_s_000185.png', 'fighter_aircraft_s_000295.png', 'airliner_s_002043.png', 'twinjet_s_000990.png', 'fighter_aircraft_s_000023.png', 'airliner_s_002305.png', 'jumbo_jet_s_000423.png', 'jetliner_s_001519.png', 'stealth_fighter_s_001494.png', 'attack_aircraft_s_001025.png', 'monoplane_s_000040.png', 'airbus_s_001447.png', 'dive_bomber_s_000616.png', 'reconnaissance_plane_s_000711.png', 'stealth_bomber_s_000434.png', 'fighter_aircraft_s_000051.png', 'amphibious_aircraft_s_000481.png', 'amphibious_aircraft_s_000271.png', 'airbus_s_002282.png', 'monoplane_s_001385.png', 'airbus_s_001937.png', 'multiengine_airplane_s_000301.png', 'fighter_aircraft_s_000845.png', 'airbus_s_001027.png', 'attack_aircraft_s_001108.png', 'airbus_s_001972.png', 'monoplane_s_001363.png', 'fighter_aircraft_s_000745.png', 'stealth_bomber_s_001938.png', 'stealth_bomber_s_000934.png', 'stealth_bomber_s_000255.png', 'dive_bomber_s_000297.png', 'dive_bomber_s_000269.png', 'biplane_s_002228.png', 'twinjet_s_001329.png', 'hangar_queen_s_000179.png', 'twinjet_s_000783.png', 'jetliner_s_000399.png', 'stealth_bomber_s_001908.png', 'dive_bomber_s_000629.png', 'plane_s_000189.png', 'stealth_fighter_s_000350.png', 'attack_aircraft_s_001654.png', 'twinjet_s_000045.png', 'fighter_aircraft_s_000289.png', 'monoplane_s_000350.png', 'jumbo_jet_s_001414.png', 'jumbo_jet_s_000276.png', 'attack_aircraft_s_000621.png', 'aeroplane_s_000068.png', 'attack_aircraft_s_000685.png', 'biplane_s_001719.png', 'stealth_fighter_s_001366.png', 'monoplane_s_001122.png', 'stealth_fighter_s_000100.png', 'biplane_s_000675.png', 'jumbojet_s_001505.png', 'airbus_s_000438.png', 'twinjet_s_000176.png', 'stealth_bomber_s_001581.png', 'dive_bomber_s_000195.png', 'jetliner_s_000131.png', 'biplane_s_000244.png', 'airbus_s_000704.png', 'stealth_bomber_s_001587.png', 'jetliner_s_001789.png', 'twinjet_s_001215.png', 'jumbo_jet_s_000418.png', 'attack_aircraft_s_001653.png', 'propeller_plane_s_000935.png', 'seaplane_s_000527.png', 'jumbojet_s_000729.png', 'propeller_plane_s_000621.png', 'stealth_bomber_s_000638.png', 'dive_bomber_s_001109.png', 'attack_aircraft_s_000163.png', 'stealth_bomber_s_000967.png', 'biplane_s_000272.png', 'airliner_s_001689.png', 'fighter_aircraft_s_001749.png', 'biplane_s_000367.png', 'jetliner_s_000639.png', 'reconnaissance_plane_s_001068.png', 'twinjet_s_001190.png', 'monoplane_s_001019.png', 'seaplane_s_001958.png', 'biplane_s_000305.png', 'jetliner_s_001534.png', 'jetliner_s_001889.png', 'stealth_fighter_s_000850.png', 'stealth_bomber_s_000559.png', 'jumbo_jet_s_001045.png', 'airplane_s_000139.png', 'fighter_aircraft_s_001149.png', 'jumbo_jet_s_001669.png', 'airliner_s_001970.png', 'jetliner_s_001407.png', 'twinjet_s_001162.png', 'airliner_s_000571.png', 'airbus_s_001349.png', 'attack_aircraft_s_000178.png', 'monoplane_s_001007.png', 'attack_aircraft_s_001320.png', 'attack_aircraft_s_001572.png', 'fighter_s_000056.png', 'biplane_s_001709.png', 'propeller_plane_s_000043.png', 'dive_bomber_s_000705.png', 'monoplane_s_000705.png', 'stealth_bomber_s_001122.png', 'biplane_s_000862.png', 'aeroplane_s_000025.png', 'attack_aircraft_s_000091.png', 'airliner_s_000643.png', 'stealth_fighter_s_001046.png', 'monoplane_s_000419.png', 'airbus_s_001270.png', 'airliner_s_001888.png', 'stealth_bomber_s_000390.png', 'attack_aircraft_s_001605.png', 'twinjet_s_001274.png', 'stealth_fighter_s_000281.png', 'airplane_s_000108.png', 'attack_aircraft_s_000167.png', 'monoplane_s_001420.png', 'fighter_aircraft_s_001402.png', 'multiengine_airplane_s_000211.png', 'airliner_s_000373.png', 'twinjet_s_000555.png', 'jumbo_jet_s_000312.png', 'airbus_s_000246.png', 'monoplane_s_001323.png', 'attack_aircraft_s_000101.png', 'floatplane_s_000278.png', 'stealth_bomber_s_001610.png', 'airbus_s_000216.png', 'biplane_s_001059.png', 'jetliner_s_001987.png', 'propeller_plane_s_001101.png', 'jetliner_s_001694.png', 'airbus_s_001891.png', 'airliner_s_001223.png', 'multiengine_airplane_s_000107.png', 'stealth_bomber_s_000138.png', 'dive_bomber_s_001689.png', 'airliner_s_000932.png', 'fighter_aircraft_s_000254.png', 'monoplane_s_001058.png', 'stealth_bomber_s_000005.png', 'biplane_s_001654.png', 'airbus_s_001124.png', 'stealth_bomber_s_002349.png', 'stealth_fighter_s_000111.png', 'jumbojet_s_000648.png', 'stealth_fighter_s_000136.png', 'jumbo_jet_s_001147.png', 'airliner_s_000021.png', 'monoplane_s_001394.png', 'seaplane_s_001610.png', 'fighter_s_000279.png', 'airliner_s_001476.png', 'fighter_aircraft_s_001645.png', 'fighter_s_000744.png', 'attack_aircraft_s_000041.png', 'fighter_aircraft_s_000754.png', 'jumbojet_s_000383.png', 'monoplane_s_001543.png', 'stealth_bomber_s_000513.png', 'attack_aircraft_s_000588.png', 'airliner_s_001654.png', 'propeller_plane_s_001071.png', 'multiengine_plane_s_000110.png', 'stealth_bomber_s_000706.png', 'jetliner_s_000506.png', 'attack_aircraft_s_001589.png', 'fighter_s_000462.png', 'floatplane_s_000070.png', 'stealth_fighter_s_001775.png', 'attack_aircraft_s_001450.png', 'fighter_aircraft_s_001151.png', 'plane_s_000139.png', 'dive_bomber_s_000287.png', 'airbus_s_000874.png', 'stealth_bomber_s_000422.png', 'stealth_fighter_s_001116.png', 'stealth_bomber_s_002059.png', 'airliner_s_000876.png', 'monoplane_s_000168.png', 'airliner_s_001517.png', 'stealth_fighter_s_001467.png', 'fighter_aircraft_s_001806.png', 'biplane_s_002304.png', 'plane_s_000015.png', 'floatplane_s_000298.png', 'stealth_fighter_s_000094.png', 'twinjet_s_000481.png', 'dive_bomber_s_000198.png', 'fighter_aircraft_s_000024.png', 'stealth_bomber_s_000530.png', 'airbus_s_000625.png', 'stealth_fighter_s_000160.png', 'airliner_s_001565.png', 'airbus_s_001724.png', 'biplane_s_000724.png', 'twinjet_s_001250.png', 'dive_bomber_s_001353.png', 'jetliner_s_000963.png', 'airliner_s_000366.png', 'jumbo_jet_s_001026.png', 'airliner_s_001018.png', 'attack_aircraft_s_001106.png', 'twinjet_s_001307.png', 'airbus_s_000063.png', 'airliner_s_001136.png', 'jetliner_s_001515.png', 'twinjet_s_001474.png', 'dive_bomber_s_000109.png', 'airbus_s_000107.png', 'biplane_s_000144.png', 'biplane_s_000795.png', 'airbus_s_000326.png', 'fighter_s_000468.png', 'floatplane_s_000279.png', 'dive_bomber_s_000646.png', 'fighter_s_001110.png', 'stealth_fighter_s_000963.png', 'seaplane_s_000905.png', 'airplane_s_000120.png', 'airliner_s_001655.png', 'airbus_s_001535.png', 'stealth_fighter_s_001321.png', 'jumbojet_s_000740.png', 'jetliner_s_001392.png', 'attack_aircraft_s_000549.png', 'propeller_plane_s_000440.png', 'propeller_plane_s_002158.png', 'jetliner_s_000975.png', 'dive_bomber_s_000489.png', 'twinjet_s_001288.png', 'stealth_bomber_s_001109.png', 'dive_bomber_s_000131.png', 'monoplane_s_001137.png', 'twinjet_s_001423.png', 'twinjet_s_000420.png', 'biplane_s_001299.png', 'fighter_aircraft_s_001540.png', 'airliner_s_001397.png', 'biplane_s_001630.png', 'jumbojet_s_000465.png', 'attack_aircraft_s_000949.png', 'twinjet_s_000712.png', 'airbus_s_000002.png', 'stealth_bomber_s_000834.png', 'airbus_s_002042.png', 'airplane_s_000009.png', 'stealth_fighter_s_000028.png', 'twinjet_s_000947.png', 'attack_aircraft_s_000341.png', 'airbus_s_001341.png', 'multiengine_airplane_s_000084.png', 'jetliner_s_000163.png', 'jumbojet_s_000088.png', 'stealth_bomber_s_001592.png', 'dive_bomber_s_001523.png', 'airliner_s_001126.png', 'amphibious_aircraft_s_000052.png', 'jumbojet_s_000001.png', 'propeller_plane_s_000803.png', 'twinjet_s_000549.png', 'attack_aircraft_s_000274.png', 'airbus_s_001422.png', 'fighter_aircraft_s_000381.png', 'multiengine_plane_s_000090.png', 'jetliner_s_001600.png', 'airbus_s_002127.png', 'twinjet_s_000877.png', 'stealth_bomber_s_001085.png', 'fighter_aircraft_s_001052.png', 'amphibious_aircraft_s_001238.png', 'reconnaissance_plane_s_000827.png', 'attack_aircraft_s_001017.png', 'biplane_s_000514.png', 'dive_bomber_s_000295.png', 'biplane_s_000295.png', 'twinjet_s_000590.png', 'airliner_s_000560.png', 'fighter_aircraft_s_001210.png', 'fighter_aircraft_s_001433.png', 'dive_bomber_s_001312.png', 'jetliner_s_001291.png', 'fighter_aircraft_s_001590.png', 'fighter_s_000478.png', 'dive_bomber_s_000374.png', 'stealth_fighter_s_001801.png', 'dive_bomber_s_000921.png', 'plane_s_000098.png', 'monoplane_s_000234.png', 'stealth_fighter_s_000051.png', 'biplane_s_001533.png', 'stealth_fighter_s_001790.png', 'airliner_s_002054.png', 'stealth_fighter_s_000061.png', 'twinjet_s_000636.png', 'multiengine_plane_s_000025.png', 'fighter_aircraft_s_000423.png', 'airbus_s_002094.png', 'airliner_s_000278.png', 'seaplane_s_001639.png', 'fighter_aircraft_s_000328.png', 'stealth_bomber_s_001086.png', 'twinjet_s_000452.png', 'stealth_bomber_s_002328.png', 'biplane_s_001529.png', 'attack_aircraft_s_001502.png', 'monoplane_s_000103.png', 'twinjet_s_000654.png', 'airbus_s_001333.png', 'amphibious_aircraft_s_000349.png', 'dive_bomber_s_000004.png', 'stealth_bomber_s_001975.png', 'reconnaissance_plane_s_000044.png', 'fighter_aircraft_s_000323.png', 'amphibious_aircraft_s_001069.png', 'biplane_s_001909.png', 'fighter_s_000050.png', 'amphibious_aircraft_s_000124.png', 'seaplane_s_000551.png', 'airbus_s_001903.png', 'airliner_s_001332.png', 'monoplane_s_000119.png', 'biplane_s_000761.png', 'stealth_bomber_s_001783.png', 'jumbo_jet_s_001552.png', 'biplane_s_000657.png']\n"
          ]
        }
      ]
    },
    {
      "cell_type": "code",
      "source": [
        "# # Lấy ảnh từ OpenCV và infer\n",
        "# def infer_image(model, image_path, transform, class_names, device=device):\n",
        "#     model.eval()\n",
        "#     image_path = 'CIFAR-10-dataset/test/cat/0007.png'\n",
        "#     image = cv2.imread(image_path)\n",
        "#     image = cv2.cvtColor(image, cv2.COLOR_BGR2RGB)  # Chuyển đổi từ BGR sang RGB\n",
        "\n",
        "#     plt.imshow(image)\n",
        "#     plt.axis(\"off\")\n",
        "#     plt.title(\"Input Image\")\n",
        "#     plt.show()\n",
        "\n",
        "#     # Tiền xử lý ảnh\n",
        "#     image_tensor = transform(image).unsqueeze(0).to(device)\n",
        "\n",
        "#     # Infer\n",
        "#     with torch.inference_mode():\n",
        "#         preds = model(image_tensor)\n",
        "#         pred_class = preds.argmax(dim=1).item()\n",
        "\n",
        "#     print(f\"Predicted class: {class_names[pred_class]}\")\n",
        "#     return pred_class\n",
        "\n",
        "# # Lấy 2 ảnh và infer\n",
        "# from torchvision import transforms\n",
        "\n",
        "# # Transform giống như khi train\n",
        "# transform = transforms.Compose([\n",
        "#     transforms.ToPILImage(),\n",
        "#     transforms.Resize((32, 32)),  # CIFAR-10 dùng 32x32\n",
        "#     transforms.ToTensor(),\n",
        "#     transforms.Normalize(mean=[0.5, 0.5, 0.5], std=[0.5, 0.5, 0.5]),  # Sửa nếu bạn dùng chuẩn hóa khác\n",
        "# ])\n",
        "\n",
        "# image1_path = \"CIFAR-10-dataset/train/airplane/0001.png\"  # Đường dẫn ảnh 1\n",
        "# image2_path = \"CIFAR-10-dataset/test/cat/0007.png\"  # Đường dẫn ảnh 2\n",
        "\n",
        "# print(\"Inferencing Image 1:\")\n",
        "# infer_image(model, image1_path, transform, class_names)\n",
        "\n",
        "# print(\"Inferencing Image 2:\")\n",
        "# infer_image(model, image2_path, transform, class_names)"
      ],
      "metadata": {
        "id": "WthNYN9noErR"
      },
      "execution_count": null,
      "outputs": []
    },
    {
      "source": [
        "import cv2\n",
        "import numpy as np\n",
        "from torchvision import transforms\n",
        "\n",
        "# Transform về như trước khi train\n",
        "transform = transforms.Compose([\n",
        "    transforms.ToPILImage(),\n",
        "    transforms.Resize((32, 32)),\n",
        "    transforms.ToTensor(),\n",
        "    transforms.Normalize(mean=[0.5, 0.5, 0.5], std=[0.5, 0.5, 0.5]),  # Chuẩn hóa\n",
        "])\n",
        "\n",
        "# Lấy ảnh từ OpenCV và infer\n",
        "def infer_image(model, image_path, transform, class_names, device=device):\n",
        "    model.eval()\n",
        "    image_path = '/content/CIFAR-10-dataset/train/automobile/convertible_s_002809.png'\n",
        "    image = cv2.imread(image_path)\n",
        "\n",
        "\n",
        "    if image is None:\n",
        "        raise ValueError(f\"Không thể đọc hình ảnh từ đường dẫn: {image_path}\")\n",
        "\n",
        "    image = cv2.cvtColor(image, cv2.COLOR_BGR2RGB)  # Chuyển đổi từ BGR sang RGB\n",
        "\n",
        "    plt.imshow(image)\n",
        "    plt.axis(\"off\")\n",
        "    plt.title(\"Input Image\")\n",
        "    plt.show()\n",
        "\n",
        "    # Tiền xử lý ảnh\n",
        "    image_tensor = transform(image).unsqueeze(0).to(device)\n",
        "\n",
        "    # Infer\n",
        "    with torch.inference_mode():\n",
        "        preds = model(image_tensor)\n",
        "        pred_class = preds.argmax(dim=1).item()\n",
        "\n",
        "    print(f\"Predicted class: {class_names[pred_class]}\")\n",
        "    return pred_class\n",
        "\n",
        "# Lấy 2 ảnh và infer\n",
        "image1_path = \"/content/CIFAR-10-dataset/train/airplane/aeroplane_s_000004.png\"\n",
        "image2_path = \"/content/CIFAR-10-dataset/test/cat/alley_cat_s_001424.png\"\n",
        "\n",
        "print(\"Inferencing Image 1:\")\n",
        "infer_image(model, image1_path, transform, class_names)\n",
        "\n",
        "print(\"Inferencing Image 2:\")\n",
        "infer_image(model, image2_path, transform, class_names)"
      ],
      "cell_type": "code",
      "metadata": {
        "id": "4zvOiYvT-DEG",
        "colab": {
          "base_uri": "https://localhost:8080/",
          "height": 926
        },
        "outputId": "d56d8ac5-a37c-4201-c968-72f517cb6416"
      },
      "execution_count": null,
      "outputs": [
        {
          "output_type": "stream",
          "name": "stdout",
          "text": [
            "Inferencing Image 1:\n"
          ]
        },
        {
          "output_type": "display_data",
          "data": {
            "text/plain": [
              "<Figure size 640x480 with 1 Axes>"
            ],
            "image/png": "[encoded data removed]"
          },
          "metadata": {}
        },
        {
          "output_type": "stream",
          "name": "stdout",
          "text": [
            "Predicted class: automobile\n",
            "Inferencing Image 2:\n"
          ]
        },
        {
          "output_type": "display_data",
          "data": {
            "text/plain": [
              "<Figure size 640x480 with 1 Axes>"
            ],
            "image/png": "[encoded data removed]"
          },
          "metadata": {}
        },
        {
          "output_type": "stream",
          "name": "stdout",
          "text": [
            "Predicted class: automobile\n"
          ]
        },
        {
          "output_type": "execute_result",
          "data": {
            "text/plain": [
              "1"
            ]
          },
          "metadata": {},
          "execution_count": 100
        }
      ]
    }
  ]
}